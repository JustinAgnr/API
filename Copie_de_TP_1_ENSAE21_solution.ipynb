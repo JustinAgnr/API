{
  "cells": [
    {
      "cell_type": "markdown",
      "metadata": {
        "id": "view-in-github",
        "colab_type": "text"
      },
      "source": [
        "<a href=\"https://colab.research.google.com/github/JustinAgnr/API/blob/master/Copie_de_TP_1_ENSAE21_solution.ipynb\" target=\"_parent\"><img src=\"https://colab.research.google.com/assets/colab-badge.svg\" alt=\"Open In Colab\"/></a>"
      ]
    },
    {
      "cell_type": "markdown",
      "metadata": {
        "id": "LX7NZ1PG2TXt"
      },
      "source": [
        "#Goals of the practical session:\n",
        "- Understand a mimimal Python code implementing a memory efficient logistic regression from scratch. \n",
        "- Adapt the code to obtain some common features such as a quadratic kernel and a regularization.\n",
        "- Learn how to conveniently track and measure the performances of a set of models with several hyper parameters. \n",
        "\n",
        "#Part I: Logistic regression from scratch\n",
        "\n",
        "Download some data from a recent challenge\n",
        "- [Small version](http://go.criteo.net/criteo-ppml-challenge-adkdd21-dataset.zip) (284 Mo, more than enough for today)\n",
        "- [Complete version](http://go.criteo.net/criteo-ppml-challenge-adkdd21-dataset-raw-granular-data.csv.gz) (optional aditionnal data if you want to try different things - 50Go)\n",
        "\n",
        "For convience here it is a few batch commands downloading and extracting data in your drive:\n"
      ]
    },
    {
      "cell_type": "code",
      "execution_count": null,
      "metadata": {
        "colab": {
          "base_uri": "https://localhost:8080/"
        },
        "id": "xJT1-3d62K22",
        "outputId": "1319b134-52d9-41a3-be95-42a463306687"
      },
      "outputs": [
        {
          "name": "stdout",
          "output_type": "stream",
          "text": [
            "--2022-01-13 23:09:32--  http://go.criteo.net/criteo-ppml-challenge-adkdd21-dataset.zip\n",
            "Resolving go.criteo.net (go.criteo.net)... 178.250.0.152\n",
            "Connecting to go.criteo.net (go.criteo.net)|178.250.0.152|:80... connected.\n",
            "HTTP request sent, awaiting response... 302 Found\n",
            "Location: https://criteostorage.blob.core.windows.net/criteo-research-datasets/criteo_ppml_challenge_adkdd2021/criteo-ppml-challenge-adkdd21-dataset.zip [following]\n",
            "--2022-01-13 23:09:32--  https://criteostorage.blob.core.windows.net/criteo-research-datasets/criteo_ppml_challenge_adkdd2021/criteo-ppml-challenge-adkdd21-dataset.zip\n",
            "Resolving criteostorage.blob.core.windows.net (criteostorage.blob.core.windows.net)... 20.209.1.1\n",
            "Connecting to criteostorage.blob.core.windows.net (criteostorage.blob.core.windows.net)|20.209.1.1|:443... connected.\n",
            "HTTP request sent, awaiting response... 200 OK\n",
            "Length: 297834690 (284M) [application/zip]\n",
            "Saving to: ‘criteo-ppml-challenge-adkdd21-dataset.zip’\n",
            "\n",
            "criteo-ppml-challen 100%[===================>] 284.04M  1.71MB/s    in 3m 22s  \n",
            "\n",
            "2022-01-13 23:12:54 (1.41 MB/s) - ‘criteo-ppml-challenge-adkdd21-dataset.zip’ saved [297834690/297834690]\n",
            "\n",
            "Archive:  criteo-ppml-challenge-adkdd21-dataset.zip\n",
            "  inflating: aggregated_noisy_data_pairs.csv.gz  \n",
            "  inflating: aggregated_noisy_data_singles.csv.gz  \n",
            "  inflating: X_test.csv.gz           \n",
            "  inflating: X_train.csv.gz          \n",
            "  inflating: y_test.csv.gz           \n",
            "  inflating: y_train.csv.gz          \n"
          ]
        }
      ],
      "source": [
        "!wget http://go.criteo.net/criteo-ppml-challenge-adkdd21-dataset.zip\n",
        "!unzip criteo-ppml-challenge-adkdd21-dataset.zip\n",
        "!rm aggregated_noisy_data_pairs.csv.gz aggregated_noisy_data_singles.csv.gz  \n",
        "!gunzip X_test.csv.gz X_train.csv.gz y_test.csv.gz y_train.csv.gz\n",
        "!rm criteo-ppml-challenge-adkdd21-dataset.zip\n",
        "!sed -n 1,10000p X_test.csv > X_valid.csv #CARE we took 10k lines from test as validation.\n",
        "!sed -n 1,10000p y_test.csv > y_valid.csv"
      ]
    },
    {
      "cell_type": "markdown",
      "metadata": {
        "id": "RjxqG5PTXy94"
      },
      "source": [
        "A quick look to the 10 first rows of the data shows there is 19 categorical features already hashed as integers. All of them are related to the proability of a click event and are related to observed events of a user either on a publisher website, either on an advertiser website. The large dataset correspond to one day of data on one platform. "
      ]
    },
    {
      "cell_type": "code",
      "execution_count": null,
      "metadata": {
        "colab": {
          "base_uri": "https://localhost:8080/"
        },
        "id": "o5vpJ7qb3kzP",
        "outputId": "637a912d-3ea2-4b9f-de2c-315b9bb0abbd"
      },
      "outputs": [
        {
          "name": "stdout",
          "output_type": "stream",
          "text": [
            "hash_0,hash_1,hash_2,hash_3,hash_4,hash_5,hash_6,hash_7,hash_8,hash_9,hash_10,hash_11,hash_12,hash_13,hash_14,hash_15,hash_16,hash_17,hash_18\n",
            "187652,199446,480789,-84947,-419788,-356697,-73473,-201336,336272,39558,171177,-332795,-197733,-102727,-267888,-324676,172595,-1100,182002\n",
            "-196263,-137304,480789,-428062,347621,-310777,220982,-201336,336272,301505,406906,-265634,467836,-437971,26095,-328942,-400942,-429456,346045\n",
            "-216157,-137304,480789,-428062,347621,-310777,167271,-201336,359042,-311089,306285,-332795,-283182,-102727,495950,-324676,326477,-317260,182002\n",
            "11652,-432181,480789,-169356,287595,-310777,-332084,-201336,310671,409356,-496385,-332795,236957,-102727,-20670,-324676,-153563,258932,-124383\n",
            "224181,-455384,313949,-428062,166559,-310777,167271,-201336,127803,409356,-23318,-332795,286937,35444,335698,-324676,132133,-355723,-124383\n",
            "486387,-432181,480789,-169356,-419788,-356697,-484965,-201336,-428527,-139213,25441,-468602,315199,-102727,-421972,-241726,306269,-271996,346045\n",
            "442096,-411158,480789,-169356,-419788,-356697,-438087,-201336,-22347,-237302,-43085,-449303,-350579,-102727,193941,32790,26518,-27708,346045\n",
            "-47443,-432181,480789,-2679,347621,-310777,167271,-201336,336272,-105474,-7296,-332795,286937,-102727,-103791,-324676,326477,-251246,182002\n",
            "445274,-432181,480789,-428062,287595,-356697,-438087,-201336,-22347,39558,207091,-332795,-473714,-13772,335698,-324676,14846,311823,182002\n"
          ]
        }
      ],
      "source": [
        "!head X_test.csv"
      ]
    },
    {
      "cell_type": "code",
      "execution_count": null,
      "metadata": {
        "colab": {
          "base_uri": "https://localhost:8080/"
        },
        "id": "DPt7pg7NOcc3",
        "outputId": "7be659c1-eb12-4a26-f049-6f6d8dd12572"
      },
      "outputs": [
        {
          "name": "stdout",
          "output_type": "stream",
          "text": [
            "click,sale\n",
            "1.0,0.0\n",
            "0.0,0.0\n",
            "0.0,0.0\n",
            "1.0,0.0\n",
            "0.0,0.0\n",
            "0.0,0.0\n",
            "0.0,0.0\n",
            "0.0,0.0\n",
            "0.0,0.0\n"
          ]
        }
      ],
      "source": [
        "!head y_test.csv"
      ]
    },
    {
      "cell_type": "markdown",
      "metadata": {
        "id": "amuBvEE72Tno"
      },
      "source": [
        "Form the small dataset, it is possible to directly use almost any software able to perform a logistic regression. Depending on your hardware you may run in troubles for the large one (in fact with the large one vowpal wabbit will do it, but strugles to achieve the optimization of the loss). \n",
        "\n",
        "Today our first goal is to understand a minimal version of a logistic regression coded from scratch in Python.\n"
      ]
    },
    {
      "cell_type": "code",
      "execution_count": null,
      "metadata": {
        "colab": {
          "base_uri": "https://localhost:8080/"
        },
        "id": "YQjRc1Bi5VN9",
        "outputId": "9ce5c7cc-586f-4a6b-b730-2943ace56568"
      },
      "outputs": [
        {
          "name": "stdout",
          "output_type": "stream",
          "text": [
            "2022-01-14 01:45:10.922936\tencountered: 10000\tcurrent logloss: 0.287254\n",
            "2022-01-14 01:45:11.317374\tencountered: 20000\tcurrent logloss: 0.270824\n",
            "2022-01-14 01:45:11.719513\tencountered: 30000\tcurrent logloss: 0.265079\n",
            "2022-01-14 01:45:12.088517\tencountered: 40000\tcurrent logloss: 0.265768\n",
            "2022-01-14 01:45:12.464824\tencountered: 50000\tcurrent logloss: 0.265401\n",
            "2022-01-14 01:45:12.853289\tencountered: 60000\tcurrent logloss: 0.265177\n",
            "2022-01-14 01:45:13.221450\tencountered: 70000\tcurrent logloss: 0.264792\n",
            "2022-01-14 01:45:13.595695\tencountered: 80000\tcurrent logloss: 0.262718\n",
            "2022-01-14 01:45:13.973434\tencountered: 90000\tcurrent logloss: 0.261705\n",
            "2022-01-14 01:45:14.338828\tencountered: 100000\tcurrent logloss: 0.260590\n"
          ]
        }
      ],
      "source": [
        "from datetime import datetime\n",
        "from csv import DictReader\n",
        "from math import exp, log, sqrt\n",
        "\n",
        "\n",
        "# parameters #################################################################\n",
        "\n",
        "X_train = 'X_train.csv'  # path to training files\n",
        "y_train = 'y_train.csv'\n",
        "\n",
        "\n",
        "D = 2 ** 20   # max number of weights to use (hash size)\n",
        "alpha = .1    # learning rate for sgd optimization\n",
        "\n",
        "\n",
        "# function definitions #######################################################\n",
        "\n",
        "# A. Bounded logloss\n",
        "# INPUT:\n",
        "#     p: our prediction\n",
        "#     y: real answer\n",
        "# OUTPUT\n",
        "#     logarithmic loss of p given y\n",
        "def logloss(p, y):\n",
        "    p = max(min(p, 1. - 10e-12), 10e-12)\n",
        "    return -log(p) if y == 1. else -log(1. - p)\n",
        "\n",
        "\n",
        "# B. Apply hash trick of the original csv row\n",
        "# for simplicity, we treat both integer and categorical features as categorical\n",
        "# INPUT:\n",
        "#     csv_row: a csv dictionary, ex: {'hash_1': '357', 'hash_2': '', ...}\n",
        "#     D: the max index that we can hash to\n",
        "# OUTPUT:\n",
        "#     x: a list of indices that its value is 1\n",
        "def get_x(csv_row, D):\n",
        "  x = []\n",
        "  for key, value in csv_row.items():\n",
        "    index = int(value + key[4:], 16) % D \n",
        "    x.append(index)\n",
        "  return x  # x contains indices of features that have a value of 1\n",
        "\n",
        "\n",
        "# C. Get probability estimation on x\n",
        "# INPUT:\n",
        "#     x: features\n",
        "#     w: weights\n",
        "# OUTPUT:\n",
        "#     probability of p(y = 1 | x; w)\n",
        "def get_p(x, w):\n",
        "    wTx = 0.\n",
        "    for i in x:  # do wTx\n",
        "        wTx += w[i] * 1.  # w[i] * x[i], but if i in x we got x[i] = 1.\n",
        "    return 1. / (1. + exp(-max(min(wTx, 20.), -20.)))  # bounded sigmoid\n",
        "\n",
        "\n",
        "# D. Update given model\n",
        "# INPUT:\n",
        "#     w: weights\n",
        "#     n: a counter that counts the number of times we encounter a feature\n",
        "#        this is used for adaptive learning rate\n",
        "#     x: feature\n",
        "#     p: prediction of our model\n",
        "#     y: answer\n",
        "# OUTPUT:\n",
        "#     w: updated model\n",
        "#     n: updated count\n",
        "def update_w(w, n, x, p, y):\n",
        "    for i in x:\n",
        "        # alpha / (sqrt(n) + 1) is the adaptive learning rate heuristic\n",
        "        # (p - y) * x[i] is the current gradient\n",
        "        # note that in our case, if i in x then x[i] = 1\n",
        "        w[i] -= (p - y) * alpha / (sqrt(n[i]) + 1.)\n",
        "        n[i] += 1.\n",
        "    return w, n\n",
        "\n",
        "\n",
        "# training and testing #######################################################\n",
        "\n",
        "# initialize our model\n",
        "w = [0.] * D  # first order parameters\n",
        "n = [0.] * D  # number of times we've encountered a feature\n",
        "\n",
        "# start training a logistic regression model using on pass sgd\n",
        "loss = 0.\n",
        "for t, (row, y)  in enumerate(zip(DictReader(open(X_train)), DictReader(open(y_train)))):\n",
        "    # main training procedure\n",
        "    # step 1, get the hashed features\n",
        "    x = get_x(row, D)\n",
        "\n",
        "    # step 2, get prediction\n",
        "    p = get_p(x, w)\n",
        "    target = float(y['click'])\n",
        "\n",
        "    # for progress validation, useless for learning our model\n",
        "    loss += logloss(p, target)\n",
        "    if t % 10000 == 0 and t > 1:\n",
        "        print('%s\\tencountered: %d\\tcurrent logloss: %f' % (\n",
        "            datetime.now(), t, loss/t))\n",
        "\n",
        "    # step 3, update model with answer\n",
        "    w, n = update_w(w, n, x, p, target)\n",
        "\n"
      ]
    },
    {
      "cell_type": "markdown",
      "metadata": {
        "id": "duaypB7ydXkT"
      },
      "source": [
        "*Remark that is implementation is pure Python and quite fast while Python  is inefficient with loops without using just in time compilation. It will also handle the large dataset using a controlled memory footprint (around 200 Mo).*\n",
        "\n",
        "\n",
        "**Questions**\n",
        "1. \n",
        "Is it a good value for the loss? It may be convenient to answer such questions to compute statistics on the data. For this we are going to use numpy. If not already familiar you can find a [ref card](https://www.utc.fr/~jlaforet/Suppl/python-cheatsheets.pdf). There exist an [other one](http://mathesaurus.sourceforge.net/matlab-numpy.html) if you are already familiar with matlab."
      ]
    },
    {
      "cell_type": "code",
      "execution_count": null,
      "metadata": {
        "colab": {
          "base_uri": "https://localhost:8080/"
        },
        "id": "Wi9L4nx0dXTS",
        "outputId": "ff72d5f8-5604-4694-e445-62967f36a248"
      },
      "outputs": [
        {
          "name": "stdout",
          "output_type": "stream",
          "text": [
            "0.32391451592115916\n"
          ]
        }
      ],
      "source": [
        "import numpy as np\n",
        "y = np.genfromtxt('y_train.csv', delimiter=',', skip_header=1)\n",
        "#-- Answer --\n",
        "# First remark that with two classes a uniform random prediction would get is -log(1/2) ~ 0.693\n",
        "# Bur logloss of a dummy prediction always answering the average value \n",
        "y_mean = y[:,0].mean()\n",
        "Hy =  -y_mean * log( y_mean) - (1-y_mean) *log(1-y_mean)\n",
        "print( Hy )\n",
        "# ~ 0.3239\n",
        "# So 0.26 is better than random but is only better by 20% w.r.t dummy predictor "
      ]
    },
    {
      "cell_type": "markdown",
      "metadata": {
        "id": "eRyjTNqEdlY5"
      },
      "source": [
        "\n",
        "\n",
        "2. What is doing the\n",
        "```\n",
        "int(value + key[4:], 16) % D\n",
        "```"
      ]
    },
    {
      "cell_type": "markdown",
      "metadata": {
        "id": "2zATJnrfztz3"
      },
      "source": [
        "**-Answer-**\n",
        "\n",
        "It is computing an index into 1..D, this is used as the memory emplacement to store the parameter corresponding to the value of $x_i$. Performances would be better with a larger value of D (default for Vopal Wabbit is $2^{24}$). This is a weak hash and it would be possible to replace it by a non cryptographic hashkey computation such as [Murmur](https://en.wikipedia.org/wiki/MurmurHash) and/or to use actual hashtable to store the values of the parameters without collision. Note that in some applications reducing the number of collisions can reduce slightly the logloss and this will always be slower.   "
      ]
    },
    {
      "cell_type": "markdown",
      "metadata": {
        "id": "XVbr6_qJDJGG"
      },
      "source": [
        "3. Do we have an intercept term (if not how to add it) ? \n",
        "\n"
      ]
    },
    {
      "cell_type": "code",
      "execution_count": null,
      "metadata": {
        "id": "OXNHQziU9DpW"
      },
      "outputs": [],
      "source": [
        "#Answer\n",
        "#There is no intercept in the current code.\n",
        "#See answer to question 5 for a clean addition of it using the position 0 from the array of parameters (could be any other position). This does not impact significantly the loss "
      ]
    },
    {
      "cell_type": "markdown",
      "metadata": {
        "id": "rbw0Qmp7DJCZ"
      },
      "source": [
        "4. Implement a validation score using the X_valid.csv, y_valid.csv data on a fraction of test data using a  [Normalized Cross Entropy](https://www.nist.gov/system/files/documents/2017/11/30/nce.pdf). $$ NCE = (H(y) - Logloss)/H(y) $$ where H(y) is Shannon entropy of y computed in the natural basis (2 may be a better choice but as we computed the log loss in the natural basis, it is better to keep using it).\n",
        "\n",
        "Now allows to iterate several times accoss the dataset 10 times. Are you overfitting?"
      ]
    },
    {
      "cell_type": "code",
      "execution_count": null,
      "metadata": {
        "colab": {
          "base_uri": "https://localhost:8080/"
        },
        "id": "qDdbMJifEx2k",
        "outputId": "27efe68f-2345-411f-fba4-05e4ef619328"
      },
      "outputs": [
        {
          "name": "stdout",
          "output_type": "stream",
          "text": [
            "2022-01-13 23:13:26.135159\tupdates: 10000\tcurrent logloss on train: 0.287254\tcurrent logloss on validation: 0.270539 \tNCE on validation 0.164783\n",
            "2022-01-13 23:13:26.688258\tupdates: 20000\tcurrent logloss on train: 0.270824\tcurrent logloss on validation: 0.264751 \tNCE on validation 0.182653\n",
            "2022-01-13 23:13:27.220998\tupdates: 30000\tcurrent logloss on train: 0.265079\tcurrent logloss on validation: 0.261971 \tNCE on validation 0.191235\n",
            "2022-01-13 23:13:27.748689\tupdates: 40000\tcurrent logloss on train: 0.265768\tcurrent logloss on validation: 0.259466 \tNCE on validation 0.198967\n",
            "2022-01-13 23:13:28.283586\tupdates: 50000\tcurrent logloss on train: 0.265401\tcurrent logloss on validation: 0.258067 \tNCE on validation 0.203286\n",
            "2022-01-13 23:13:28.836883\tupdates: 60000\tcurrent logloss on train: 0.265177\tcurrent logloss on validation: 0.256756 \tNCE on validation 0.207334\n",
            "2022-01-13 23:13:29.372117\tupdates: 70000\tcurrent logloss on train: 0.264792\tcurrent logloss on validation: 0.255738 \tNCE on validation 0.210477\n",
            "2022-01-13 23:13:29.907462\tupdates: 80000\tcurrent logloss on train: 0.262718\tcurrent logloss on validation: 0.255090 \tNCE on validation 0.212476\n",
            "2022-01-13 23:13:30.417516\tupdates: 90000\tcurrent logloss on train: 0.261705\tcurrent logloss on validation: 0.254110 \tNCE on validation 0.215502\n",
            "2022-01-13 23:13:30.951643\tupdates: 100000\tcurrent logloss on train: 0.260590\tcurrent logloss on validation: 0.253503 \tNCE on validation 0.217377\n",
            "2022-01-13 23:13:31.482143\tupdates: 110000\tcurrent logloss on train: 0.237529\tcurrent logloss on validation: 0.253084 \tNCE on validation 0.218670\n",
            "2022-01-13 23:13:32.006637\tupdates: 120000\tcurrent logloss on train: 0.238544\tcurrent logloss on validation: 0.252878 \tNCE on validation 0.219306\n",
            "2022-01-13 23:13:32.553365\tupdates: 130000\tcurrent logloss on train: 0.238648\tcurrent logloss on validation: 0.252633 \tNCE on validation 0.220064\n",
            "2022-01-13 23:13:33.134048\tupdates: 140000\tcurrent logloss on train: 0.243045\tcurrent logloss on validation: 0.252048 \tNCE on validation 0.221870\n",
            "2022-01-13 23:13:33.674709\tupdates: 150000\tcurrent logloss on train: 0.243551\tcurrent logloss on validation: 0.251693 \tNCE on validation 0.222965\n",
            "2022-01-13 23:13:34.204857\tupdates: 160000\tcurrent logloss on train: 0.245426\tcurrent logloss on validation: 0.251340 \tNCE on validation 0.224054\n",
            "2022-01-13 23:13:34.739508\tupdates: 170000\tcurrent logloss on train: 0.246573\tcurrent logloss on validation: 0.251033 \tNCE on validation 0.225001\n",
            "2022-01-13 23:13:35.268167\tupdates: 180000\tcurrent logloss on train: 0.246090\tcurrent logloss on validation: 0.250806 \tNCE on validation 0.225702\n",
            "2022-01-13 23:13:35.835124\tupdates: 190000\tcurrent logloss on train: 0.246010\tcurrent logloss on validation: 0.250520 \tNCE on validation 0.226585\n",
            "2022-01-13 23:13:36.365055\tupdates: 200000\tcurrent logloss on train: 0.245686\tcurrent logloss on validation: 0.250280 \tNCE on validation 0.227327\n",
            "2022-01-13 23:13:36.927307\tupdates: 210000\tcurrent logloss on train: 0.238281\tcurrent logloss on validation: 0.250143 \tNCE on validation 0.227751\n",
            "2022-01-13 23:13:37.480705\tupdates: 220000\tcurrent logloss on train: 0.235191\tcurrent logloss on validation: 0.250101 \tNCE on validation 0.227880\n",
            "2022-01-13 23:13:38.026472\tupdates: 230000\tcurrent logloss on train: 0.234934\tcurrent logloss on validation: 0.249838 \tNCE on validation 0.228690\n",
            "2022-01-13 23:13:38.550837\tupdates: 240000\tcurrent logloss on train: 0.237139\tcurrent logloss on validation: 0.249703 \tNCE on validation 0.229109\n",
            "2022-01-13 23:13:39.076273\tupdates: 250000\tcurrent logloss on train: 0.237551\tcurrent logloss on validation: 0.249538 \tNCE on validation 0.229618\n",
            "2022-01-13 23:13:39.594579\tupdates: 260000\tcurrent logloss on train: 0.240166\tcurrent logloss on validation: 0.249410 \tNCE on validation 0.230014\n",
            "2022-01-13 23:13:40.125461\tupdates: 270000\tcurrent logloss on train: 0.241633\tcurrent logloss on validation: 0.249255 \tNCE on validation 0.230491\n",
            "2022-01-13 23:13:40.643510\tupdates: 280000\tcurrent logloss on train: 0.241731\tcurrent logloss on validation: 0.249101 \tNCE on validation 0.230967\n",
            "2022-01-13 23:13:41.191000\tupdates: 290000\tcurrent logloss on train: 0.240817\tcurrent logloss on validation: 0.248925 \tNCE on validation 0.231509\n",
            "2022-01-13 23:13:41.721721\tupdates: 300000\tcurrent logloss on train: 0.240786\tcurrent logloss on validation: 0.248821 \tNCE on validation 0.231831\n",
            "2022-01-13 23:13:42.266319\tupdates: 310000\tcurrent logloss on train: 0.225544\tcurrent logloss on validation: 0.248705 \tNCE on validation 0.232189\n",
            "2022-01-13 23:13:42.776233\tupdates: 320000\tcurrent logloss on train: 0.230783\tcurrent logloss on validation: 0.248657 \tNCE on validation 0.232336\n",
            "2022-01-13 23:13:43.316696\tupdates: 330000\tcurrent logloss on train: 0.231404\tcurrent logloss on validation: 0.248539 \tNCE on validation 0.232702\n",
            "2022-01-13 23:13:43.830201\tupdates: 340000\tcurrent logloss on train: 0.232770\tcurrent logloss on validation: 0.248429 \tNCE on validation 0.233043\n",
            "2022-01-13 23:13:44.375999\tupdates: 350000\tcurrent logloss on train: 0.235049\tcurrent logloss on validation: 0.248388 \tNCE on validation 0.233167\n",
            "2022-01-13 23:13:44.904373\tupdates: 360000\tcurrent logloss on train: 0.236597\tcurrent logloss on validation: 0.248317 \tNCE on validation 0.233386\n",
            "2022-01-13 23:13:45.422861\tupdates: 370000\tcurrent logloss on train: 0.238157\tcurrent logloss on validation: 0.248200 \tNCE on validation 0.233750\n",
            "2022-01-13 23:13:45.945566\tupdates: 380000\tcurrent logloss on train: 0.238482\tcurrent logloss on validation: 0.248090 \tNCE on validation 0.234087\n",
            "2022-01-13 23:13:46.470378\tupdates: 390000\tcurrent logloss on train: 0.237827\tcurrent logloss on validation: 0.248001 \tNCE on validation 0.234362\n",
            "2022-01-13 23:13:46.984142\tupdates: 400000\tcurrent logloss on train: 0.237981\tcurrent logloss on validation: 0.247928 \tNCE on validation 0.234587\n",
            "2022-01-13 23:13:47.506822\tupdates: 410000\tcurrent logloss on train: 0.213769\tcurrent logloss on validation: 0.247798 \tNCE on validation 0.234991\n",
            "2022-01-13 23:13:48.028385\tupdates: 420000\tcurrent logloss on train: 0.234269\tcurrent logloss on validation: 0.247798 \tNCE on validation 0.234989\n",
            "2022-01-13 23:13:48.539234\tupdates: 430000\tcurrent logloss on train: 0.228719\tcurrent logloss on validation: 0.247765 \tNCE on validation 0.235091\n",
            "2022-01-13 23:13:49.048078\tupdates: 440000\tcurrent logloss on train: 0.227963\tcurrent logloss on validation: 0.247783 \tNCE on validation 0.235036\n",
            "2022-01-13 23:13:49.597508\tupdates: 450000\tcurrent logloss on train: 0.231966\tcurrent logloss on validation: 0.247609 \tNCE on validation 0.235572\n",
            "2022-01-13 23:13:50.119162\tupdates: 460000\tcurrent logloss on train: 0.233478\tcurrent logloss on validation: 0.247650 \tNCE on validation 0.235446\n",
            "2022-01-13 23:13:50.641512\tupdates: 470000\tcurrent logloss on train: 0.235316\tcurrent logloss on validation: 0.247553 \tNCE on validation 0.235746\n",
            "2022-01-13 23:13:51.175229\tupdates: 480000\tcurrent logloss on train: 0.236021\tcurrent logloss on validation: 0.247458 \tNCE on validation 0.236041\n",
            "2022-01-13 23:13:51.693736\tupdates: 490000\tcurrent logloss on train: 0.235435\tcurrent logloss on validation: 0.247432 \tNCE on validation 0.236120\n",
            "2022-01-13 23:13:52.214379\tupdates: 500000\tcurrent logloss on train: 0.235581\tcurrent logloss on validation: 0.247310 \tNCE on validation 0.236496\n",
            "2022-01-13 23:13:52.736321\tupdates: 510000\tcurrent logloss on train: 0.235563\tcurrent logloss on validation: 0.247251 \tNCE on validation 0.236677\n",
            "2022-01-13 23:13:53.261774\tupdates: 520000\tcurrent logloss on train: 0.227238\tcurrent logloss on validation: 0.247202 \tNCE on validation 0.236831\n",
            "2022-01-13 23:13:53.798814\tupdates: 530000\tcurrent logloss on train: 0.226341\tcurrent logloss on validation: 0.247252 \tNCE on validation 0.236675\n",
            "2022-01-13 23:13:54.343906\tupdates: 540000\tcurrent logloss on train: 0.226299\tcurrent logloss on validation: 0.247266 \tNCE on validation 0.236631\n",
            "2022-01-13 23:13:54.875319\tupdates: 550000\tcurrent logloss on train: 0.230462\tcurrent logloss on validation: 0.247137 \tNCE on validation 0.237031\n",
            "2022-01-13 23:13:55.400745\tupdates: 560000\tcurrent logloss on train: 0.230912\tcurrent logloss on validation: 0.247103 \tNCE on validation 0.237135\n",
            "2022-01-13 23:13:55.914667\tupdates: 570000\tcurrent logloss on train: 0.233196\tcurrent logloss on validation: 0.247072 \tNCE on validation 0.237230\n",
            "2022-01-13 23:13:56.466551\tupdates: 580000\tcurrent logloss on train: 0.234426\tcurrent logloss on validation: 0.247025 \tNCE on validation 0.237377\n",
            "2022-01-13 23:13:56.983193\tupdates: 590000\tcurrent logloss on train: 0.233645\tcurrent logloss on validation: 0.246962 \tNCE on validation 0.237571\n",
            "2022-01-13 23:13:57.508670\tupdates: 600000\tcurrent logloss on train: 0.233772\tcurrent logloss on validation: 0.246899 \tNCE on validation 0.237765\n",
            "2022-01-13 23:13:58.024386\tupdates: 610000\tcurrent logloss on train: 0.233713\tcurrent logloss on validation: 0.246848 \tNCE on validation 0.237923\n",
            "2022-01-13 23:13:58.559478\tupdates: 620000\tcurrent logloss on train: 0.229271\tcurrent logloss on validation: 0.246833 \tNCE on validation 0.237968\n",
            "2022-01-13 23:13:59.072736\tupdates: 630000\tcurrent logloss on train: 0.226614\tcurrent logloss on validation: 0.246867 \tNCE on validation 0.237865\n",
            "2022-01-13 23:13:59.593589\tupdates: 640000\tcurrent logloss on train: 0.225520\tcurrent logloss on validation: 0.246799 \tNCE on validation 0.238074\n",
            "2022-01-13 23:14:00.123393\tupdates: 650000\tcurrent logloss on train: 0.228533\tcurrent logloss on validation: 0.246767 \tNCE on validation 0.238174\n",
            "2022-01-13 23:14:00.656447\tupdates: 660000\tcurrent logloss on train: 0.228884\tcurrent logloss on validation: 0.246768 \tNCE on validation 0.238168\n",
            "2022-01-13 23:14:01.175745\tupdates: 670000\tcurrent logloss on train: 0.230977\tcurrent logloss on validation: 0.246741 \tNCE on validation 0.238252\n",
            "2022-01-13 23:14:01.717829\tupdates: 680000\tcurrent logloss on train: 0.232789\tcurrent logloss on validation: 0.246694 \tNCE on validation 0.238398\n",
            "2022-01-13 23:14:02.241196\tupdates: 690000\tcurrent logloss on train: 0.232805\tcurrent logloss on validation: 0.246660 \tNCE on validation 0.238504\n",
            "2022-01-13 23:14:02.781675\tupdates: 700000\tcurrent logloss on train: 0.232038\tcurrent logloss on validation: 0.246593 \tNCE on validation 0.238711\n",
            "2022-01-13 23:14:03.329482\tupdates: 710000\tcurrent logloss on train: 0.232197\tcurrent logloss on validation: 0.246570 \tNCE on validation 0.238781\n",
            "2022-01-13 23:14:03.852596\tupdates: 720000\tcurrent logloss on train: 0.223088\tcurrent logloss on validation: 0.246537 \tNCE on validation 0.238882\n",
            "2022-01-13 23:14:04.395435\tupdates: 730000\tcurrent logloss on train: 0.223746\tcurrent logloss on validation: 0.246543 \tNCE on validation 0.238865\n",
            "2022-01-13 23:14:04.928087\tupdates: 740000\tcurrent logloss on train: 0.224634\tcurrent logloss on validation: 0.246508 \tNCE on validation 0.238972\n",
            "2022-01-13 23:14:05.479513\tupdates: 750000\tcurrent logloss on train: 0.225959\tcurrent logloss on validation: 0.246475 \tNCE on validation 0.239074\n",
            "2022-01-13 23:14:05.989120\tupdates: 760000\tcurrent logloss on train: 0.227947\tcurrent logloss on validation: 0.246485 \tNCE on validation 0.239042\n",
            "2022-01-13 23:14:06.511013\tupdates: 770000\tcurrent logloss on train: 0.229502\tcurrent logloss on validation: 0.246486 \tNCE on validation 0.239040\n",
            "2022-01-13 23:14:07.033420\tupdates: 780000\tcurrent logloss on train: 0.231095\tcurrent logloss on validation: 0.246435 \tNCE on validation 0.239198\n",
            "2022-01-13 23:14:07.551856\tupdates: 790000\tcurrent logloss on train: 0.231416\tcurrent logloss on validation: 0.246407 \tNCE on validation 0.239285\n",
            "2022-01-13 23:14:08.116289\tupdates: 800000\tcurrent logloss on train: 0.230758\tcurrent logloss on validation: 0.246358 \tNCE on validation 0.239434\n",
            "2022-01-13 23:14:08.651635\tupdates: 810000\tcurrent logloss on train: 0.231092\tcurrent logloss on validation: 0.246344 \tNCE on validation 0.239479\n",
            "2022-01-13 23:14:09.188516\tupdates: 820000\tcurrent logloss on train: 0.244233\tcurrent logloss on validation: 0.246298 \tNCE on validation 0.239622\n",
            "2022-01-13 23:14:09.704112\tupdates: 830000\tcurrent logloss on train: 0.228140\tcurrent logloss on validation: 0.246305 \tNCE on validation 0.239597\n",
            "2022-01-13 23:14:10.237321\tupdates: 840000\tcurrent logloss on train: 0.223423\tcurrent logloss on validation: 0.246305 \tNCE on validation 0.239598\n",
            "2022-01-13 23:14:10.769687\tupdates: 850000\tcurrent logloss on train: 0.222693\tcurrent logloss on validation: 0.246326 \tNCE on validation 0.239534\n",
            "2022-01-13 23:14:11.292355\tupdates: 860000\tcurrent logloss on train: 0.225968\tcurrent logloss on validation: 0.246248 \tNCE on validation 0.239776\n",
            "2022-01-13 23:14:11.816832\tupdates: 870000\tcurrent logloss on train: 0.227534\tcurrent logloss on validation: 0.246298 \tNCE on validation 0.239622\n",
            "2022-01-13 23:14:12.332012\tupdates: 880000\tcurrent logloss on train: 0.229390\tcurrent logloss on validation: 0.246261 \tNCE on validation 0.239733\n",
            "2022-01-13 23:14:12.867654\tupdates: 890000\tcurrent logloss on train: 0.230098\tcurrent logloss on validation: 0.246238 \tNCE on validation 0.239806\n",
            "2022-01-13 23:14:13.421561\tupdates: 900000\tcurrent logloss on train: 0.229280\tcurrent logloss on validation: 0.246230 \tNCE on validation 0.239829\n",
            "2022-01-13 23:14:13.965570\tupdates: 910000\tcurrent logloss on train: 0.229793\tcurrent logloss on validation: 0.246175 \tNCE on validation 0.239999\n",
            "2022-01-13 23:14:14.477790\tupdates: 920000\tcurrent logloss on train: 0.229733\tcurrent logloss on validation: 0.246136 \tNCE on validation 0.240119\n",
            "2022-01-13 23:14:15.038926\tupdates: 930000\tcurrent logloss on train: 0.222926\tcurrent logloss on validation: 0.246126 \tNCE on validation 0.240152\n",
            "2022-01-13 23:14:15.570342\tupdates: 940000\tcurrent logloss on train: 0.221634\tcurrent logloss on validation: 0.246166 \tNCE on validation 0.240027\n",
            "2022-01-13 23:14:16.102914\tupdates: 950000\tcurrent logloss on train: 0.221079\tcurrent logloss on validation: 0.246199 \tNCE on validation 0.239926\n",
            "2022-01-13 23:14:16.618878\tupdates: 960000\tcurrent logloss on train: 0.225309\tcurrent logloss on validation: 0.246128 \tNCE on validation 0.240144\n",
            "2022-01-13 23:14:17.138244\tupdates: 970000\tcurrent logloss on train: 0.225815\tcurrent logloss on validation: 0.246113 \tNCE on validation 0.240191\n",
            "2022-01-13 23:14:17.676563\tupdates: 980000\tcurrent logloss on train: 0.228065\tcurrent logloss on validation: 0.246119 \tNCE on validation 0.240173\n",
            "2022-01-13 23:14:18.186815\tupdates: 990000\tcurrent logloss on train: 0.229335\tcurrent logloss on validation: 0.246106 \tNCE on validation 0.240213\n",
            "2022-01-13 23:14:18.733314\tupdates: 1000000\tcurrent logloss on train: 0.228537\tcurrent logloss on validation: 0.246077 \tNCE on validation 0.240303\n",
            "2022-01-13 23:14:19.249873\tupdates: 1010000\tcurrent logloss on train: 0.228706\tcurrent logloss on validation: 0.246035 \tNCE on validation 0.240434\n",
            "2022-01-13 23:14:19.772792\tupdates: 1020000\tcurrent logloss on train: 0.228641\tcurrent logloss on validation: 0.246017 \tNCE on validation 0.240486\n"
          ]
        }
      ],
      "source": [
        "#First note that we in fact computer the entropy of y at question 1 and it is better to avoid to recompute it at each call\n",
        "#It may be better to compute it on the complete dataset but train is good enough and faster \n",
        "\n",
        "#y_data = np.genfromtxt('y_train.csv', delimiter=',', skip_header=1)\n",
        "#y_mean = y_data[:,0].mean()\n",
        "#Hy = -y_mean * log( y_mean) - (1-y_mean) *log(1-y_mean)\n",
        "\n",
        "X_valid = 'X_valid.csv'\n",
        "y_valid = 'y_valid.csv'\n",
        "\n",
        "D = 2 ** 20   \n",
        "alpha = .1    \n",
        "\n",
        "\n",
        "# Since this always the same data for the validation loss  we  should pin them to memory to iterate faster\n",
        "# Since the model is stored in the w we add  it as an argument but w is not usable without the function get_x and D\n",
        "# The cleanest code would decide that all of that should be stored in an object \"Model\" \n",
        "def compute_validation_loss(w, D):\n",
        "    ### TODO Complete this function ###\n",
        "    #ANSWER\n",
        "    val_loss = 0 \n",
        "    for t, (row, y)  in enumerate(zip(DictReader(open(X_valid)), DictReader(open(y_valid)))):\n",
        "      x = get_x(row, D)\n",
        "      p = get_p(x, w)\n",
        "      target = float(y['click'])\n",
        "      val_loss += logloss(p, target)\n",
        "    return val_loss/t\n",
        "\n",
        "\n",
        "w = [0.] * D  \n",
        "n = [0.] * D\n",
        "loss = 0.\n",
        "n_epochs = 10\n",
        "n_updates = 0\n",
        "training_losses = [] #To stores our training losses after each 10k updates \n",
        "validation_losses = [] #Same for validation\n",
        "\n",
        "for e in range(n_epochs):\n",
        "  training_loss = 0 #We reset to 0 the training at the begginning of each epoch to have a better idea of the current performance on the training set\n",
        "  for t, (row, y)  in enumerate(zip(DictReader(open(X_train)), DictReader(open(y_train)))):\n",
        "      x = get_x(row, D)\n",
        "      p = get_p(x, w)\n",
        "      target = float(y['click'])\n",
        "      training_loss += logloss(p, target)\n",
        "      if n_updates% 10000 == 0 and n_updates>1:\n",
        "          training_losses.append( training_loss/t )\n",
        "          validation_losses.append( compute_validation_loss(w, D) )\n",
        "          #We reuse the value of Hy computed precedently \n",
        "          print('%s\\tupdates: %d\\tcurrent logloss on train: %f\\tcurrent logloss on validation: %f \\tNCE on validation %f' % (\n",
        "              datetime.now(), n_updates, training_losses[-1], validation_losses[-1], (Hy-validation_losses[-1])/Hy ))\n",
        "          \n",
        "      w, n = update_w(w, n, x, p, target)\n",
        "      n_updates += 1\n"
      ]
    },
    {
      "cell_type": "code",
      "execution_count": null,
      "metadata": {
        "colab": {
          "base_uri": "https://localhost:8080/",
          "height": 281
        },
        "id": "hi4NZ_a4H0Oy",
        "outputId": "b5a51b0f-ce61-466a-929a-0656ce3ce5b4"
      },
      "outputs": [
        {
          "data": {
            "image/png": "[encoded data removed]",
            "text/plain": [
              "<Figure size 432x288 with 1 Axes>"
            ]
          },
          "metadata": {},
          "output_type": "display_data"
        }
      ],
      "source": [
        "#Produce a plot of the losses\n",
        "#ANSWER\n",
        "import matplotlib.pyplot as plt\n",
        "#from matplotlib.pyplot import figure\n",
        "#figure(figsize=(4, 3), dpi=150) #Colab does only support inline display but you can change figure size with this\n",
        "\n",
        "x = [10000*i for i in range(len(training_losses))]\n",
        "plt.plot(x, training_losses, label='Train')\n",
        "plt.plot(x, validation_losses, label='Validation')\n",
        "plt.xlabel('Number of updates')\n",
        "plt.ylabel('Log Loss')\n",
        "plt.legend( ('Train', 'Validation') )\n",
        "plt.show()\n",
        "# overfitting, the bumps on the training loss are due to the reset after each epoch. => Not so good to reset the estimation of the loss  \n",
        "#Log loss is ploted NCE is fine too (anyway this is only a rescaling)"
      ]
    },
    {
      "cell_type": "markdown",
      "metadata": {
        "id": "0_CPkIovFIPg"
      },
      "source": [
        "5. Modify the code to enable the use of all quadratic features. This is doable only by modifying the function ```get_x``` \n"
      ]
    },
    {
      "cell_type": "code",
      "execution_count": null,
      "metadata": {
        "id": "jVcD_0PnevRB"
      },
      "outputs": [],
      "source": [
        "#ANSWER with ony one vector for parameters. This is also possible to split the first and second order terms\n",
        "def get_x(csv_row, D):\n",
        "     x = []\n",
        "     # normal features\n",
        "     for key, value in csv_row.items():\n",
        "         index = int(value + key[4:], 16) % D  \n",
        "         x.append(index)\n",
        "     # second order terms\n",
        "     L = len(x)\n",
        "     for i in range(L):\n",
        "         for j in range(i+1, L):\n",
        "             index = (x[i] * x[j]) % D  # second weakest hash\n",
        "             x.append(index)\n",
        "\n",
        "     # bias\n",
        "     x.append(0)\n",
        "  \n",
        "\n",
        "     return x"
      ]
    },
    {
      "cell_type": "markdown",
      "metadata": {
        "id": "dw9nXonCevel"
      },
      "source": [
        "4. After how many updates are you overfitting ? Same question after adding a L2 regularisation term with ponderation $5\\cdot 10^{-4}$ and/or with a the learning rate of 0.01. (side question should we include the bias term in the regularization ?)\n",
        "\n"
      ]
    },
    {
      "cell_type": "code",
      "execution_count": null,
      "metadata": {
        "colab": {
          "base_uri": "https://localhost:8080/",
          "height": 570
        },
        "id": "FUxq-KU_FIE1",
        "outputId": "c31cbe46-3c9c-49f5-df7b-74f2c75260a0"
      },
      "outputs": [
        {
          "name": "stdout",
          "output_type": "stream",
          "text": [
            "2022-01-14 00:55:31.592446\tupdates: 10000\tcurrent logloss on train: 0.291079\tcurrent logloss on validation: 0.269238 \tNCE in validation 0.168801\n",
            "2022-01-14 00:55:35.459538\tupdates: 20000\tcurrent logloss on train: 0.275756\tcurrent logloss on validation: 0.262381 \tNCE in validation 0.189969\n",
            "2022-01-14 00:55:39.384484\tupdates: 30000\tcurrent logloss on train: 0.270412\tcurrent logloss on validation: 0.261039 \tNCE in validation 0.194110\n",
            "2022-01-14 00:55:43.322397\tupdates: 40000\tcurrent logloss on train: 0.270709\tcurrent logloss on validation: 0.259100 \tNCE in validation 0.200096\n",
            "2022-01-14 00:55:47.534683\tupdates: 50000\tcurrent logloss on train: 0.269615\tcurrent logloss on validation: 0.259220 \tNCE in validation 0.199727\n",
            "2022-01-14 00:55:51.689849\tupdates: 60000\tcurrent logloss on train: 0.269340\tcurrent logloss on validation: 0.258151 \tNCE in validation 0.203027\n",
            "2022-01-14 00:55:55.590678\tupdates: 70000\tcurrent logloss on train: 0.268499\tcurrent logloss on validation: 0.256990 \tNCE in validation 0.206612\n",
            "2022-01-14 00:55:59.501500\tupdates: 80000\tcurrent logloss on train: 0.266172\tcurrent logloss on validation: 0.256852 \tNCE in validation 0.207038\n",
            "2022-01-14 00:56:03.373324\tupdates: 90000\tcurrent logloss on train: 0.264738\tcurrent logloss on validation: 0.254087 \tNCE in validation 0.215574\n",
            "2022-01-14 00:56:07.507911\tupdates: 100000\tcurrent logloss on train: 0.263739\tcurrent logloss on validation: 0.253509 \tNCE in validation 0.217358\n",
            "2022-01-14 00:56:11.715175\tupdates: 110000\tcurrent logloss on train: 0.082790\tcurrent logloss on validation: 0.254919 \tNCE in validation 0.213006\n"
          ]
        },
        {
          "ename": "KeyboardInterrupt",
          "evalue": "ignored",
          "output_type": "error",
          "traceback": [
            "\u001b[0;31m---------------------------------------------------------------------------\u001b[0m",
            "\u001b[0;31mKeyboardInterrupt\u001b[0m                         Traceback (most recent call last)",
            "\u001b[0;32m<ipython-input-74-16338919cb6f>\u001b[0m in \u001b[0;36m<module>\u001b[0;34m()\u001b[0m\n\u001b[1;32m     10\u001b[0m   \u001b[0mtraining_loss\u001b[0m \u001b[0;34m=\u001b[0m \u001b[0;36m0\u001b[0m \u001b[0;31m#We reset to 0 the training at the begginning of each epoch to have a better idea of the current performance on the training set\u001b[0m\u001b[0;34m\u001b[0m\u001b[0;34m\u001b[0m\u001b[0m\n\u001b[1;32m     11\u001b[0m   \u001b[0;32mfor\u001b[0m \u001b[0mt\u001b[0m\u001b[0;34m,\u001b[0m \u001b[0;34m(\u001b[0m\u001b[0mrow\u001b[0m\u001b[0;34m,\u001b[0m \u001b[0my\u001b[0m\u001b[0;34m)\u001b[0m  \u001b[0;32min\u001b[0m \u001b[0menumerate\u001b[0m\u001b[0;34m(\u001b[0m\u001b[0mzip\u001b[0m\u001b[0;34m(\u001b[0m\u001b[0mDictReader\u001b[0m\u001b[0;34m(\u001b[0m\u001b[0mopen\u001b[0m\u001b[0;34m(\u001b[0m\u001b[0mX_train\u001b[0m\u001b[0;34m)\u001b[0m\u001b[0;34m)\u001b[0m\u001b[0;34m,\u001b[0m \u001b[0mDictReader\u001b[0m\u001b[0;34m(\u001b[0m\u001b[0mopen\u001b[0m\u001b[0;34m(\u001b[0m\u001b[0my_train\u001b[0m\u001b[0;34m)\u001b[0m\u001b[0;34m)\u001b[0m\u001b[0;34m)\u001b[0m\u001b[0;34m)\u001b[0m\u001b[0;34m:\u001b[0m\u001b[0;34m\u001b[0m\u001b[0;34m\u001b[0m\u001b[0m\n\u001b[0;32m---> 12\u001b[0;31m       \u001b[0mx\u001b[0m \u001b[0;34m=\u001b[0m \u001b[0mget_x\u001b[0m\u001b[0;34m(\u001b[0m\u001b[0mrow\u001b[0m\u001b[0;34m,\u001b[0m \u001b[0mD\u001b[0m\u001b[0;34m)\u001b[0m\u001b[0;34m\u001b[0m\u001b[0;34m\u001b[0m\u001b[0m\n\u001b[0m\u001b[1;32m     13\u001b[0m       \u001b[0mp\u001b[0m \u001b[0;34m=\u001b[0m \u001b[0mget_p\u001b[0m\u001b[0;34m(\u001b[0m\u001b[0mx\u001b[0m\u001b[0;34m,\u001b[0m \u001b[0mw\u001b[0m\u001b[0;34m)\u001b[0m\u001b[0;34m\u001b[0m\u001b[0;34m\u001b[0m\u001b[0m\n\u001b[1;32m     14\u001b[0m       \u001b[0mtarget\u001b[0m \u001b[0;34m=\u001b[0m \u001b[0mfloat\u001b[0m\u001b[0;34m(\u001b[0m\u001b[0my\u001b[0m\u001b[0;34m[\u001b[0m\u001b[0;34m'click'\u001b[0m\u001b[0;34m]\u001b[0m\u001b[0;34m)\u001b[0m\u001b[0;34m\u001b[0m\u001b[0;34m\u001b[0m\u001b[0m\n",
            "\u001b[0;32m<ipython-input-73-dc89809d7c48>\u001b[0m in \u001b[0;36mget_x\u001b[0;34m(csv_row, D)\u001b[0m\n\u001b[1;32m     10\u001b[0m      \u001b[0;32mfor\u001b[0m \u001b[0mi\u001b[0m \u001b[0;32min\u001b[0m \u001b[0mrange\u001b[0m\u001b[0;34m(\u001b[0m\u001b[0mL\u001b[0m\u001b[0;34m)\u001b[0m\u001b[0;34m:\u001b[0m\u001b[0;34m\u001b[0m\u001b[0;34m\u001b[0m\u001b[0m\n\u001b[1;32m     11\u001b[0m          \u001b[0;32mfor\u001b[0m \u001b[0mj\u001b[0m \u001b[0;32min\u001b[0m \u001b[0mrange\u001b[0m\u001b[0;34m(\u001b[0m\u001b[0mi\u001b[0m\u001b[0;34m+\u001b[0m\u001b[0;36m1\u001b[0m\u001b[0;34m,\u001b[0m \u001b[0mL\u001b[0m\u001b[0;34m)\u001b[0m\u001b[0;34m:\u001b[0m\u001b[0;34m\u001b[0m\u001b[0;34m\u001b[0m\u001b[0m\n\u001b[0;32m---> 12\u001b[0;31m              \u001b[0mindex\u001b[0m \u001b[0;34m=\u001b[0m \u001b[0;34m(\u001b[0m\u001b[0mx\u001b[0m\u001b[0;34m[\u001b[0m\u001b[0mi\u001b[0m\u001b[0;34m]\u001b[0m \u001b[0;34m*\u001b[0m \u001b[0mx\u001b[0m\u001b[0;34m[\u001b[0m\u001b[0mj\u001b[0m\u001b[0;34m]\u001b[0m\u001b[0;34m)\u001b[0m \u001b[0;34m%\u001b[0m \u001b[0mD\u001b[0m  \u001b[0;31m# second weakest hash\u001b[0m\u001b[0;34m\u001b[0m\u001b[0;34m\u001b[0m\u001b[0m\n\u001b[0m\u001b[1;32m     13\u001b[0m              \u001b[0mx\u001b[0m\u001b[0;34m.\u001b[0m\u001b[0mappend\u001b[0m\u001b[0;34m(\u001b[0m\u001b[0mindex\u001b[0m\u001b[0;34m)\u001b[0m\u001b[0;34m\u001b[0m\u001b[0;34m\u001b[0m\u001b[0m\n\u001b[1;32m     14\u001b[0m \u001b[0;34m\u001b[0m\u001b[0m\n",
            "\u001b[0;31mKeyboardInterrupt\u001b[0m: "
          ]
        }
      ],
      "source": [
        "w = [0.] * D  \n",
        "n = [0.] * D\n",
        "loss = 0.\n",
        "n_epochs = 10\n",
        "n_updates = 0\n",
        "training_losses = [] #To stores our training losses after each 10k updates \n",
        "validation_losses = [] #Same for validation\n",
        "\n",
        "for e in range(n_epochs):\n",
        "  training_loss = 0 #We reset to 0 the training at the begginning of each epoch to have a better idea of the current performance on the training set\n",
        "  for t, (row, y)  in enumerate(zip(DictReader(open(X_train)), DictReader(open(y_train)))):\n",
        "      x = get_x(row, D)\n",
        "      p = get_p(x, w)\n",
        "      target = float(y['click'])\n",
        "      training_loss += logloss(p, target)\n",
        "      if n_updates% 10000 == 0 and n_updates>1:\n",
        "          training_losses.append( training_loss/t )\n",
        "          validation_losses.append( compute_validation_loss(w, D) )\n",
        "          print('%s\\tupdates: %d\\tcurrent logloss on train: %f\\tcurrent logloss on validation: %f \\tNCE in validation %f' % (\n",
        "              datetime.now(), n_updates, training_losses[-1], validation_losses[-1], (Hy-validation_losses[-1])/Hy ))\n",
        "      w, n = update_w(w, n, x, p, target)\n",
        "      n_updates += 1"
      ]
    },
    {
      "cell_type": "code",
      "execution_count": null,
      "metadata": {
        "colab": {
          "base_uri": "https://localhost:8080/",
          "height": 281
        },
        "id": "STKNAlpTNBU-",
        "outputId": "e7de72df-bc89-4dd5-adbe-592c81bca0d1"
      },
      "outputs": [
        {
          "data": {
            "image/png": "[encoded data removed]",
            "text/plain": [
              "<Figure size 432x288 with 1 Axes>"
            ]
          },
          "metadata": {},
          "output_type": "display_data"
        }
      ],
      "source": [
        "#Produce a plot of the losses\n",
        "#ANSWER\n",
        "x = [10000*i for i in range(len(training_losses))]\n",
        "plt.plot(x, training_losses, label='Train')\n",
        "plt.plot(x, validation_losses, label='Validation')\n",
        "plt.xlabel('Number of updates')\n",
        "plt.ylabel('Log Loss')\n",
        "plt.legend( ('Train', 'Validation') )\n",
        "plt.show()\n",
        "#Clear overfitting.\n",
        "#L2 regularization should help. Smaller step size will help in terms of number of updates but is possibly just slowing the process"
      ]
    },
    {
      "cell_type": "code",
      "execution_count": null,
      "metadata": {
        "colab": {
          "base_uri": "https://localhost:8080/",
          "height": 130
        },
        "id": "yARCrLCyOIgy",
        "outputId": "a4303c82-69be-45f9-c409-be06da7748f7"
      },
      "outputs": [
        {
          "ename": "SyntaxError",
          "evalue": "ignored",
          "output_type": "error",
          "traceback": [
            "\u001b[0;36m  File \u001b[0;32m\"<ipython-input-12-931bed89f856>\"\u001b[0;36m, line \u001b[0;32m17\u001b[0m\n\u001b[0;31m    w[i] -= ((p - y + ) * 2 + lbd * sign(w[i])) * alpha / (sqrt(n[i]) + 1.)\u001b[0m\n\u001b[0m                      ^\u001b[0m\n\u001b[0;31mSyntaxError\u001b[0m\u001b[0;31m:\u001b[0m invalid syntax\n"
          ]
        }
      ],
      "source": [
        "#ANSWER - same stuff with a L2 regularizer (bias term + quad terms)\n",
        "#A lot of settings allows a large difference between train and validation, theses are indeed bad\n",
        "#Remark than combining L1 and L2 is easy and is often named \"elasticnet\"\n",
        "import matplotlib.pyplot as plt\n",
        "import math\n",
        "\n",
        "def update_wL2(w, n, x, p, y, lbd=5e-4):\n",
        "    for i in x:\n",
        "        # L2 reg added here. \n",
        "        w[i] -= ((p - y + lbd * 2 * w[i])  ) * alpha / (sqrt(n[i]) + 1.) \n",
        "        n[i] += 1.\n",
        "    return w, n\n",
        "\n",
        "sign = lambda x: math.copysign(1, x) #python has cumbersome sign function \n",
        "def update_wL1(w, n, x, p, y, lbd=5e-4):\n",
        "    for i in x:\n",
        "        w[i] -= ((p - y + ) * 2 + lbd * sign(w[i])) * alpha / (sqrt(n[i]) + 1.) \n",
        "        n[i] += 1.\n",
        "    return w, n\n",
        "\n",
        "D = 2 ** 24\n",
        "w = [0.] * D  \n",
        "n = [0.] * D\n",
        "loss = 0.\n",
        "n_epochs = 10\n",
        "n_updates = 0\n",
        "training_losses = [] \n",
        "validation_losses = [] \n",
        "alpha = .01 #CARE THE LEARNING RATE HAS BEEN MODIFIED \n",
        "\n",
        "for e in range(n_epochs):\n",
        "  training_loss = 0\n",
        "  for t, (row, y)  in enumerate(zip(DictReader(open(X_train)), DictReader(open(y_train)))):\n",
        "      x = get_x(row, D)\n",
        "      p = get_p(x, w)\n",
        "      target = float(y['click'])\n",
        "      training_loss += logloss(p, target)\n",
        "      if n_updates% 10000 == 0 and n_updates>1:\n",
        "          training_losses.append( training_loss/t )\n",
        "          validation_losses.append( compute_validation_loss(w, D) )\n",
        "          print('%s\\tupdates: %d\\tcurrent logloss on train: %f\\tcurrent logloss on validation: %f \\tNCE in validation %f' % (\n",
        "              datetime.now(), n_updates, training_losses[-1], validation_losses[-1], (Hy-validation_losses[-1])/Hy ))\n",
        "      w, n = update_wL2(w, n, x, p, target) #CODE UPDATED HERE \n",
        "      n_updates += 1\n",
        "\n",
        "x = [10000*i for i in range(len(training_losses))]\n",
        "plt.plot(x, training_losses, label='Train')\n",
        "plt.plot(x, validation_losses, label='Validation')\n",
        "plt.xlabel('Number of updates')\n",
        "plt.ylabel('Log Loss')\n",
        "plt.legend( ('Train', 'Validation') )\n",
        "plt.show() \n",
        "\n",
        "wL2 = w #keep it for later use\n",
        "\n",
        "#Depending on the learning rate and the coefficent in front of regularization this is possible \n",
        "#to have some overfitting advocating for early stopping. Remark that it does not hurt as hard the validation performance \n",
        "#Gains remains quite unclear, possibly due to the small dataset size   "
      ]
    },
    {
      "cell_type": "code",
      "execution_count": null,
      "metadata": {
        "id": "TyG9M30Qnh-S"
      },
      "outputs": [],
      "source": [
        "#Restart the main loop. This does not look as an optimal strategy. \n",
        "D = 2 ** 24\n",
        "w = [0.] * D  \n",
        "n = [0.] * D\n",
        "loss = 0.\n",
        "n_epochs = 5\n",
        "n_updates = 0\n",
        "training_losses = [] \n",
        "validation_losses = [] \n",
        "alpha = .01 \n",
        "\n",
        "for e in range(n_epochs):\n",
        "  training_loss = 0\n",
        "  for t, (row, y)  in enumerate(zip(DictReader(open(X_train)), DictReader(open(y_train)))):\n",
        "      x = get_x(row, D)\n",
        "      p = get_p(x, w)\n",
        "      target = float(y['click'])\n",
        "      training_loss += logloss(p, target)\n",
        "      if n_updates% 10000 == 0 and n_updates>1:\n",
        "          training_losses.append( training_loss/t )\n",
        "          validation_losses.append( compute_validation_loss(w, D) )\n",
        "          print('%s\\tupdates: %d\\tcurrent logloss on train: %f\\tcurrent logloss on validation: %f \\tNCE in validation %f' % (\n",
        "              datetime.now(), n_updates, training_losses[-1], validation_losses[-1], (Hy-validation_losses[-1])/Hy ))\n",
        "      w, n = update_wL1(w, n, x, p, target) #CODE UPDATED HERE \n",
        "      n_updates += 1\n",
        "\n",
        "x = [10000*i for i in range(len(training_losses))]\n",
        "plt.plot(x, training_losses, label='Train')\n",
        "plt.plot(x, validation_losses, label='Validation')\n",
        "plt.xlabel('Number of updates')\n",
        "plt.ylabel('Log Loss')\n",
        "plt.legend( ('Train', 'Validation') )\n",
        "plt.show() \n",
        "\n",
        "wL1 = w #keep it for later use\n"
      ]
    },
    {
      "cell_type": "markdown",
      "metadata": {
        "id": "08lVHf8pltUh"
      },
      "source": [
        "6. Plot an histogram of the values of the parameters without any regularization, with a L1 regularization and with a L2 one. If there is too many values in w you can subsample it. Can you explain the plots?\n",
        "\n"
      ]
    },
    {
      "cell_type": "code",
      "execution_count": null,
      "metadata": {
        "id": "FDFCojoPgnWq"
      },
      "outputs": [],
      "source": [
        "bins = np.linspace(-0.1, 0.1, 100)\n",
        "plt.hist(wL1[:5000], bins, alpha=0.5, label='L1 weights')\n",
        "plt.hist(wL2[:5000], bins, alpha=0.5, label='L2 weights')\n",
        "plt.legend(loc='upper right')\n",
        "plt.title('weight distribution')\n",
        "plt.show()\n",
        "\n",
        "#Indeed there is many zeros in the array (even more for L1 which is expected as it induces sparcity). \n",
        "#To have a resonnable plot we can remove them by\n",
        "wL1_np = np.array(wL1)\n",
        "wL2_np = np.array(wL2)\n",
        "wL1_np[wL1_np==0]=np.nan\n",
        "wL2_np[wL2_np==0]=np.nan\n",
        "plt.hist(wL1_np[:20000], bins, alpha=0.5, label='L1 weights')\n",
        "plt.hist(wL2_np[:20000], bins, alpha=0.5, label='L2 weights')\n",
        "plt.legend(loc='upper right')\n",
        "plt.title('weight distribution omitting 0')\n",
        "plt.show()\n",
        "#We observe a lot of small values for parameters which is typical of a large scale log reg with quad features and make them hard to interpret. \n"
      ]
    },
    {
      "cell_type": "markdown",
      "metadata": {
        "id": "UORYeKF9IARr"
      },
      "source": [
        "8. Optimize the hyperparameters (the $L_1/L_2$ terms and the step size of the descent). Maybe this is time to use an external tool such as [Weight and Biases](https://wandb.ai/site) (the easy free for personal use path). It is possible to achieve the same results with  [Ray-Tune](https://docs.ray.io/en/latest/tune/index.html) combined with [MLflow](https://mlflow.org/) (the open source way).\n",
        "\n",
        "Some documentation on hyperparamter tuning [here](https://docs.wandb.ai/guides/sweeps/python-api)"
      ]
    },
    {
      "cell_type": "code",
      "execution_count": null,
      "metadata": {
        "colab": {
          "base_uri": "https://localhost:8080/"
        },
        "id": "JVrZaSv5eXPJ",
        "outputId": "5598ab2d-bc36-49a2-c1b0-179c5176db06"
      },
      "outputs": [
        {
          "name": "stdout",
          "output_type": "stream",
          "text": [
            "Collecting wandb\n",
            "  Downloading wandb-0.12.5-py2.py3-none-any.whl (1.7 MB)\n",
            "\u001b[?25l\r\u001b[K     |▏                               | 10 kB 21.2 MB/s eta 0:00:01\r\u001b[K     |▍                               | 20 kB 8.8 MB/s eta 0:00:01\r\u001b[K     |▋                               | 30 kB 7.5 MB/s eta 0:00:01\r\u001b[K     |▉                               | 40 kB 7.0 MB/s eta 0:00:01\r\u001b[K     |█                               | 51 kB 5.6 MB/s eta 0:00:01\r\u001b[K     |█▏                              | 61 kB 5.6 MB/s eta 0:00:01\r\u001b[K     |█▍                              | 71 kB 4.8 MB/s eta 0:00:01\r\u001b[K     |█▋                              | 81 kB 5.4 MB/s eta 0:00:01\r\u001b[K     |█▊                              | 92 kB 5.3 MB/s eta 0:00:01\r\u001b[K     |██                              | 102 kB 5.3 MB/s eta 0:00:01\r\u001b[K     |██▏                             | 112 kB 5.3 MB/s eta 0:00:01\r\u001b[K     |██▍                             | 122 kB 5.3 MB/s eta 0:00:01\r\u001b[K     |██▌                             | 133 kB 5.3 MB/s eta 0:00:01\r\u001b[K     |██▊                             | 143 kB 5.3 MB/s eta 0:00:01\r\u001b[K     |███                             | 153 kB 5.3 MB/s eta 0:00:01\r\u001b[K     |███▏                            | 163 kB 5.3 MB/s eta 0:00:01\r\u001b[K     |███▎                            | 174 kB 5.3 MB/s eta 0:00:01\r\u001b[K     |███▌                            | 184 kB 5.3 MB/s eta 0:00:01\r\u001b[K     |███▊                            | 194 kB 5.3 MB/s eta 0:00:01\r\u001b[K     |████                            | 204 kB 5.3 MB/s eta 0:00:01\r\u001b[K     |████                            | 215 kB 5.3 MB/s eta 0:00:01\r\u001b[K     |████▎                           | 225 kB 5.3 MB/s eta 0:00:01\r\u001b[K     |████▌                           | 235 kB 5.3 MB/s eta 0:00:01\r\u001b[K     |████▊                           | 245 kB 5.3 MB/s eta 0:00:01\r\u001b[K     |████▉                           | 256 kB 5.3 MB/s eta 0:00:01\r\u001b[K     |█████                           | 266 kB 5.3 MB/s eta 0:00:01\r\u001b[K     |█████▎                          | 276 kB 5.3 MB/s eta 0:00:01\r\u001b[K     |█████▌                          | 286 kB 5.3 MB/s eta 0:00:01\r\u001b[K     |█████▋                          | 296 kB 5.3 MB/s eta 0:00:01\r\u001b[K     |█████▉                          | 307 kB 5.3 MB/s eta 0:00:01\r\u001b[K     |██████                          | 317 kB 5.3 MB/s eta 0:00:01\r\u001b[K     |██████▎                         | 327 kB 5.3 MB/s eta 0:00:01\r\u001b[K     |██████▍                         | 337 kB 5.3 MB/s eta 0:00:01\r\u001b[K     |██████▋                         | 348 kB 5.3 MB/s eta 0:00:01\r\u001b[K     |██████▉                         | 358 kB 5.3 MB/s eta 0:00:01\r\u001b[K     |███████                         | 368 kB 5.3 MB/s eta 0:00:01\r\u001b[K     |███████▏                        | 378 kB 5.3 MB/s eta 0:00:01\r\u001b[K     |███████▍                        | 389 kB 5.3 MB/s eta 0:00:01\r\u001b[K     |███████▋                        | 399 kB 5.3 MB/s eta 0:00:01\r\u001b[K     |███████▉                        | 409 kB 5.3 MB/s eta 0:00:01\r\u001b[K     |████████                        | 419 kB 5.3 MB/s eta 0:00:01\r\u001b[K     |████████▏                       | 430 kB 5.3 MB/s eta 0:00:01\r\u001b[K     |████████▍                       | 440 kB 5.3 MB/s eta 0:00:01\r\u001b[K     |████████▋                       | 450 kB 5.3 MB/s eta 0:00:01\r\u001b[K     |████████▊                       | 460 kB 5.3 MB/s eta 0:00:01\r\u001b[K     |█████████                       | 471 kB 5.3 MB/s eta 0:00:01\r\u001b[K     |█████████▏                      | 481 kB 5.3 MB/s eta 0:00:01\r\u001b[K     |█████████▍                      | 491 kB 5.3 MB/s eta 0:00:01\r\u001b[K     |█████████▌                      | 501 kB 5.3 MB/s eta 0:00:01\r\u001b[K     |█████████▊                      | 512 kB 5.3 MB/s eta 0:00:01\r\u001b[K     |██████████                      | 522 kB 5.3 MB/s eta 0:00:01\r\u001b[K     |██████████▏                     | 532 kB 5.3 MB/s eta 0:00:01\r\u001b[K     |██████████▎                     | 542 kB 5.3 MB/s eta 0:00:01\r\u001b[K     |██████████▌                     | 552 kB 5.3 MB/s eta 0:00:01\r\u001b[K     |██████████▊                     | 563 kB 5.3 MB/s eta 0:00:01\r\u001b[K     |███████████                     | 573 kB 5.3 MB/s eta 0:00:01\r\u001b[K     |███████████                     | 583 kB 5.3 MB/s eta 0:00:01\r\u001b[K     |███████████▎                    | 593 kB 5.3 MB/s eta 0:00:01\r\u001b[K     |███████████▌                    | 604 kB 5.3 MB/s eta 0:00:01\r\u001b[K     |███████████▊                    | 614 kB 5.3 MB/s eta 0:00:01\r\u001b[K     |████████████                    | 624 kB 5.3 MB/s eta 0:00:01\r\u001b[K     |████████████                    | 634 kB 5.3 MB/s eta 0:00:01\r\u001b[K     |████████████▎                   | 645 kB 5.3 MB/s eta 0:00:01\r\u001b[K     |████████████▌                   | 655 kB 5.3 MB/s eta 0:00:01\r\u001b[K     |████████████▊                   | 665 kB 5.3 MB/s eta 0:00:01\r\u001b[K     |████████████▉                   | 675 kB 5.3 MB/s eta 0:00:01\r\u001b[K     |█████████████                   | 686 kB 5.3 MB/s eta 0:00:01\r\u001b[K     |█████████████▎                  | 696 kB 5.3 MB/s eta 0:00:01\r\u001b[K     |█████████████▌                  | 706 kB 5.3 MB/s eta 0:00:01\r\u001b[K     |█████████████▋                  | 716 kB 5.3 MB/s eta 0:00:01\r\u001b[K     |█████████████▉                  | 727 kB 5.3 MB/s eta 0:00:01\r\u001b[K     |██████████████                  | 737 kB 5.3 MB/s eta 0:00:01\r\u001b[K     |██████████████▎                 | 747 kB 5.3 MB/s eta 0:00:01\r\u001b[K     |██████████████▍                 | 757 kB 5.3 MB/s eta 0:00:01\r\u001b[K     |██████████████▋                 | 768 kB 5.3 MB/s eta 0:00:01\r\u001b[K     |██████████████▉                 | 778 kB 5.3 MB/s eta 0:00:01\r\u001b[K     |███████████████                 | 788 kB 5.3 MB/s eta 0:00:01\r\u001b[K     |███████████████▏                | 798 kB 5.3 MB/s eta 0:00:01\r\u001b[K     |███████████████▍                | 808 kB 5.3 MB/s eta 0:00:01\r\u001b[K     |███████████████▋                | 819 kB 5.3 MB/s eta 0:00:01\r\u001b[K     |███████████████▉                | 829 kB 5.3 MB/s eta 0:00:01\r\u001b[K     |████████████████                | 839 kB 5.3 MB/s eta 0:00:01\r\u001b[K     |████████████████▏               | 849 kB 5.3 MB/s eta 0:00:01\r\u001b[K     |████████████████▍               | 860 kB 5.3 MB/s eta 0:00:01\r\u001b[K     |████████████████▋               | 870 kB 5.3 MB/s eta 0:00:01\r\u001b[K     |████████████████▊               | 880 kB 5.3 MB/s eta 0:00:01\r\u001b[K     |█████████████████               | 890 kB 5.3 MB/s eta 0:00:01\r\u001b[K     |█████████████████▏              | 901 kB 5.3 MB/s eta 0:00:01\r\u001b[K     |█████████████████▍              | 911 kB 5.3 MB/s eta 0:00:01\r\u001b[K     |█████████████████▌              | 921 kB 5.3 MB/s eta 0:00:01\r\u001b[K     |█████████████████▊              | 931 kB 5.3 MB/s eta 0:00:01\r\u001b[K     |██████████████████              | 942 kB 5.3 MB/s eta 0:00:01\r\u001b[K     |██████████████████▏             | 952 kB 5.3 MB/s eta 0:00:01\r\u001b[K     |██████████████████▎             | 962 kB 5.3 MB/s eta 0:00:01\r\u001b[K     |██████████████████▌             | 972 kB 5.3 MB/s eta 0:00:01\r\u001b[K     |██████████████████▊             | 983 kB 5.3 MB/s eta 0:00:01\r\u001b[K     |███████████████████             | 993 kB 5.3 MB/s eta 0:00:01\r\u001b[K     |███████████████████             | 1.0 MB 5.3 MB/s eta 0:00:01\r\u001b[K     |███████████████████▎            | 1.0 MB 5.3 MB/s eta 0:00:01\r\u001b[K     |███████████████████▌            | 1.0 MB 5.3 MB/s eta 0:00:01\r\u001b[K     |███████████████████▊            | 1.0 MB 5.3 MB/s eta 0:00:01\r\u001b[K     |███████████████████▉            | 1.0 MB 5.3 MB/s eta 0:00:01\r\u001b[K     |████████████████████            | 1.1 MB 5.3 MB/s eta 0:00:01\r\u001b[K     |████████████████████▎           | 1.1 MB 5.3 MB/s eta 0:00:01\r\u001b[K     |████████████████████▌           | 1.1 MB 5.3 MB/s eta 0:00:01\r\u001b[K     |████████████████████▋           | 1.1 MB 5.3 MB/s eta 0:00:01\r\u001b[K     |████████████████████▉           | 1.1 MB 5.3 MB/s eta 0:00:01\r\u001b[K     |█████████████████████           | 1.1 MB 5.3 MB/s eta 0:00:01\r\u001b[K     |█████████████████████▎          | 1.1 MB 5.3 MB/s eta 0:00:01\r\u001b[K     |█████████████████████▍          | 1.1 MB 5.3 MB/s eta 0:00:01\r\u001b[K     |█████████████████████▋          | 1.1 MB 5.3 MB/s eta 0:00:01\r\u001b[K     |█████████████████████▉          | 1.1 MB 5.3 MB/s eta 0:00:01\r\u001b[K     |██████████████████████          | 1.2 MB 5.3 MB/s eta 0:00:01\r\u001b[K     |██████████████████████▏         | 1.2 MB 5.3 MB/s eta 0:00:01\r\u001b[K     |██████████████████████▍         | 1.2 MB 5.3 MB/s eta 0:00:01\r\u001b[K     |██████████████████████▋         | 1.2 MB 5.3 MB/s eta 0:00:01\r\u001b[K     |██████████████████████▉         | 1.2 MB 5.3 MB/s eta 0:00:01\r\u001b[K     |███████████████████████         | 1.2 MB 5.3 MB/s eta 0:00:01\r\u001b[K     |███████████████████████▏        | 1.2 MB 5.3 MB/s eta 0:00:01\r\u001b[K     |███████████████████████▍        | 1.2 MB 5.3 MB/s eta 0:00:01\r\u001b[K     |███████████████████████▋        | 1.2 MB 5.3 MB/s eta 0:00:01\r\u001b[K     |███████████████████████▉        | 1.2 MB 5.3 MB/s eta 0:00:01\r\u001b[K     |████████████████████████        | 1.3 MB 5.3 MB/s eta 0:00:01\r\u001b[K     |████████████████████████▏       | 1.3 MB 5.3 MB/s eta 0:00:01\r\u001b[K     |████████████████████████▍       | 1.3 MB 5.3 MB/s eta 0:00:01\r\u001b[K     |████████████████████████▋       | 1.3 MB 5.3 MB/s eta 0:00:01\r\u001b[K     |████████████████████████▊       | 1.3 MB 5.3 MB/s eta 0:00:01\r\u001b[K     |█████████████████████████       | 1.3 MB 5.3 MB/s eta 0:00:01\r\u001b[K     |█████████████████████████▏      | 1.3 MB 5.3 MB/s eta 0:00:01\r\u001b[K     |█████████████████████████▍      | 1.3 MB 5.3 MB/s eta 0:00:01\r\u001b[K     |█████████████████████████▌      | 1.3 MB 5.3 MB/s eta 0:00:01\r\u001b[K     |█████████████████████████▊      | 1.4 MB 5.3 MB/s eta 0:00:01\r\u001b[K     |██████████████████████████      | 1.4 MB 5.3 MB/s eta 0:00:01\r\u001b[K     |██████████████████████████▏     | 1.4 MB 5.3 MB/s eta 0:00:01\r\u001b[K     |██████████████████████████▎     | 1.4 MB 5.3 MB/s eta 0:00:01\r\u001b[K     |██████████████████████████▌     | 1.4 MB 5.3 MB/s eta 0:00:01\r\u001b[K     |██████████████████████████▊     | 1.4 MB 5.3 MB/s eta 0:00:01\r\u001b[K     |███████████████████████████     | 1.4 MB 5.3 MB/s eta 0:00:01\r\u001b[K     |███████████████████████████     | 1.4 MB 5.3 MB/s eta 0:00:01\r\u001b[K     |███████████████████████████▎    | 1.4 MB 5.3 MB/s eta 0:00:01\r\u001b[K     |███████████████████████████▌    | 1.4 MB 5.3 MB/s eta 0:00:01\r\u001b[K     |███████████████████████████▊    | 1.5 MB 5.3 MB/s eta 0:00:01\r\u001b[K     |███████████████████████████▉    | 1.5 MB 5.3 MB/s eta 0:00:01\r\u001b[K     |████████████████████████████    | 1.5 MB 5.3 MB/s eta 0:00:01\r\u001b[K     |████████████████████████████▎   | 1.5 MB 5.3 MB/s eta 0:00:01\r\u001b[K     |████████████████████████████▌   | 1.5 MB 5.3 MB/s eta 0:00:01\r\u001b[K     |████████████████████████████▋   | 1.5 MB 5.3 MB/s eta 0:00:01\r\u001b[K     |████████████████████████████▉   | 1.5 MB 5.3 MB/s eta 0:00:01\r\u001b[K     |█████████████████████████████   | 1.5 MB 5.3 MB/s eta 0:00:01\r\u001b[K     |█████████████████████████████▎  | 1.5 MB 5.3 MB/s eta 0:00:01\r\u001b[K     |█████████████████████████████▍  | 1.5 MB 5.3 MB/s eta 0:00:01\r\u001b[K     |█████████████████████████████▋  | 1.6 MB 5.3 MB/s eta 0:00:01\r\u001b[K     |█████████████████████████████▉  | 1.6 MB 5.3 MB/s eta 0:00:01\r\u001b[K     |██████████████████████████████  | 1.6 MB 5.3 MB/s eta 0:00:01\r\u001b[K     |██████████████████████████████▏ | 1.6 MB 5.3 MB/s eta 0:00:01\r\u001b[K     |██████████████████████████████▍ | 1.6 MB 5.3 MB/s eta 0:00:01\r\u001b[K     |██████████████████████████████▋ | 1.6 MB 5.3 MB/s eta 0:00:01\r\u001b[K     |██████████████████████████████▉ | 1.6 MB 5.3 MB/s eta 0:00:01\r\u001b[K     |███████████████████████████████ | 1.6 MB 5.3 MB/s eta 0:00:01\r\u001b[K     |███████████████████████████████▏| 1.6 MB 5.3 MB/s eta 0:00:01\r\u001b[K     |███████████████████████████████▍| 1.6 MB 5.3 MB/s eta 0:00:01\r\u001b[K     |███████████████████████████████▋| 1.7 MB 5.3 MB/s eta 0:00:01\r\u001b[K     |███████████████████████████████▊| 1.7 MB 5.3 MB/s eta 0:00:01\r\u001b[K     |████████████████████████████████| 1.7 MB 5.3 MB/s eta 0:00:01\r\u001b[K     |████████████████████████████████| 1.7 MB 5.3 MB/s \n",
            "\u001b[?25hCollecting shortuuid>=0.5.0\n",
            "  Downloading shortuuid-1.0.1-py3-none-any.whl (7.5 kB)\n",
            "Collecting yaspin>=1.0.0\n",
            "  Downloading yaspin-2.1.0-py3-none-any.whl (18 kB)\n",
            "Requirement already satisfied: PyYAML in /usr/local/lib/python3.7/dist-packages (from wandb) (3.13)\n",
            "Collecting docker-pycreds>=0.4.0\n",
            "  Downloading docker_pycreds-0.4.0-py2.py3-none-any.whl (9.0 kB)\n",
            "Requirement already satisfied: requests<3,>=2.0.0 in /usr/local/lib/python3.7/dist-packages (from wandb) (2.23.0)\n",
            "Collecting subprocess32>=3.5.3\n",
            "  Downloading subprocess32-3.5.4.tar.gz (97 kB)\n",
            "\u001b[K     |████████████████████████████████| 97 kB 6.5 MB/s \n",
            "\u001b[?25hCollecting configparser>=3.8.1\n",
            "  Downloading configparser-5.0.2-py3-none-any.whl (19 kB)\n",
            "Requirement already satisfied: Click!=8.0.0,>=7.0 in /usr/local/lib/python3.7/dist-packages (from wandb) (7.1.2)\n",
            "Requirement already satisfied: psutil>=5.0.0 in /usr/local/lib/python3.7/dist-packages (from wandb) (5.4.8)\n",
            "Requirement already satisfied: promise<3,>=2.0 in /usr/local/lib/python3.7/dist-packages (from wandb) (2.3)\n",
            "Requirement already satisfied: python-dateutil>=2.6.1 in /usr/local/lib/python3.7/dist-packages (from wandb) (2.8.2)\n",
            "Requirement already satisfied: six>=1.13.0 in /usr/local/lib/python3.7/dist-packages (from wandb) (1.15.0)\n",
            "Collecting pathtools\n",
            "  Downloading pathtools-0.1.2.tar.gz (11 kB)\n",
            "Collecting sentry-sdk>=1.0.0\n",
            "  Downloading sentry_sdk-1.4.3-py2.py3-none-any.whl (139 kB)\n",
            "\u001b[K     |████████████████████████████████| 139 kB 53.8 MB/s \n",
            "\u001b[?25hRequirement already satisfied: protobuf>=3.12.0 in /usr/local/lib/python3.7/dist-packages (from wandb) (3.17.3)\n",
            "Collecting GitPython>=1.0.0\n",
            "  Downloading GitPython-3.1.24-py3-none-any.whl (180 kB)\n",
            "\u001b[K     |████████████████████████████████| 180 kB 42.0 MB/s \n",
            "\u001b[?25hRequirement already satisfied: typing-extensions>=3.7.4.3 in /usr/local/lib/python3.7/dist-packages (from GitPython>=1.0.0->wandb) (3.7.4.3)\n",
            "Collecting gitdb<5,>=4.0.1\n",
            "  Downloading gitdb-4.0.9-py3-none-any.whl (63 kB)\n",
            "\u001b[K     |████████████████████████████████| 63 kB 1.2 MB/s \n",
            "\u001b[?25hCollecting smmap<6,>=3.0.1\n",
            "  Downloading smmap-5.0.0-py3-none-any.whl (24 kB)\n",
            "Requirement already satisfied: urllib3!=1.25.0,!=1.25.1,<1.26,>=1.21.1 in /usr/local/lib/python3.7/dist-packages (from requests<3,>=2.0.0->wandb) (1.24.3)\n",
            "Requirement already satisfied: idna<3,>=2.5 in /usr/local/lib/python3.7/dist-packages (from requests<3,>=2.0.0->wandb) (2.10)\n",
            "Requirement already satisfied: certifi>=2017.4.17 in /usr/local/lib/python3.7/dist-packages (from requests<3,>=2.0.0->wandb) (2021.5.30)\n",
            "Requirement already satisfied: chardet<4,>=3.0.2 in /usr/local/lib/python3.7/dist-packages (from requests<3,>=2.0.0->wandb) (3.0.4)\n",
            "Requirement already satisfied: termcolor<2.0.0,>=1.1.0 in /usr/local/lib/python3.7/dist-packages (from yaspin>=1.0.0->wandb) (1.1.0)\n",
            "Building wheels for collected packages: subprocess32, pathtools\n",
            "  Building wheel for subprocess32 (setup.py) ... \u001b[?25l\u001b[?25hdone\n",
            "  Created wheel for subprocess32: filename=subprocess32-3.5.4-py3-none-any.whl size=6502 sha256=d41b7fdbd6906809b51c35da6454e89469f123db5244501883db25081bcc6198\n",
            "  Stored in directory: /root/.cache/pip/wheels/50/ca/fa/8fca8d246e64f19488d07567547ddec8eb084e8c0d7a59226a\n",
            "  Building wheel for pathtools (setup.py) ... \u001b[?25l\u001b[?25hdone\n",
            "  Created wheel for pathtools: filename=pathtools-0.1.2-py3-none-any.whl size=8807 sha256=145379c19c03a004a03625ae40c3108630546be0dc389826b4f7710061d455dc\n",
            "  Stored in directory: /root/.cache/pip/wheels/3e/31/09/fa59cef12cdcfecc627b3d24273699f390e71828921b2cbba2\n",
            "Successfully built subprocess32 pathtools\n",
            "Installing collected packages: smmap, gitdb, yaspin, subprocess32, shortuuid, sentry-sdk, pathtools, GitPython, docker-pycreds, configparser, wandb\n",
            "Successfully installed GitPython-3.1.24 configparser-5.0.2 docker-pycreds-0.4.0 gitdb-4.0.9 pathtools-0.1.2 sentry-sdk-1.4.3 shortuuid-1.0.1 smmap-5.0.0 subprocess32-3.5.4 wandb-0.12.5 yaspin-2.1.0\n",
            "\u001b[34m\u001b[1mwandb\u001b[0m: You can find your API key in your browser here: https://wandb.ai/authorize\n",
            "\u001b[34m\u001b[1mwandb\u001b[0m: Paste an API key from your profile and hit enter: \n",
            "\u001b[34m\u001b[1mwandb\u001b[0m: Appending key for api.wandb.ai to your netrc file: /root/.netrc\n"
          ]
        }
      ],
      "source": [
        "!pip install wandb\n",
        "!wandb login"
      ]
    },
    {
      "cell_type": "code",
      "execution_count": null,
      "metadata": {
        "colab": {
          "base_uri": "https://localhost:8080/"
        },
        "id": "mI1trSi2IAPw",
        "outputId": "a0efb3a2-971d-414c-a71d-01e2374cad8e"
      },
      "outputs": [
        {
          "name": "stdout",
          "output_type": "stream",
          "text": [
            "Create sweep with ID: 3vgytvlh\n",
            "Sweep URL: https://wandb.ai/jmary/uncategorized/sweeps/3vgytvlh\n"
          ]
        }
      ],
      "source": [
        "import wandb\n",
        "#Note that is exist the possiblity to create such config in a yaml file more info at https://docs.wandb.ai/guides/track/config\n",
        "#This may be used to store the results of experiments (including models) in a common place\n",
        "#Here we are going to create to config automatically thanks to a sweep but this is not the sole usage\n",
        "\n",
        "sweep_config = {\n",
        "  \"name\" : \"TP1-ENSAE-hyperparameter_search\",\n",
        "  \"method\" : \"random\", #There exist several strategies such as Bayes and it possible to add some early stopping (see Hyperband). Care NCE is not a loss (higher is better)\n",
        "  \"parameters\" : {\n",
        "    \"epochs\" : {\n",
        "      \"values\" : [1, 5, 10]\n",
        "    },\n",
        "    \"learning_rate\" :{\n",
        "      \"min\": 0.0001,\n",
        "      \"max\": 0.1\n",
        "    },\n",
        "    \"l1\":{\n",
        "      \"min\": 0.,\n",
        "      \"max\": 0.1\n",
        "    },\n",
        "    \"l2\":{\n",
        "      \"min\": 0.,\n",
        "      \"max\": 0.1\n",
        "    },\n",
        "  }\n",
        "}\n",
        "sweep_id = wandb.sweep(sweep_config)\n"
      ]
    },
    {
      "cell_type": "code",
      "execution_count": null,
      "metadata": {
        "colab": {
          "base_uri": "https://localhost:8080/",
          "height": 1000,
          "referenced_widgets": [
            "5e77470109164cf1b7699dea99c989ee",
            "1fd9b4cdb86047419b829de212ac0920",
            "fc7bcbd4f812490994713e0a186f6953",
            "bcc03c347b864be988af86406e112e5d",
            "84cd6a9c7d954e7bb3ddb6ac0e9f0997",
            "f1302451ebf94daa9d0d9eb8a068ea38",
            "8e0b16be41ea4d7f84470d752fc0323d",
            "d1d8c1a72ccf41d395b1fb6652c226ed",
            "541fcbd8691241a3aba04790ed9e4e14",
            "890a6bb149714234bd5d9262f6f6f503",
            "5f416993da2945b2843a716a86b160fc",
            "97d1a2d3190f409e92d2a922f7d3a720",
            "d6759736884a44de86c94570c9491ba9",
            "8b61493ba83c4832baf1fe9c8d1717ef",
            "7c42de4f52de492fbccd7ee2e31429fc",
            "28505e3039e9410dbd686690a9807c9c",
            "97daa61689ac4a069108c1b5b7faa836",
            "0f9d73d4f58949cdbfaea687699fbe45",
            "37fa6242aead41b5b35671edb48a116e",
            "c0a49ebf4bce4d43b6772ebf78ed6fc0",
            "b91ef4aa87cf452aa7e8a7e33ddbc2f4",
            "3158d3307fca4477889a3d5da7471197",
            "f0eb473347724bdda18462a5023f387a",
            "d61a4d8715784cf3bdca2de891234fb6",
            "2e3f7d85cb904816893f201a110ef72a",
            "d5cf2f3bf54b413b855be30c796cf611",
            "3d0803756fb34fa48f21d3495c07e2d6",
            "5e28b8eaf4aa4834aa3a7a51ff7468d9",
            "c9c0cae30a0d47d8b44ab8addbb007f7",
            "f4e782eee4b14fe7bfec5fa284ed5b0b",
            "bd5db879c954471e97e0f9e6cf560669",
            "d57649ed0999438b9b4e632ed380048f",
            "e6d6804081284674ba198e18b8720739",
            "a18e4a894e03441799c71a32d8dacb8e",
            "6485db1e99874cf29ed295ef67ec7cb8",
            "5e08f9a21c744982be3bd122fab2599f",
            "f4d74922d39048739a30c8c9dd2a84fb",
            "1e034739768a4302bbd8214681fdb897",
            "28309577885c42f58264041bedf3a965",
            "34bfced7189f4df186aaf137e9b0b68c",
            "b328c2c4784c4cbcab3c1ebc05fb9d36",
            "4728e90cb8c546c08f89a2ec156b8c50",
            "ee81bdbc7c834d4ca2e1c864b8a300ef",
            "485bc7f0667a41d1aa007ab585cfc7af",
            "5459425b13624cc7bbc52967c294d873",
            "196489f1cced4ba98640dc49429911c1",
            "7b34d35a0e424ea4a9b14fa9fc814ce3",
            "6a3ec4d103614b02978a54547a0242fd",
            "1c82e43b7e6f473abc5da27e1b7ba149",
            "eed59190e5854a92b9ecf376e1c6613f",
            "3cc286c0ab9c45a4a3744674f0331c27",
            "4507a965dfb942f59ef6d42b76dec1db",
            "5f8a47d0cecb4bb0aefc5b4b782a5736",
            "74dc63d3dacd4897a7f461d8a47ea15a",
            "6d45ca78d8a14632a048e6a7c1fb3376",
            "46860513f41e407d8f3815430b6b8394",
            "1379496d8fe148a9ac3f3dc3a0d7b6e4",
            "dd44cfceaf864c36986bfa9556a482f6",
            "a2fd45e32326442d8b1e8d27e0836eec",
            "27a0f603886945bab699f76db148b9fd",
            "bc5e8b3dee0b451cbb82981c72121ca5",
            "5eb52d7232534f6e84445f59ffd95c4b",
            "487633d9bd0c4e0ab0a95f52bd41e617",
            "34f81c3501074318ae2807a0997d47dc",
            "444fdd6ff0784e74a27dbb2f1ea9b492",
            "e8503310e7034c79808b9a4cb6a4c9b8",
            "6dd76dc07bc143c7bd22e7356e889628",
            "d7027aaa7aaf4f29a296c14f3bc2ce10",
            "2670df3d536542dda6f48cf323421a38",
            "fdedeb6021a145e2a958138adf6cd9b1",
            "cdd08ac15115454ba65cd97f8159ed96",
            "36a0b1e30cdf4f92958fe2741488fc81",
            "94e199e0073945de91d46712a824acfb",
            "0d4521708ab1496cb6b69abe0d09cd07",
            "3df949c7802f4b599f160d7f7db96d12",
            "3783146894d6480d8ee557b4f79b9919",
            "c6a1c8cf271f483887da93739dc25ff2",
            "ed46fa7443b84cc4bf5d027d642a9541",
            "28262d5fe7cc49cbac371a61a6791267",
            "9cf27be1edba48088e82043360753513"
          ]
        },
        "id": "4XpgeNKc2W-Z",
        "outputId": "4fa05ae7-4e98-4ac0-acdc-9d7714b274f1"
      },
      "outputs": [
        {
          "name": "stderr",
          "output_type": "stream",
          "text": [
            "\u001b[34m\u001b[1mwandb\u001b[0m: Agent Starting Run: jn4fo0q7 with config:\n",
            "\u001b[34m\u001b[1mwandb\u001b[0m: \tepochs: 5\n",
            "\u001b[34m\u001b[1mwandb\u001b[0m: \tl1: 0.04124553925054069\n",
            "\u001b[34m\u001b[1mwandb\u001b[0m: \tl2: 0.03778997831617628\n",
            "\u001b[34m\u001b[1mwandb\u001b[0m: \tlearning_rate: 0.019793832082334397\n"
          ]
        },
        {
          "data": {
            "text/html": [
              "\n",
              "                    Syncing run <strong><a href=\"https://wandb.ai/jmary/uncategorized/runs/jn4fo0q7\" target=\"_blank\">devout-sweep-1</a></strong> to <a href=\"https://wandb.ai/jmary/uncategorized\" target=\"_blank\">Weights & Biases</a> (<a href=\"https://docs.wandb.com/integrations/jupyter.html\" target=\"_blank\">docs</a>).<br/>\n",
              "Sweep page: <a href=\"https://wandb.ai/jmary/uncategorized/sweeps/3vgytvlh\" target=\"_blank\">https://wandb.ai/jmary/uncategorized/sweeps/3vgytvlh</a><br/>\n",
              "\n",
              "                "
            ],
            "text/plain": [
              "<IPython.core.display.HTML object>"
            ]
          },
          "metadata": {},
          "output_type": "display_data"
        },
        {
          "data": {
            "text/html": [
              "<br/>Waiting for W&B process to finish, PID 2439... <strong style=\"color:green\">(success).</strong>"
            ],
            "text/plain": [
              "<IPython.core.display.HTML object>"
            ]
          },
          "metadata": {},
          "output_type": "display_data"
        },
        {
          "data": {
            "application/vnd.jupyter.widget-view+json": {
              "model_id": "5e77470109164cf1b7699dea99c989ee",
              "version_major": 2,
              "version_minor": 0
            },
            "text/plain": [
              "VBox(children=(Label(value=' 0.00MB of 0.00MB uploaded (0.00MB deduped)\\r'), FloatProgress(value=1.0, max=1.0)…"
            ]
          },
          "metadata": {},
          "output_type": "display_data"
        },
        {
          "data": {
            "text/html": [
              "<style>\n",
              "    table.wandb td:nth-child(1) { padding: 0 10px; text-align: right }\n",
              "    .wandb-row { display: flex; flex-direction: row; flex-wrap: wrap; width: 100% }\n",
              "    .wandb-col { display: flex; flex-direction: column; flex-basis: 100%; flex: 1; padding: 10px; }\n",
              "    </style>\n",
              "<div class=\"wandb-row\"><div class=\"wandb-col\">\n",
              "<h3>Run history:</h3><br/><table class=\"wandb\"><tr><td>epoch</td><td>▁▁▁▁▁▁▁▁▃▃▃▃▃▃▃▃▅▅▅▅▅▅▅▅▆▆▆▆▆▆▆▆████████</td></tr><tr><td>loss</td><td>█▅▄▃▃▃▂▁▁▁▁▂▂▂▁▂▁▁▂▂▂▂▁▂▁▁▂▂▂▂▂▂▂▁▁▂▂▂▂▂</td></tr><tr><td>n_updates</td><td>▁▁▁▁▂▂▂▂▂▃▃▃▃▃▃▄▄▄▄▄▅▅▅▅▅▅▆▆▆▆▆▆▇▇▇▇▇███</td></tr></table><br/></div><div class=\"wandb-col\">\n",
              "<h3>Run summary:</h3><br/><table class=\"wandb\"><tr><td>epoch</td><td>4</td></tr><tr><td>loss</td><td>0.2536</td></tr><tr><td>n_updates</td><td>510000</td></tr></table>\n",
              "</div></div>\n",
              "Synced 4 W&B file(s), 0 media file(s), 0 artifact file(s) and 0 other file(s)\n",
              "<br/>Synced <strong style=\"color:#cdcd00\">devout-sweep-1</strong>: <a href=\"https://wandb.ai/jmary/uncategorized/runs/jn4fo0q7\" target=\"_blank\">https://wandb.ai/jmary/uncategorized/runs/jn4fo0q7</a><br/>\n",
              "Find logs at: <code>./wandb/run-20211025_101844-jn4fo0q7/logs</code><br/>\n"
            ],
            "text/plain": [
              "<IPython.core.display.HTML object>"
            ]
          },
          "metadata": {},
          "output_type": "display_data"
        },
        {
          "name": "stderr",
          "output_type": "stream",
          "text": [
            "\u001b[34m\u001b[1mwandb\u001b[0m: Agent Starting Run: a3inqsvo with config:\n",
            "\u001b[34m\u001b[1mwandb\u001b[0m: \tepochs: 1\n",
            "\u001b[34m\u001b[1mwandb\u001b[0m: \tl1: 0.07929978195556381\n",
            "\u001b[34m\u001b[1mwandb\u001b[0m: \tl2: 0.04412435222093099\n",
            "\u001b[34m\u001b[1mwandb\u001b[0m: \tlearning_rate: 0.053911402664362965\n"
          ]
        },
        {
          "data": {
            "text/html": [
              "\n",
              "                    Syncing run <strong><a href=\"https://wandb.ai/jmary/uncategorized/runs/a3inqsvo\" target=\"_blank\">blooming-sweep-2</a></strong> to <a href=\"https://wandb.ai/jmary/uncategorized\" target=\"_blank\">Weights & Biases</a> (<a href=\"https://docs.wandb.com/integrations/jupyter.html\" target=\"_blank\">docs</a>).<br/>\n",
              "Sweep page: <a href=\"https://wandb.ai/jmary/uncategorized/sweeps/3vgytvlh\" target=\"_blank\">https://wandb.ai/jmary/uncategorized/sweeps/3vgytvlh</a><br/>\n",
              "\n",
              "                "
            ],
            "text/plain": [
              "<IPython.core.display.HTML object>"
            ]
          },
          "metadata": {},
          "output_type": "display_data"
        },
        {
          "data": {
            "text/html": [
              "<br/>Waiting for W&B process to finish, PID 2523... <strong style=\"color:green\">(success).</strong>"
            ],
            "text/plain": [
              "<IPython.core.display.HTML object>"
            ]
          },
          "metadata": {},
          "output_type": "display_data"
        },
        {
          "data": {
            "application/vnd.jupyter.widget-view+json": {
              "model_id": "541fcbd8691241a3aba04790ed9e4e14",
              "version_major": 2,
              "version_minor": 0
            },
            "text/plain": [
              "VBox(children=(Label(value=' 0.00MB of 0.00MB uploaded (0.00MB deduped)\\r'), FloatProgress(value=1.0, max=1.0)…"
            ]
          },
          "metadata": {},
          "output_type": "display_data"
        },
        {
          "data": {
            "text/html": [
              "<style>\n",
              "    table.wandb td:nth-child(1) { padding: 0 10px; text-align: right }\n",
              "    .wandb-row { display: flex; flex-direction: row; flex-wrap: wrap; width: 100% }\n",
              "    .wandb-col { display: flex; flex-direction: column; flex-basis: 100%; flex: 1; padding: 10px; }\n",
              "    </style>\n",
              "<div class=\"wandb-row\"><div class=\"wandb-col\">\n",
              "<h3>Run history:</h3><br/><table class=\"wandb\"><tr><td>epoch</td><td>▁▁▁▁▁▁▁▁▁▁</td></tr><tr><td>loss</td><td>█▄▆▂▄▃▃▃▁▂</td></tr><tr><td>n_updates</td><td>▁▂▃▃▄▅▆▆▇█</td></tr></table><br/></div><div class=\"wandb-col\">\n",
              "<h3>Run summary:</h3><br/><table class=\"wandb\"><tr><td>epoch</td><td>0</td></tr><tr><td>loss</td><td>0.26863</td></tr><tr><td>n_updates</td><td>100000</td></tr></table>\n",
              "</div></div>\n",
              "Synced 4 W&B file(s), 0 media file(s), 0 artifact file(s) and 0 other file(s)\n",
              "<br/>Synced <strong style=\"color:#cdcd00\">blooming-sweep-2</strong>: <a href=\"https://wandb.ai/jmary/uncategorized/runs/a3inqsvo\" target=\"_blank\">https://wandb.ai/jmary/uncategorized/runs/a3inqsvo</a><br/>\n",
              "Find logs at: <code>./wandb/run-20211025_102322-a3inqsvo/logs</code><br/>\n"
            ],
            "text/plain": [
              "<IPython.core.display.HTML object>"
            ]
          },
          "metadata": {},
          "output_type": "display_data"
        },
        {
          "name": "stderr",
          "output_type": "stream",
          "text": [
            "\u001b[34m\u001b[1mwandb\u001b[0m: Agent Starting Run: x2796rnu with config:\n",
            "\u001b[34m\u001b[1mwandb\u001b[0m: \tepochs: 10\n",
            "\u001b[34m\u001b[1mwandb\u001b[0m: \tl1: 0.08430106475208746\n",
            "\u001b[34m\u001b[1mwandb\u001b[0m: \tl2: 0.06851354320718617\n",
            "\u001b[34m\u001b[1mwandb\u001b[0m: \tlearning_rate: 0.050213592155775616\n"
          ]
        },
        {
          "data": {
            "text/html": [
              "\n",
              "                    Syncing run <strong><a href=\"https://wandb.ai/jmary/uncategorized/runs/x2796rnu\" target=\"_blank\">swift-sweep-3</a></strong> to <a href=\"https://wandb.ai/jmary/uncategorized\" target=\"_blank\">Weights & Biases</a> (<a href=\"https://docs.wandb.com/integrations/jupyter.html\" target=\"_blank\">docs</a>).<br/>\n",
              "Sweep page: <a href=\"https://wandb.ai/jmary/uncategorized/sweeps/3vgytvlh\" target=\"_blank\">https://wandb.ai/jmary/uncategorized/sweeps/3vgytvlh</a><br/>\n",
              "\n",
              "                "
            ],
            "text/plain": [
              "<IPython.core.display.HTML object>"
            ]
          },
          "metadata": {},
          "output_type": "display_data"
        },
        {
          "data": {
            "text/html": [
              "<br/>Waiting for W&B process to finish, PID 2569... <strong style=\"color:green\">(success).</strong>"
            ],
            "text/plain": [
              "<IPython.core.display.HTML object>"
            ]
          },
          "metadata": {},
          "output_type": "display_data"
        },
        {
          "data": {
            "application/vnd.jupyter.widget-view+json": {
              "model_id": "97daa61689ac4a069108c1b5b7faa836",
              "version_major": 2,
              "version_minor": 0
            },
            "text/plain": [
              "VBox(children=(Label(value=' 0.00MB of 0.00MB uploaded (0.00MB deduped)\\r'), FloatProgress(value=1.0, max=1.0)…"
            ]
          },
          "metadata": {},
          "output_type": "display_data"
        },
        {
          "data": {
            "text/html": [
              "<style>\n",
              "    table.wandb td:nth-child(1) { padding: 0 10px; text-align: right }\n",
              "    .wandb-row { display: flex; flex-direction: row; flex-wrap: wrap; width: 100% }\n",
              "    .wandb-col { display: flex; flex-direction: column; flex-basis: 100%; flex: 1; padding: 10px; }\n",
              "    </style>\n",
              "<div class=\"wandb-row\"><div class=\"wandb-col\">\n",
              "<h3>Run history:</h3><br/><table class=\"wandb\"><tr><td>epoch</td><td>▁▁▁▁▂▂▂▂▃▃▃▃▃▃▃▃▄▄▄▄▅▅▅▅▆▆▆▆▆▆▆▆▇▇▇▇████</td></tr><tr><td>loss</td><td>█▆▄▃▁▂▄▄▃▄▅▄▂▄▆▄▄▅▅▄▄▅▅▅▄▅▆▅▄▆▆▆▆▆▆▆▅▆▇▇</td></tr><tr><td>n_updates</td><td>▁▁▁▁▂▂▂▂▂▃▃▃▃▃▃▄▄▄▄▄▅▅▅▅▅▅▆▆▆▆▆▇▇▇▇▇▇███</td></tr></table><br/></div><div class=\"wandb-col\">\n",
              "<h3>Run summary:</h3><br/><table class=\"wandb\"><tr><td>epoch</td><td>9</td></tr><tr><td>loss</td><td>0.2758</td></tr><tr><td>n_updates</td><td>1020000</td></tr></table>\n",
              "</div></div>\n",
              "Synced 4 W&B file(s), 0 media file(s), 0 artifact file(s) and 0 other file(s)\n",
              "<br/>Synced <strong style=\"color:#cdcd00\">swift-sweep-3</strong>: <a href=\"https://wandb.ai/jmary/uncategorized/runs/x2796rnu\" target=\"_blank\">https://wandb.ai/jmary/uncategorized/runs/x2796rnu</a><br/>\n",
              "Find logs at: <code>./wandb/run-20211025_102424-x2796rnu/logs</code><br/>\n"
            ],
            "text/plain": [
              "<IPython.core.display.HTML object>"
            ]
          },
          "metadata": {},
          "output_type": "display_data"
        },
        {
          "name": "stderr",
          "output_type": "stream",
          "text": [
            "\u001b[34m\u001b[1mwandb\u001b[0m: Agent Starting Run: fboptou0 with config:\n",
            "\u001b[34m\u001b[1mwandb\u001b[0m: \tepochs: 1\n",
            "\u001b[34m\u001b[1mwandb\u001b[0m: \tl1: 0.02796910008987924\n",
            "\u001b[34m\u001b[1mwandb\u001b[0m: \tl2: 0.049851805400657125\n",
            "\u001b[34m\u001b[1mwandb\u001b[0m: \tlearning_rate: 0.0848513028228197\n"
          ]
        },
        {
          "data": {
            "text/html": [
              "\n",
              "                    Syncing run <strong><a href=\"https://wandb.ai/jmary/uncategorized/runs/fboptou0\" target=\"_blank\">cosmic-sweep-4</a></strong> to <a href=\"https://wandb.ai/jmary/uncategorized\" target=\"_blank\">Weights & Biases</a> (<a href=\"https://docs.wandb.com/integrations/jupyter.html\" target=\"_blank\">docs</a>).<br/>\n",
              "Sweep page: <a href=\"https://wandb.ai/jmary/uncategorized/sweeps/3vgytvlh\" target=\"_blank\">https://wandb.ai/jmary/uncategorized/sweeps/3vgytvlh</a><br/>\n",
              "\n",
              "                "
            ],
            "text/plain": [
              "<IPython.core.display.HTML object>"
            ]
          },
          "metadata": {},
          "output_type": "display_data"
        },
        {
          "data": {
            "text/html": [
              "<br/>Waiting for W&B process to finish, PID 2691... <strong style=\"color:green\">(success).</strong>"
            ],
            "text/plain": [
              "<IPython.core.display.HTML object>"
            ]
          },
          "metadata": {},
          "output_type": "display_data"
        },
        {
          "data": {
            "application/vnd.jupyter.widget-view+json": {
              "model_id": "2e3f7d85cb904816893f201a110ef72a",
              "version_major": 2,
              "version_minor": 0
            },
            "text/plain": [
              "VBox(children=(Label(value=' 0.00MB of 0.00MB uploaded (0.00MB deduped)\\r'), FloatProgress(value=1.0, max=1.0)…"
            ]
          },
          "metadata": {},
          "output_type": "display_data"
        },
        {
          "data": {
            "text/html": [
              "<style>\n",
              "    table.wandb td:nth-child(1) { padding: 0 10px; text-align: right }\n",
              "    .wandb-row { display: flex; flex-direction: row; flex-wrap: wrap; width: 100% }\n",
              "    .wandb-col { display: flex; flex-direction: column; flex-basis: 100%; flex: 1; padding: 10px; }\n",
              "    </style>\n",
              "<div class=\"wandb-row\"><div class=\"wandb-col\">\n",
              "<h3>Run history:</h3><br/><table class=\"wandb\"><tr><td>epoch</td><td>▁▁▁▁▁▁▁▁▁▁</td></tr><tr><td>loss</td><td>█▅▆▄▄▃▃▃▁▁</td></tr><tr><td>n_updates</td><td>▁▂▃▃▄▅▆▆▇█</td></tr></table><br/></div><div class=\"wandb-col\">\n",
              "<h3>Run summary:</h3><br/><table class=\"wandb\"><tr><td>epoch</td><td>0</td></tr><tr><td>loss</td><td>0.27522</td></tr><tr><td>n_updates</td><td>100000</td></tr></table>\n",
              "</div></div>\n",
              "Synced 4 W&B file(s), 0 media file(s), 0 artifact file(s) and 0 other file(s)\n",
              "<br/>Synced <strong style=\"color:#cdcd00\">cosmic-sweep-4</strong>: <a href=\"https://wandb.ai/jmary/uncategorized/runs/fboptou0\" target=\"_blank\">https://wandb.ai/jmary/uncategorized/runs/fboptou0</a><br/>\n",
              "Find logs at: <code>./wandb/run-20211025_103335-fboptou0/logs</code><br/>\n"
            ],
            "text/plain": [
              "<IPython.core.display.HTML object>"
            ]
          },
          "metadata": {},
          "output_type": "display_data"
        },
        {
          "name": "stderr",
          "output_type": "stream",
          "text": [
            "\u001b[34m\u001b[1mwandb\u001b[0m: Agent Starting Run: h238mjf8 with config:\n",
            "\u001b[34m\u001b[1mwandb\u001b[0m: \tepochs: 10\n",
            "\u001b[34m\u001b[1mwandb\u001b[0m: \tl1: 0.0019979418921936445\n",
            "\u001b[34m\u001b[1mwandb\u001b[0m: \tl2: 0.01057399337838092\n",
            "\u001b[34m\u001b[1mwandb\u001b[0m: \tlearning_rate: 0.0059667201550245704\n"
          ]
        },
        {
          "data": {
            "text/html": [
              "\n",
              "                    Syncing run <strong><a href=\"https://wandb.ai/jmary/uncategorized/runs/h238mjf8\" target=\"_blank\">rural-sweep-5</a></strong> to <a href=\"https://wandb.ai/jmary/uncategorized\" target=\"_blank\">Weights & Biases</a> (<a href=\"https://docs.wandb.com/integrations/jupyter.html\" target=\"_blank\">docs</a>).<br/>\n",
              "Sweep page: <a href=\"https://wandb.ai/jmary/uncategorized/sweeps/3vgytvlh\" target=\"_blank\">https://wandb.ai/jmary/uncategorized/sweeps/3vgytvlh</a><br/>\n",
              "\n",
              "                "
            ],
            "text/plain": [
              "<IPython.core.display.HTML object>"
            ]
          },
          "metadata": {},
          "output_type": "display_data"
        },
        {
          "data": {
            "text/html": [
              "<br/>Waiting for W&B process to finish, PID 2737... <strong style=\"color:green\">(success).</strong>"
            ],
            "text/plain": [
              "<IPython.core.display.HTML object>"
            ]
          },
          "metadata": {},
          "output_type": "display_data"
        },
        {
          "data": {
            "application/vnd.jupyter.widget-view+json": {
              "model_id": "e6d6804081284674ba198e18b8720739",
              "version_major": 2,
              "version_minor": 0
            },
            "text/plain": [
              "VBox(children=(Label(value=' 0.00MB of 0.00MB uploaded (0.00MB deduped)\\r'), FloatProgress(value=1.0, max=1.0)…"
            ]
          },
          "metadata": {},
          "output_type": "display_data"
        },
        {
          "data": {
            "text/html": [
              "<style>\n",
              "    table.wandb td:nth-child(1) { padding: 0 10px; text-align: right }\n",
              "    .wandb-row { display: flex; flex-direction: row; flex-wrap: wrap; width: 100% }\n",
              "    .wandb-col { display: flex; flex-direction: column; flex-basis: 100%; flex: 1; padding: 10px; }\n",
              "    </style>\n",
              "<div class=\"wandb-row\"><div class=\"wandb-col\">\n",
              "<h3>Run history:</h3><br/><table class=\"wandb\"><tr><td>epoch</td><td>▁▁▁▁▂▂▂▂▃▃▃▃▃▃▃▃▄▄▄▄▅▅▅▅▆▆▆▆▆▆▆▆▇▇▇▇████</td></tr><tr><td>loss</td><td>█▅▄▃▃▃▂▂▂▂▂▂▂▁▁▁▁▁▁▁▁▁▁▁▁▁▁▁▁▁▁▁▁▁▁▁▁▁▁▁</td></tr><tr><td>n_updates</td><td>▁▁▁▁▂▂▂▂▂▃▃▃▃▃▃▄▄▄▄▄▅▅▅▅▅▅▆▆▆▆▆▇▇▇▇▇▇███</td></tr></table><br/></div><div class=\"wandb-col\">\n",
              "<h3>Run summary:</h3><br/><table class=\"wandb\"><tr><td>epoch</td><td>9</td></tr><tr><td>loss</td><td>0.24509</td></tr><tr><td>n_updates</td><td>1020000</td></tr></table>\n",
              "</div></div>\n",
              "Synced 4 W&B file(s), 0 media file(s), 0 artifact file(s) and 0 other file(s)\n",
              "<br/>Synced <strong style=\"color:#cdcd00\">rural-sweep-5</strong>: <a href=\"https://wandb.ai/jmary/uncategorized/runs/h238mjf8\" target=\"_blank\">https://wandb.ai/jmary/uncategorized/runs/h238mjf8</a><br/>\n",
              "Find logs at: <code>./wandb/run-20211025_103438-h238mjf8/logs</code><br/>\n"
            ],
            "text/plain": [
              "<IPython.core.display.HTML object>"
            ]
          },
          "metadata": {},
          "output_type": "display_data"
        },
        {
          "name": "stderr",
          "output_type": "stream",
          "text": [
            "\u001b[34m\u001b[1mwandb\u001b[0m: Agent Starting Run: ijzukhnb with config:\n",
            "\u001b[34m\u001b[1mwandb\u001b[0m: \tepochs: 1\n",
            "\u001b[34m\u001b[1mwandb\u001b[0m: \tl1: 0.057264555565892855\n",
            "\u001b[34m\u001b[1mwandb\u001b[0m: \tl2: 0.012009484432108732\n",
            "\u001b[34m\u001b[1mwandb\u001b[0m: \tlearning_rate: 0.08196300614131087\n"
          ]
        },
        {
          "data": {
            "text/html": [
              "\n",
              "                    Syncing run <strong><a href=\"https://wandb.ai/jmary/uncategorized/runs/ijzukhnb\" target=\"_blank\">drawn-sweep-6</a></strong> to <a href=\"https://wandb.ai/jmary/uncategorized\" target=\"_blank\">Weights & Biases</a> (<a href=\"https://docs.wandb.com/integrations/jupyter.html\" target=\"_blank\">docs</a>).<br/>\n",
              "Sweep page: <a href=\"https://wandb.ai/jmary/uncategorized/sweeps/3vgytvlh\" target=\"_blank\">https://wandb.ai/jmary/uncategorized/sweeps/3vgytvlh</a><br/>\n",
              "\n",
              "                "
            ],
            "text/plain": [
              "<IPython.core.display.HTML object>"
            ]
          },
          "metadata": {},
          "output_type": "display_data"
        },
        {
          "data": {
            "text/html": [
              "<br/>Waiting for W&B process to finish, PID 2857... <strong style=\"color:green\">(success).</strong>"
            ],
            "text/plain": [
              "<IPython.core.display.HTML object>"
            ]
          },
          "metadata": {},
          "output_type": "display_data"
        },
        {
          "data": {
            "application/vnd.jupyter.widget-view+json": {
              "model_id": "b328c2c4784c4cbcab3c1ebc05fb9d36",
              "version_major": 2,
              "version_minor": 0
            },
            "text/plain": [
              "VBox(children=(Label(value=' 0.00MB of 0.00MB uploaded (0.00MB deduped)\\r'), FloatProgress(value=1.0, max=1.0)…"
            ]
          },
          "metadata": {},
          "output_type": "display_data"
        },
        {
          "data": {
            "text/html": [
              "<style>\n",
              "    table.wandb td:nth-child(1) { padding: 0 10px; text-align: right }\n",
              "    .wandb-row { display: flex; flex-direction: row; flex-wrap: wrap; width: 100% }\n",
              "    .wandb-col { display: flex; flex-direction: column; flex-basis: 100%; flex: 1; padding: 10px; }\n",
              "    </style>\n",
              "<div class=\"wandb-row\"><div class=\"wandb-col\">\n",
              "<h3>Run history:</h3><br/><table class=\"wandb\"><tr><td>epoch</td><td>▁▁▁▁▁▁▁▁▁▁</td></tr><tr><td>loss</td><td>█▅▇▃▄▃▃▃▁▂</td></tr><tr><td>n_updates</td><td>▁▂▃▃▄▅▆▆▇█</td></tr></table><br/></div><div class=\"wandb-col\">\n",
              "<h3>Run summary:</h3><br/><table class=\"wandb\"><tr><td>epoch</td><td>0</td></tr><tr><td>loss</td><td>0.2754</td></tr><tr><td>n_updates</td><td>100000</td></tr></table>\n",
              "</div></div>\n",
              "Synced 4 W&B file(s), 0 media file(s), 0 artifact file(s) and 0 other file(s)\n",
              "<br/>Synced <strong style=\"color:#cdcd00\">drawn-sweep-6</strong>: <a href=\"https://wandb.ai/jmary/uncategorized/runs/ijzukhnb\" target=\"_blank\">https://wandb.ai/jmary/uncategorized/runs/ijzukhnb</a><br/>\n",
              "Find logs at: <code>./wandb/run-20211025_104400-ijzukhnb/logs</code><br/>\n"
            ],
            "text/plain": [
              "<IPython.core.display.HTML object>"
            ]
          },
          "metadata": {},
          "output_type": "display_data"
        },
        {
          "name": "stderr",
          "output_type": "stream",
          "text": [
            "\u001b[34m\u001b[1mwandb\u001b[0m: Agent Starting Run: jv56w8z4 with config:\n",
            "\u001b[34m\u001b[1mwandb\u001b[0m: \tepochs: 10\n",
            "\u001b[34m\u001b[1mwandb\u001b[0m: \tl1: 0.09806597131980686\n",
            "\u001b[34m\u001b[1mwandb\u001b[0m: \tl2: 0.06977660096731027\n",
            "\u001b[34m\u001b[1mwandb\u001b[0m: \tlearning_rate: 0.07007478968823229\n"
          ]
        },
        {
          "data": {
            "text/html": [
              "\n",
              "                    Syncing run <strong><a href=\"https://wandb.ai/jmary/uncategorized/runs/jv56w8z4\" target=\"_blank\">ancient-sweep-7</a></strong> to <a href=\"https://wandb.ai/jmary/uncategorized\" target=\"_blank\">Weights & Biases</a> (<a href=\"https://docs.wandb.com/integrations/jupyter.html\" target=\"_blank\">docs</a>).<br/>\n",
              "Sweep page: <a href=\"https://wandb.ai/jmary/uncategorized/sweeps/3vgytvlh\" target=\"_blank\">https://wandb.ai/jmary/uncategorized/sweeps/3vgytvlh</a><br/>\n",
              "\n",
              "                "
            ],
            "text/plain": [
              "<IPython.core.display.HTML object>"
            ]
          },
          "metadata": {},
          "output_type": "display_data"
        },
        {
          "data": {
            "text/html": [
              "<br/>Waiting for W&B process to finish, PID 2899... <strong style=\"color:green\">(success).</strong>"
            ],
            "text/plain": [
              "<IPython.core.display.HTML object>"
            ]
          },
          "metadata": {},
          "output_type": "display_data"
        },
        {
          "data": {
            "application/vnd.jupyter.widget-view+json": {
              "model_id": "1c82e43b7e6f473abc5da27e1b7ba149",
              "version_major": 2,
              "version_minor": 0
            },
            "text/plain": [
              "VBox(children=(Label(value=' 0.00MB of 0.00MB uploaded (0.00MB deduped)\\r'), FloatProgress(value=1.0, max=1.0)…"
            ]
          },
          "metadata": {},
          "output_type": "display_data"
        },
        {
          "data": {
            "text/html": [
              "<style>\n",
              "    table.wandb td:nth-child(1) { padding: 0 10px; text-align: right }\n",
              "    .wandb-row { display: flex; flex-direction: row; flex-wrap: wrap; width: 100% }\n",
              "    .wandb-col { display: flex; flex-direction: column; flex-basis: 100%; flex: 1; padding: 10px; }\n",
              "    </style>\n",
              "<div class=\"wandb-row\"><div class=\"wandb-col\">\n",
              "<h3>Run history:</h3><br/><table class=\"wandb\"><tr><td>epoch</td><td>▁▁▁▁▂▂▂▂▃▃▃▃▃▃▃▃▄▄▄▄▅▅▅▅▆▆▆▆▆▆▆▆▇▇▇▇████</td></tr><tr><td>loss</td><td>██▄▄▁▂▃▄▃▄▄▃▂▄▅▄▄▄▅▄▄▅▅▄▃▅▆▅▄▅▆▅▅▅▆▅▄▆▇▆</td></tr><tr><td>n_updates</td><td>▁▁▁▁▂▂▂▂▂▃▃▃▃▃▃▄▄▄▄▄▅▅▅▅▅▅▆▆▆▆▆▇▇▇▇▇▇███</td></tr></table><br/></div><div class=\"wandb-col\">\n",
              "<h3>Run summary:</h3><br/><table class=\"wandb\"><tr><td>epoch</td><td>9</td></tr><tr><td>loss</td><td>0.28545</td></tr><tr><td>n_updates</td><td>1020000</td></tr></table>\n",
              "</div></div>\n",
              "Synced 4 W&B file(s), 0 media file(s), 0 artifact file(s) and 0 other file(s)\n",
              "<br/>Synced <strong style=\"color:#cdcd00\">ancient-sweep-7</strong>: <a href=\"https://wandb.ai/jmary/uncategorized/runs/jv56w8z4\" target=\"_blank\">https://wandb.ai/jmary/uncategorized/runs/jv56w8z4</a><br/>\n",
              "Find logs at: <code>./wandb/run-20211025_104501-jv56w8z4/logs</code><br/>\n"
            ],
            "text/plain": [
              "<IPython.core.display.HTML object>"
            ]
          },
          "metadata": {},
          "output_type": "display_data"
        },
        {
          "name": "stderr",
          "output_type": "stream",
          "text": [
            "\u001b[34m\u001b[1mwandb\u001b[0m: Agent Starting Run: hee1eyxk with config:\n",
            "\u001b[34m\u001b[1mwandb\u001b[0m: \tepochs: 1\n",
            "\u001b[34m\u001b[1mwandb\u001b[0m: \tl1: 0.09882516605873105\n",
            "\u001b[34m\u001b[1mwandb\u001b[0m: \tl2: 0.00754720243584941\n",
            "\u001b[34m\u001b[1mwandb\u001b[0m: \tlearning_rate: 0.0879750445449675\n"
          ]
        },
        {
          "data": {
            "text/html": [
              "\n",
              "                    Syncing run <strong><a href=\"https://wandb.ai/jmary/uncategorized/runs/hee1eyxk\" target=\"_blank\">silvery-sweep-8</a></strong> to <a href=\"https://wandb.ai/jmary/uncategorized\" target=\"_blank\">Weights & Biases</a> (<a href=\"https://docs.wandb.com/integrations/jupyter.html\" target=\"_blank\">docs</a>).<br/>\n",
              "Sweep page: <a href=\"https://wandb.ai/jmary/uncategorized/sweeps/3vgytvlh\" target=\"_blank\">https://wandb.ai/jmary/uncategorized/sweeps/3vgytvlh</a><br/>\n",
              "\n",
              "                "
            ],
            "text/plain": [
              "<IPython.core.display.HTML object>"
            ]
          },
          "metadata": {},
          "output_type": "display_data"
        },
        {
          "data": {
            "text/html": [
              "<br/>Waiting for W&B process to finish, PID 3033... <strong style=\"color:green\">(success).</strong>"
            ],
            "text/plain": [
              "<IPython.core.display.HTML object>"
            ]
          },
          "metadata": {},
          "output_type": "display_data"
        },
        {
          "data": {
            "application/vnd.jupyter.widget-view+json": {
              "model_id": "1379496d8fe148a9ac3f3dc3a0d7b6e4",
              "version_major": 2,
              "version_minor": 0
            },
            "text/plain": [
              "VBox(children=(Label(value=' 0.00MB of 0.00MB uploaded (0.00MB deduped)\\r'), FloatProgress(value=1.0, max=1.0)…"
            ]
          },
          "metadata": {},
          "output_type": "display_data"
        },
        {
          "data": {
            "text/html": [
              "<style>\n",
              "    table.wandb td:nth-child(1) { padding: 0 10px; text-align: right }\n",
              "    .wandb-row { display: flex; flex-direction: row; flex-wrap: wrap; width: 100% }\n",
              "    .wandb-col { display: flex; flex-direction: column; flex-basis: 100%; flex: 1; padding: 10px; }\n",
              "    </style>\n",
              "<div class=\"wandb-row\"><div class=\"wandb-col\">\n",
              "<h3>Run history:</h3><br/><table class=\"wandb\"><tr><td>epoch</td><td>▁▁▁▁▁▁▁▁▁▁</td></tr><tr><td>loss</td><td>█▅█▂▃▄▃▄▁▂</td></tr><tr><td>n_updates</td><td>▁▂▃▃▄▅▆▆▇█</td></tr></table><br/></div><div class=\"wandb-col\">\n",
              "<h3>Run summary:</h3><br/><table class=\"wandb\"><tr><td>epoch</td><td>0</td></tr><tr><td>loss</td><td>0.28497</td></tr><tr><td>n_updates</td><td>100000</td></tr></table>\n",
              "</div></div>\n",
              "Synced 4 W&B file(s), 0 media file(s), 0 artifact file(s) and 0 other file(s)\n",
              "<br/>Synced <strong style=\"color:#cdcd00\">silvery-sweep-8</strong>: <a href=\"https://wandb.ai/jmary/uncategorized/runs/hee1eyxk\" target=\"_blank\">https://wandb.ai/jmary/uncategorized/runs/hee1eyxk</a><br/>\n",
              "Find logs at: <code>./wandb/run-20211025_105412-hee1eyxk/logs</code><br/>\n"
            ],
            "text/plain": [
              "<IPython.core.display.HTML object>"
            ]
          },
          "metadata": {},
          "output_type": "display_data"
        },
        {
          "name": "stderr",
          "output_type": "stream",
          "text": [
            "\u001b[34m\u001b[1mwandb\u001b[0m: Agent Starting Run: cddv7maw with config:\n",
            "\u001b[34m\u001b[1mwandb\u001b[0m: \tepochs: 5\n",
            "\u001b[34m\u001b[1mwandb\u001b[0m: \tl1: 0.08785869399575895\n",
            "\u001b[34m\u001b[1mwandb\u001b[0m: \tl2: 0.02253203626493664\n",
            "\u001b[34m\u001b[1mwandb\u001b[0m: \tlearning_rate: 0.021518680418789272\n"
          ]
        },
        {
          "data": {
            "text/html": [
              "\n",
              "                    Syncing run <strong><a href=\"https://wandb.ai/jmary/uncategorized/runs/cddv7maw\" target=\"_blank\">floral-sweep-9</a></strong> to <a href=\"https://wandb.ai/jmary/uncategorized\" target=\"_blank\">Weights & Biases</a> (<a href=\"https://docs.wandb.com/integrations/jupyter.html\" target=\"_blank\">docs</a>).<br/>\n",
              "Sweep page: <a href=\"https://wandb.ai/jmary/uncategorized/sweeps/3vgytvlh\" target=\"_blank\">https://wandb.ai/jmary/uncategorized/sweeps/3vgytvlh</a><br/>\n",
              "\n",
              "                "
            ],
            "text/plain": [
              "<IPython.core.display.HTML object>"
            ]
          },
          "metadata": {},
          "output_type": "display_data"
        },
        {
          "data": {
            "text/html": [
              "<br/>Waiting for W&B process to finish, PID 3079... <strong style=\"color:green\">(success).</strong>"
            ],
            "text/plain": [
              "<IPython.core.display.HTML object>"
            ]
          },
          "metadata": {},
          "output_type": "display_data"
        },
        {
          "data": {
            "application/vnd.jupyter.widget-view+json": {
              "model_id": "444fdd6ff0784e74a27dbb2f1ea9b492",
              "version_major": 2,
              "version_minor": 0
            },
            "text/plain": [
              "VBox(children=(Label(value=' 0.00MB of 0.00MB uploaded (0.00MB deduped)\\r'), FloatProgress(value=1.0, max=1.0)…"
            ]
          },
          "metadata": {},
          "output_type": "display_data"
        },
        {
          "data": {
            "text/html": [
              "<style>\n",
              "    table.wandb td:nth-child(1) { padding: 0 10px; text-align: right }\n",
              "    .wandb-row { display: flex; flex-direction: row; flex-wrap: wrap; width: 100% }\n",
              "    .wandb-col { display: flex; flex-direction: column; flex-basis: 100%; flex: 1; padding: 10px; }\n",
              "    </style>\n",
              "<div class=\"wandb-row\"><div class=\"wandb-col\">\n",
              "<h3>Run history:</h3><br/><table class=\"wandb\"><tr><td>epoch</td><td>▁▁▁▁▁▁▁▁▃▃▃▃▃▃▃▃▅▅▅▅▅▅▅▅▆▆▆▆▆▆▆▆████████</td></tr><tr><td>loss</td><td>█▄▄▂▃▃▂▁▁▁▁▃▃▃▂▃▂▁▂▂▃▃▂▂▂▂▂▂▂▃▂▂▂▂▁▂▃▃▂▂</td></tr><tr><td>n_updates</td><td>▁▁▁▁▂▂▂▂▂▃▃▃▃▃▃▄▄▄▄▄▅▅▅▅▅▅▆▆▆▆▆▆▇▇▇▇▇███</td></tr></table><br/></div><div class=\"wandb-col\">\n",
              "<h3>Run summary:</h3><br/><table class=\"wandb\"><tr><td>epoch</td><td>4</td></tr><tr><td>loss</td><td>0.2669</td></tr><tr><td>n_updates</td><td>510000</td></tr></table>\n",
              "</div></div>\n",
              "Synced 4 W&B file(s), 0 media file(s), 0 artifact file(s) and 0 other file(s)\n",
              "<br/>Synced <strong style=\"color:#cdcd00\">floral-sweep-9</strong>: <a href=\"https://wandb.ai/jmary/uncategorized/runs/cddv7maw\" target=\"_blank\">https://wandb.ai/jmary/uncategorized/runs/cddv7maw</a><br/>\n",
              "Find logs at: <code>./wandb/run-20211025_105513-cddv7maw/logs</code><br/>\n"
            ],
            "text/plain": [
              "<IPython.core.display.HTML object>"
            ]
          },
          "metadata": {},
          "output_type": "display_data"
        },
        {
          "name": "stderr",
          "output_type": "stream",
          "text": [
            "\u001b[34m\u001b[1mwandb\u001b[0m: Agent Starting Run: xv3dx82m with config:\n",
            "\u001b[34m\u001b[1mwandb\u001b[0m: \tepochs: 1\n",
            "\u001b[34m\u001b[1mwandb\u001b[0m: \tl1: 0.09898482402392808\n",
            "\u001b[34m\u001b[1mwandb\u001b[0m: \tl2: 0.07426023334859248\n",
            "\u001b[34m\u001b[1mwandb\u001b[0m: \tlearning_rate: 0.0581422786640352\n"
          ]
        },
        {
          "data": {
            "text/html": [
              "\n",
              "                    Syncing run <strong><a href=\"https://wandb.ai/jmary/uncategorized/runs/xv3dx82m\" target=\"_blank\">quiet-sweep-10</a></strong> to <a href=\"https://wandb.ai/jmary/uncategorized\" target=\"_blank\">Weights & Biases</a> (<a href=\"https://docs.wandb.com/integrations/jupyter.html\" target=\"_blank\">docs</a>).<br/>\n",
              "Sweep page: <a href=\"https://wandb.ai/jmary/uncategorized/sweeps/3vgytvlh\" target=\"_blank\">https://wandb.ai/jmary/uncategorized/sweeps/3vgytvlh</a><br/>\n",
              "\n",
              "                "
            ],
            "text/plain": [
              "<IPython.core.display.HTML object>"
            ]
          },
          "metadata": {},
          "output_type": "display_data"
        },
        {
          "data": {
            "text/html": [
              "<br/>Waiting for W&B process to finish, PID 3163... <strong style=\"color:green\">(success).</strong>"
            ],
            "text/plain": [
              "<IPython.core.display.HTML object>"
            ]
          },
          "metadata": {},
          "output_type": "display_data"
        },
        {
          "data": {
            "application/vnd.jupyter.widget-view+json": {
              "model_id": "94e199e0073945de91d46712a824acfb",
              "version_major": 2,
              "version_minor": 0
            },
            "text/plain": [
              "VBox(children=(Label(value=' 0.00MB of 0.00MB uploaded (0.00MB deduped)\\r'), FloatProgress(value=1.0, max=1.0)…"
            ]
          },
          "metadata": {},
          "output_type": "display_data"
        },
        {
          "data": {
            "text/html": [
              "<style>\n",
              "    table.wandb td:nth-child(1) { padding: 0 10px; text-align: right }\n",
              "    .wandb-row { display: flex; flex-direction: row; flex-wrap: wrap; width: 100% }\n",
              "    .wandb-col { display: flex; flex-direction: column; flex-basis: 100%; flex: 1; padding: 10px; }\n",
              "    </style>\n",
              "<div class=\"wandb-row\"><div class=\"wandb-col\">\n",
              "<h3>Run history:</h3><br/><table class=\"wandb\"><tr><td>epoch</td><td>▁▁▁▁▁▁▁▁▁▁</td></tr><tr><td>loss</td><td>█▄▇▂▄▄▄▃▁▂</td></tr><tr><td>n_updates</td><td>▁▂▃▃▄▅▆▆▇█</td></tr></table><br/></div><div class=\"wandb-col\">\n",
              "<h3>Run summary:</h3><br/><table class=\"wandb\"><tr><td>epoch</td><td>0</td></tr><tr><td>loss</td><td>0.27531</td></tr><tr><td>n_updates</td><td>100000</td></tr></table>\n",
              "</div></div>\n",
              "Synced 4 W&B file(s), 0 media file(s), 0 artifact file(s) and 0 other file(s)\n",
              "<br/>Synced <strong style=\"color:#cdcd00\">quiet-sweep-10</strong>: <a href=\"https://wandb.ai/jmary/uncategorized/runs/xv3dx82m\" target=\"_blank\">https://wandb.ai/jmary/uncategorized/runs/xv3dx82m</a><br/>\n",
              "Find logs at: <code>./wandb/run-20211025_105959-xv3dx82m/logs</code><br/>\n"
            ],
            "text/plain": [
              "<IPython.core.display.HTML object>"
            ]
          },
          "metadata": {},
          "output_type": "display_data"
        }
      ],
      "source": [
        "def update_w_elastic(w, n, x, p, y, l1, l2, alpha):\n",
        "    for i in x:\n",
        "        w[i] -= (p - y + 2 * l2 * w[i] + l1*sign(w[i]) ) * alpha / (sqrt(n[i]) + 1.) \n",
        "        n[i] += 1.\n",
        "    return w, n\n",
        "\n",
        "def train():\n",
        "  with wandb.init(reinit=True) as run:\n",
        "    config = wandb.config\n",
        "    D = 2 ** 24\n",
        "    w = [0.] * D  \n",
        "    n = [0.] * D\n",
        "    loss = 0.\n",
        "    n_updates = 0\n",
        "\n",
        "    for e in range(config['epochs']):\n",
        "      for t, (row, y)  in enumerate(zip(DictReader(open(X_train)), DictReader(open(y_train)))):\n",
        "          x = get_x(row, D)\n",
        "          p = get_p(x, w)\n",
        "          target = float(y['click'])\n",
        "          if n_updates% 10000 == 0 and n_updates>1:\n",
        "              wandb.log({\"loss\": compute_validation_loss(w, D),\n",
        "                         \"epoch\": e,\n",
        "                         \"n_updates\":n_updates})\n",
        "          w, n = update_w_elastic(w, n, x, p, target, config['l1'], config['l2'], config['learning_rate'])  \n",
        "          n_updates += 1\n",
        "\n",
        "count = 10 #Indeed the more the better and longer\n",
        "#Using the same sweep_id it is also possible to distribute the training\n",
        "wandb.agent(sweep_id, function=train, count=count) "
      ]
    },
    {
      "cell_type": "markdown",
      "metadata": {
        "id": "aLdQ-f6RIBXR"
      },
      "source": [
        "9. Pick one or more kind of gradient descent in [this page ](https://ruder.io/optimizing-gradient-descent/index.html) and implement it (AdaGrad / Adam / [Nesterov's acceleration](https://jlmelville.github.io/mize/nesterov.html) / [SAGA](https://arxiv.org/pdf/1407.0202.pdf) are popular choices). Remark than even an averaged gradient descent will double the memory consuption and significantly increase the execution times in Python. "
      ]
    },
    {
      "cell_type": "code",
      "execution_count": null,
      "metadata": {
        "id": "XPnHYU3Vgf2m"
      },
      "outputs": [],
      "source": [
        "#Let's go for Adam\n",
        "#Unchecked code, just the minimal elements to insert at the right place in the code\n",
        "\n",
        "#Adam hyperparameters\n",
        "beta1 = 0.9\n",
        "beta2 = 0.999\n",
        "epsilon = 1e-8\n",
        "alpha = 1e-2\n",
        "\n",
        "def compute_gradient(p, y):\n",
        "    #Easy to add L1/L2 penalizations if wanted\n",
        "    return (p - y)\n",
        "\n",
        "def update_w_adam(w, m, v, x, p, y):\n",
        "    g = compute_gradient(p, y)\n",
        "    for i in x:\n",
        "        m[i] = beta1*m[i] + (1-beta1) * g\n",
        "        v[i] = beta2*v[i] + (1-beta2) * g**2\n",
        "        w[i] -= alpha/(sqrt(v[i])+epsilon) * m[i] \n",
        "    return w, m, v\n",
        "\n",
        "#And in the main code include\n",
        "m = [0.] * D\n",
        "v = [0.] * D\n",
        "\n",
        "w, m, v = update_w_adam(w, m, v, x, p, target) \n"
      ]
    },
    {
      "cell_type": "markdown",
      "metadata": {
        "id": "WyRCV7CMH__Q"
      },
      "source": [
        "9. A possibility for relatively small datasets is to create a pipeline using sklearn a minimal implementation. Compare the results with the hand coded solution.  "
      ]
    },
    {
      "cell_type": "code",
      "execution_count": null,
      "metadata": {
        "colab": {
          "base_uri": "https://localhost:8080/",
          "height": 375
        },
        "id": "zqMBwXDlH_xr",
        "outputId": "4c6f320f-1a9b-4f36-9ce1-daa3306ad0e6"
      },
      "outputs": [
        {
          "ename": "KeyboardInterrupt",
          "evalue": "ignored",
          "output_type": "error",
          "traceback": [
            "\u001b[0;31m---------------------------------------------------------------------------\u001b[0m",
            "\u001b[0;31mKeyboardInterrupt\u001b[0m                         Traceback (most recent call last)",
            "\u001b[0;32m<ipython-input-7-85f43fb53b0c>\u001b[0m in \u001b[0;36m<module>\u001b[0;34m()\u001b[0m\n\u001b[1;32m     23\u001b[0m                         \u001b[0;31m#LogisticRegression(solver='liblinear') #If you want a simple logistic regression\u001b[0m\u001b[0;34m\u001b[0m\u001b[0;34m\u001b[0m\u001b[0;34m\u001b[0m\u001b[0m\n\u001b[1;32m     24\u001b[0m       )\n\u001b[0;32m---> 25\u001b[0;31m \u001b[0mmodel\u001b[0m\u001b[0;34m.\u001b[0m\u001b[0mfit\u001b[0m\u001b[0;34m(\u001b[0m\u001b[0mX_train\u001b[0m\u001b[0;34m,\u001b[0m \u001b[0my_train\u001b[0m\u001b[0;34m)\u001b[0m\u001b[0;34m\u001b[0m\u001b[0;34m\u001b[0m\u001b[0m\n\u001b[0m\u001b[1;32m     26\u001b[0m \u001b[0;34m\u001b[0m\u001b[0m\n\u001b[1;32m     27\u001b[0m \u001b[0;31m#compute score in validation\u001b[0m\u001b[0;34m\u001b[0m\u001b[0;34m\u001b[0m\u001b[0;34m\u001b[0m\u001b[0m\n",
            "\u001b[0;32m/usr/local/lib/python3.7/dist-packages/sklearn/pipeline.py\u001b[0m in \u001b[0;36mfit\u001b[0;34m(self, X, y, **fit_params)\u001b[0m\n\u001b[1;32m    348\u001b[0m             \u001b[0mThis\u001b[0m \u001b[0mestimator\u001b[0m\u001b[0;34m\u001b[0m\u001b[0;34m\u001b[0m\u001b[0m\n\u001b[1;32m    349\u001b[0m         \"\"\"\n\u001b[0;32m--> 350\u001b[0;31m         \u001b[0mXt\u001b[0m\u001b[0;34m,\u001b[0m \u001b[0mfit_params\u001b[0m \u001b[0;34m=\u001b[0m \u001b[0mself\u001b[0m\u001b[0;34m.\u001b[0m\u001b[0m_fit\u001b[0m\u001b[0;34m(\u001b[0m\u001b[0mX\u001b[0m\u001b[0;34m,\u001b[0m \u001b[0my\u001b[0m\u001b[0;34m,\u001b[0m \u001b[0;34m**\u001b[0m\u001b[0mfit_params\u001b[0m\u001b[0;34m)\u001b[0m\u001b[0;34m\u001b[0m\u001b[0;34m\u001b[0m\u001b[0m\n\u001b[0m\u001b[1;32m    351\u001b[0m         with _print_elapsed_time('Pipeline',\n\u001b[1;32m    352\u001b[0m                                  self._log_message(len(self.steps) - 1)):\n",
            "\u001b[0;32m/usr/local/lib/python3.7/dist-packages/sklearn/pipeline.py\u001b[0m in \u001b[0;36m_fit\u001b[0;34m(self, X, y, **fit_params)\u001b[0m\n\u001b[1;32m    313\u001b[0m                 \u001b[0mmessage_clsname\u001b[0m\u001b[0;34m=\u001b[0m\u001b[0;34m'Pipeline'\u001b[0m\u001b[0;34m,\u001b[0m\u001b[0;34m\u001b[0m\u001b[0;34m\u001b[0m\u001b[0m\n\u001b[1;32m    314\u001b[0m                 \u001b[0mmessage\u001b[0m\u001b[0;34m=\u001b[0m\u001b[0mself\u001b[0m\u001b[0;34m.\u001b[0m\u001b[0m_log_message\u001b[0m\u001b[0;34m(\u001b[0m\u001b[0mstep_idx\u001b[0m\u001b[0;34m)\u001b[0m\u001b[0;34m,\u001b[0m\u001b[0;34m\u001b[0m\u001b[0;34m\u001b[0m\u001b[0m\n\u001b[0;32m--> 315\u001b[0;31m                 **fit_params_steps[name])\n\u001b[0m\u001b[1;32m    316\u001b[0m             \u001b[0;31m# Replace the transformer of the step with the fitted\u001b[0m\u001b[0;34m\u001b[0m\u001b[0;34m\u001b[0m\u001b[0;34m\u001b[0m\u001b[0m\n\u001b[1;32m    317\u001b[0m             \u001b[0;31m# transformer. This is necessary when loading the transformer\u001b[0m\u001b[0;34m\u001b[0m\u001b[0;34m\u001b[0m\u001b[0;34m\u001b[0m\u001b[0m\n",
            "\u001b[0;32m/usr/local/lib/python3.7/dist-packages/joblib/memory.py\u001b[0m in \u001b[0;36m__call__\u001b[0;34m(self, *args, **kwargs)\u001b[0m\n\u001b[1;32m    350\u001b[0m \u001b[0;34m\u001b[0m\u001b[0m\n\u001b[1;32m    351\u001b[0m     \u001b[0;32mdef\u001b[0m \u001b[0m__call__\u001b[0m\u001b[0;34m(\u001b[0m\u001b[0mself\u001b[0m\u001b[0;34m,\u001b[0m \u001b[0;34m*\u001b[0m\u001b[0margs\u001b[0m\u001b[0;34m,\u001b[0m \u001b[0;34m**\u001b[0m\u001b[0mkwargs\u001b[0m\u001b[0;34m)\u001b[0m\u001b[0;34m:\u001b[0m\u001b[0;34m\u001b[0m\u001b[0;34m\u001b[0m\u001b[0m\n\u001b[0;32m--> 352\u001b[0;31m         \u001b[0;32mreturn\u001b[0m \u001b[0mself\u001b[0m\u001b[0;34m.\u001b[0m\u001b[0mfunc\u001b[0m\u001b[0;34m(\u001b[0m\u001b[0;34m*\u001b[0m\u001b[0margs\u001b[0m\u001b[0;34m,\u001b[0m \u001b[0;34m**\u001b[0m\u001b[0mkwargs\u001b[0m\u001b[0;34m)\u001b[0m\u001b[0;34m\u001b[0m\u001b[0;34m\u001b[0m\u001b[0m\n\u001b[0m\u001b[1;32m    353\u001b[0m \u001b[0;34m\u001b[0m\u001b[0m\n\u001b[1;32m    354\u001b[0m     \u001b[0;32mdef\u001b[0m \u001b[0mcall_and_shelve\u001b[0m\u001b[0;34m(\u001b[0m\u001b[0mself\u001b[0m\u001b[0;34m,\u001b[0m \u001b[0;34m*\u001b[0m\u001b[0margs\u001b[0m\u001b[0;34m,\u001b[0m \u001b[0;34m**\u001b[0m\u001b[0mkwargs\u001b[0m\u001b[0;34m)\u001b[0m\u001b[0;34m:\u001b[0m\u001b[0;34m\u001b[0m\u001b[0;34m\u001b[0m\u001b[0m\n",
            "\u001b[0;32m/usr/local/lib/python3.7/dist-packages/sklearn/pipeline.py\u001b[0m in \u001b[0;36m_fit_transform_one\u001b[0;34m(transformer, X, y, weight, message_clsname, message, **fit_params)\u001b[0m\n\u001b[1;32m    726\u001b[0m     \u001b[0;32mwith\u001b[0m \u001b[0m_print_elapsed_time\u001b[0m\u001b[0;34m(\u001b[0m\u001b[0mmessage_clsname\u001b[0m\u001b[0;34m,\u001b[0m \u001b[0mmessage\u001b[0m\u001b[0;34m)\u001b[0m\u001b[0;34m:\u001b[0m\u001b[0;34m\u001b[0m\u001b[0;34m\u001b[0m\u001b[0m\n\u001b[1;32m    727\u001b[0m         \u001b[0;32mif\u001b[0m \u001b[0mhasattr\u001b[0m\u001b[0;34m(\u001b[0m\u001b[0mtransformer\u001b[0m\u001b[0;34m,\u001b[0m \u001b[0;34m'fit_transform'\u001b[0m\u001b[0;34m)\u001b[0m\u001b[0;34m:\u001b[0m\u001b[0;34m\u001b[0m\u001b[0;34m\u001b[0m\u001b[0m\n\u001b[0;32m--> 728\u001b[0;31m             \u001b[0mres\u001b[0m \u001b[0;34m=\u001b[0m \u001b[0mtransformer\u001b[0m\u001b[0;34m.\u001b[0m\u001b[0mfit_transform\u001b[0m\u001b[0;34m(\u001b[0m\u001b[0mX\u001b[0m\u001b[0;34m,\u001b[0m \u001b[0my\u001b[0m\u001b[0;34m,\u001b[0m \u001b[0;34m**\u001b[0m\u001b[0mfit_params\u001b[0m\u001b[0;34m)\u001b[0m\u001b[0;34m\u001b[0m\u001b[0;34m\u001b[0m\u001b[0m\n\u001b[0m\u001b[1;32m    729\u001b[0m         \u001b[0;32melse\u001b[0m\u001b[0;34m:\u001b[0m\u001b[0;34m\u001b[0m\u001b[0;34m\u001b[0m\u001b[0m\n\u001b[1;32m    730\u001b[0m             \u001b[0mres\u001b[0m \u001b[0;34m=\u001b[0m \u001b[0mtransformer\u001b[0m\u001b[0;34m.\u001b[0m\u001b[0mfit\u001b[0m\u001b[0;34m(\u001b[0m\u001b[0mX\u001b[0m\u001b[0;34m,\u001b[0m \u001b[0my\u001b[0m\u001b[0;34m,\u001b[0m \u001b[0;34m**\u001b[0m\u001b[0mfit_params\u001b[0m\u001b[0;34m)\u001b[0m\u001b[0;34m.\u001b[0m\u001b[0mtransform\u001b[0m\u001b[0;34m(\u001b[0m\u001b[0mX\u001b[0m\u001b[0;34m)\u001b[0m\u001b[0;34m\u001b[0m\u001b[0;34m\u001b[0m\u001b[0m\n",
            "\u001b[0;32m/usr/local/lib/python3.7/dist-packages/sklearn/base.py\u001b[0m in \u001b[0;36mfit_transform\u001b[0;34m(self, X, y, **fit_params)\u001b[0m\n\u001b[1;32m    572\u001b[0m         \u001b[0;32melse\u001b[0m\u001b[0;34m:\u001b[0m\u001b[0;34m\u001b[0m\u001b[0;34m\u001b[0m\u001b[0m\n\u001b[1;32m    573\u001b[0m             \u001b[0;31m# fit method of arity 2 (supervised transformation)\u001b[0m\u001b[0;34m\u001b[0m\u001b[0;34m\u001b[0m\u001b[0;34m\u001b[0m\u001b[0m\n\u001b[0;32m--> 574\u001b[0;31m             \u001b[0;32mreturn\u001b[0m \u001b[0mself\u001b[0m\u001b[0;34m.\u001b[0m\u001b[0mfit\u001b[0m\u001b[0;34m(\u001b[0m\u001b[0mX\u001b[0m\u001b[0;34m,\u001b[0m \u001b[0my\u001b[0m\u001b[0;34m,\u001b[0m \u001b[0;34m**\u001b[0m\u001b[0mfit_params\u001b[0m\u001b[0;34m)\u001b[0m\u001b[0;34m.\u001b[0m\u001b[0mtransform\u001b[0m\u001b[0;34m(\u001b[0m\u001b[0mX\u001b[0m\u001b[0;34m)\u001b[0m\u001b[0;34m\u001b[0m\u001b[0;34m\u001b[0m\u001b[0m\n\u001b[0m\u001b[1;32m    575\u001b[0m \u001b[0;34m\u001b[0m\u001b[0m\n\u001b[1;32m    576\u001b[0m \u001b[0;34m\u001b[0m\u001b[0m\n",
            "\u001b[0;32m/usr/local/lib/python3.7/dist-packages/sklearn/preprocessing/_data.py\u001b[0m in \u001b[0;36mfit\u001b[0;34m(self, X, y)\u001b[0m\n\u001b[1;32m   1511\u001b[0m                                           self.include_bias)\n\u001b[1;32m   1512\u001b[0m         \u001b[0mself\u001b[0m\u001b[0;34m.\u001b[0m\u001b[0mn_input_features_\u001b[0m \u001b[0;34m=\u001b[0m \u001b[0mn_features\u001b[0m\u001b[0;34m\u001b[0m\u001b[0;34m\u001b[0m\u001b[0m\n\u001b[0;32m-> 1513\u001b[0;31m         \u001b[0mself\u001b[0m\u001b[0;34m.\u001b[0m\u001b[0mn_output_features_\u001b[0m \u001b[0;34m=\u001b[0m \u001b[0msum\u001b[0m\u001b[0;34m(\u001b[0m\u001b[0;36m1\u001b[0m \u001b[0;32mfor\u001b[0m \u001b[0m_\u001b[0m \u001b[0;32min\u001b[0m \u001b[0mcombinations\u001b[0m\u001b[0;34m)\u001b[0m\u001b[0;34m\u001b[0m\u001b[0;34m\u001b[0m\u001b[0m\n\u001b[0m\u001b[1;32m   1514\u001b[0m         \u001b[0;32mreturn\u001b[0m \u001b[0mself\u001b[0m\u001b[0;34m\u001b[0m\u001b[0;34m\u001b[0m\u001b[0m\n\u001b[1;32m   1515\u001b[0m \u001b[0;34m\u001b[0m\u001b[0m\n",
            "\u001b[0;32m/usr/local/lib/python3.7/dist-packages/sklearn/preprocessing/_data.py\u001b[0m in \u001b[0;36m<genexpr>\u001b[0;34m(.0)\u001b[0m\n\u001b[1;32m   1511\u001b[0m                                           self.include_bias)\n\u001b[1;32m   1512\u001b[0m         \u001b[0mself\u001b[0m\u001b[0;34m.\u001b[0m\u001b[0mn_input_features_\u001b[0m \u001b[0;34m=\u001b[0m \u001b[0mn_features\u001b[0m\u001b[0;34m\u001b[0m\u001b[0;34m\u001b[0m\u001b[0m\n\u001b[0;32m-> 1513\u001b[0;31m         \u001b[0mself\u001b[0m\u001b[0;34m.\u001b[0m\u001b[0mn_output_features_\u001b[0m \u001b[0;34m=\u001b[0m \u001b[0msum\u001b[0m\u001b[0;34m(\u001b[0m\u001b[0;36m1\u001b[0m \u001b[0;32mfor\u001b[0m \u001b[0m_\u001b[0m \u001b[0;32min\u001b[0m \u001b[0mcombinations\u001b[0m\u001b[0;34m)\u001b[0m\u001b[0;34m\u001b[0m\u001b[0;34m\u001b[0m\u001b[0m\n\u001b[0m\u001b[1;32m   1514\u001b[0m         \u001b[0;32mreturn\u001b[0m \u001b[0mself\u001b[0m\u001b[0;34m\u001b[0m\u001b[0;34m\u001b[0m\u001b[0m\n\u001b[1;32m   1515\u001b[0m \u001b[0;34m\u001b[0m\u001b[0m\n",
            "\u001b[0;31mKeyboardInterrupt\u001b[0m: "
          ]
        }
      ],
      "source": [
        "import numpy as np\n",
        "from sklearn.pipeline import make_pipeline\n",
        "from sklearn.feature_extraction import FeatureHasher\n",
        "from sklearn.preprocessing import PolynomialFeatures\n",
        "from sklearn.linear_model import LogisticRegression, LogisticRegressionCV\n",
        "from sklearn.metrics import log_loss\n",
        "\n",
        "X_train = np.loadtxt('X_train.csv', skiprows=1, delimiter=',')\n",
        "X_train = [[('%s' % _, 1) for _ in x] for x in X_train]\n",
        "y_train = np.loadtxt('y_train.csv', skiprows=1, delimiter=',').astype(np.int8)\n",
        "y_train = y_train[:, 0] #select click data only\n",
        "\n",
        "X_valid = np.loadtxt('X_valid.csv', skiprows=1, delimiter=',')\n",
        "X_valid = [[('%s' % _, 1) for _ in x] for x in X_valid]\n",
        "y_valid = np.loadtxt('y_valid.csv', skiprows=1, delimiter=',').astype(np.int8)\n",
        "y_valid = y_valid[:, 0] \n",
        "\n",
        "\n",
        "# learn model\n",
        "model = make_pipeline(FeatureHasher(n_features=2*6, input_type='pair'), \n",
        "                        PolynomialFeatures(2, interaction_only=False, include_bias=True),\n",
        "                        #LogisticRegressionCV(n_jobs=4, Cs=10, solver='liblinear') #If you want to cross validate the regularization on train\n",
        "                        LogisticRegression(solver='liblinear') #If you want a simple logistic regression\n",
        "      )\n",
        "model.fit(X_train, y_train)\n",
        "\n",
        "#compute score in validation\n",
        "y_hat_valid = model.predict_proba(X_valid)[:,1] #Output of logistic has as many columns than possible classes\n",
        "print( f'Log loss on validation: {log_loss(y_valid, y_hat_valid)}') #CARE: the option \"normalize\" for log loss is not the NCE"
      ]
    },
    {
      "cell_type": "markdown",
      "metadata": {
        "id": "S43bMuQDUPZk"
      },
      "source": [
        "Not that bad for some basic Python and SGD *versus* C++ code and a second order method. \n",
        "\n",
        "(optional since it can require long exe time) Can you recover the performance we had by optimizing hyperparameters? "
      ]
    },
    {
      "cell_type": "markdown",
      "metadata": {
        "id": "dUp-ZnxGH_nc"
      },
      "source": [
        "#Part II. Graded.\n",
        "\n",
        "**Due date december 1st**\n",
        "You can also send your answers to the optional questions \n",
        "\n",
        "1. Based on the minimal code example with validation and $L_2$ prenality, implement your own version of a factorization machine. As we do want to use fields this is the same than a rank k asumption on the matrix of the second order terms which can be expressed as $<v_i, v_j>$ with $v_i \\in \\mathbb{R}^k$ .  Remind that \n",
        "$$\n",
        "\\frac{\\partial}{\\partial \\theta} \\hat{y}(\\mathbf{x})= \\begin{cases}1, & \\text { if } \\theta \\text { is } \\mbox{the bias term } \\omega_0 \\\\ x_{i}, & \\text { if } \\theta \\text { is } w_{i} \\mbox{ (first order term)} \\\\ x_{i} \\sum_{j=1}^{n} v_{j, f} x_{j}-v_{i, f} x_{i}^{2}, & \\text { if } \\theta \\text { is the } i,f \\mbox { second order term } <v_i,v_f>   \\end{cases}\n",
        "$$\n",
        "\n",
        "One possibility to code it is to isolate the second order term within a second vector of parameters while performing the ```get_x``` and change the way the gradient is computed in the ```update``` function. Details about factorization machines are in the [original paper](https://www.csie.ntu.edu.tw/~b97053/paper/Rendle2010FM.pdf).\n"
      ]
    },
    {
      "cell_type": "code",
      "execution_count": null,
      "metadata": {
        "colab": {
          "base_uri": "https://localhost:8080/",
          "height": 371
        },
        "id": "cdXcQ7MsH_HB",
        "outputId": "850346c6-385c-4324-e284-1f0c0b5cf1d9"
      },
      "outputs": [
        {
          "ename": "IndexError",
          "evalue": "ignored",
          "output_type": "error",
          "traceback": [
            "\u001b[0;31m---------------------------------------------------------------------------\u001b[0m",
            "\u001b[0;31mIndexError\u001b[0m                                Traceback (most recent call last)",
            "\u001b[0;32m<ipython-input-80-6f42f4ba6197>\u001b[0m in \u001b[0;36m<module>\u001b[0;34m()\u001b[0m\n\u001b[1;32m     67\u001b[0m   \u001b[0;32mfor\u001b[0m \u001b[0mt\u001b[0m\u001b[0;34m,\u001b[0m \u001b[0;34m(\u001b[0m\u001b[0mrow\u001b[0m\u001b[0;34m,\u001b[0m \u001b[0my\u001b[0m\u001b[0;34m)\u001b[0m  \u001b[0;32min\u001b[0m \u001b[0menumerate\u001b[0m\u001b[0;34m(\u001b[0m\u001b[0mzip\u001b[0m\u001b[0;34m(\u001b[0m\u001b[0mDictReader\u001b[0m\u001b[0;34m(\u001b[0m\u001b[0mopen\u001b[0m\u001b[0;34m(\u001b[0m\u001b[0mX_train\u001b[0m\u001b[0;34m)\u001b[0m\u001b[0;34m)\u001b[0m\u001b[0;34m,\u001b[0m \u001b[0mDictReader\u001b[0m\u001b[0;34m(\u001b[0m\u001b[0mopen\u001b[0m\u001b[0;34m(\u001b[0m\u001b[0my_train\u001b[0m\u001b[0;34m)\u001b[0m\u001b[0;34m)\u001b[0m\u001b[0;34m)\u001b[0m\u001b[0;34m)\u001b[0m\u001b[0;34m:\u001b[0m\u001b[0;34m\u001b[0m\u001b[0;34m\u001b[0m\u001b[0m\n\u001b[1;32m     68\u001b[0m       \u001b[0mx\u001b[0m \u001b[0;34m=\u001b[0m \u001b[0mget_x\u001b[0m\u001b[0;34m(\u001b[0m\u001b[0mrow\u001b[0m\u001b[0;34m,\u001b[0m \u001b[0mD\u001b[0m\u001b[0;34m)\u001b[0m  \u001b[0;31m# I gather the memory placement of the coefficients\u001b[0m\u001b[0;34m\u001b[0m\u001b[0;34m\u001b[0m\u001b[0m\n\u001b[0;32m---> 69\u001b[0;31m       \u001b[0mp\u001b[0m \u001b[0;34m=\u001b[0m \u001b[0mget_p_factorization\u001b[0m\u001b[0;34m(\u001b[0m\u001b[0mx\u001b[0m\u001b[0;34m,\u001b[0m \u001b[0mw\u001b[0m\u001b[0;34m,\u001b[0m \u001b[0mv\u001b[0m\u001b[0;34m)\u001b[0m \u001b[0;31m# I gather the prediction\u001b[0m\u001b[0;34m\u001b[0m\u001b[0;34m\u001b[0m\u001b[0m\n\u001b[0m\u001b[1;32m     70\u001b[0m       \u001b[0mtarget\u001b[0m \u001b[0;34m=\u001b[0m \u001b[0mfloat\u001b[0m\u001b[0;34m(\u001b[0m\u001b[0my\u001b[0m\u001b[0;34m[\u001b[0m\u001b[0;34m'click'\u001b[0m\u001b[0;34m]\u001b[0m\u001b[0;34m)\u001b[0m\u001b[0;34m\u001b[0m\u001b[0;34m\u001b[0m\u001b[0m\n\u001b[1;32m     71\u001b[0m       \u001b[0mtraining_loss\u001b[0m \u001b[0;34m+=\u001b[0m \u001b[0mlogloss\u001b[0m\u001b[0;34m(\u001b[0m\u001b[0mp\u001b[0m\u001b[0;34m,\u001b[0m \u001b[0mtarget\u001b[0m\u001b[0;34m)\u001b[0m \u001b[0;31m# I compare my model\u001b[0m\u001b[0;34m\u001b[0m\u001b[0;34m\u001b[0m\u001b[0m\n",
            "\u001b[0;32m<ipython-input-80-6f42f4ba6197>\u001b[0m in \u001b[0;36mget_p_factorization\u001b[0;34m(x, w, v)\u001b[0m\n\u001b[1;32m     26\u001b[0m \u001b[0;34m\u001b[0m\u001b[0m\n\u001b[1;32m     27\u001b[0m       \u001b[0;31m# <v_i, v_j>*(x_i * x_j)\u001b[0m\u001b[0;34m\u001b[0m\u001b[0;34m\u001b[0m\u001b[0;34m\u001b[0m\u001b[0m\n\u001b[0;32m---> 28\u001b[0;31m       \u001b[0mprint\u001b[0m\u001b[0;34m(\u001b[0m\u001b[0mv\u001b[0m\u001b[0;34m[\u001b[0m\u001b[0mi\u001b[0m\u001b[0;34m]\u001b[0m\u001b[0;34m)\u001b[0m\u001b[0;34m\u001b[0m\u001b[0;34m\u001b[0m\u001b[0m\n\u001b[0m\u001b[1;32m     29\u001b[0m       \u001b[0;32mfor\u001b[0m \u001b[0mj\u001b[0m \u001b[0;32min\u001b[0m \u001b[0mrange\u001b[0m\u001b[0;34m(\u001b[0m\u001b[0mi\u001b[0m\u001b[0;34m+\u001b[0m\u001b[0;36m1\u001b[0m\u001b[0;34m,\u001b[0m \u001b[0mlen\u001b[0m\u001b[0;34m(\u001b[0m\u001b[0mx\u001b[0m\u001b[0;34m)\u001b[0m\u001b[0;34m)\u001b[0m\u001b[0;34m:\u001b[0m\u001b[0;34m\u001b[0m\u001b[0;34m\u001b[0m\u001b[0m\n\u001b[1;32m     30\u001b[0m         \u001b[0mwTx\u001b[0m \u001b[0;34m+=\u001b[0m \u001b[0mnp\u001b[0m\u001b[0;34m.\u001b[0m\u001b[0mdot\u001b[0m\u001b[0;34m(\u001b[0m\u001b[0mv\u001b[0m\u001b[0;34m[\u001b[0m\u001b[0mi\u001b[0m\u001b[0;34m]\u001b[0m\u001b[0;34m,\u001b[0m \u001b[0mv\u001b[0m\u001b[0;34m[\u001b[0m\u001b[0mj\u001b[0m\u001b[0;34m]\u001b[0m\u001b[0;34m)\u001b[0m \u001b[0;34m*\u001b[0m \u001b[0;36m1.\u001b[0m \u001b[0;31m# Once again x[i]*x[j] = 1\u001b[0m\u001b[0;34m\u001b[0m\u001b[0;34m\u001b[0m\u001b[0m\n",
            "\u001b[0;31mIndexError\u001b[0m: index 2590992 is out of bounds for axis 0 with size 19"
          ]
        }
      ],
      "source": [
        "#ANSWER - same stuff with a L2 regularizer (bias term + quad terms)\n",
        "#A lot of settings allows a large difference between train and validation, theses are indeed bad\n",
        "#Remark than combining L1 and L2 is easy and is often named \"elasticnet\"\n",
        "import matplotlib.pyplot as plt\n",
        "import math\n",
        "\n",
        "def update_wL2(w, n, x, p, y, lbd=5e-4):\n",
        "    for i in x:\n",
        "        # L2 reg added here. \n",
        "        w[i] -= ((p - y + lbd * 2 * w[i])  ) * alpha / (sqrt(n[i]) + 1.) \n",
        "        n[i] += 1.\n",
        "    return w, n\n",
        "\n",
        "def get_x(csv_row, D):\n",
        "  x = []\n",
        "  for key, value in csv_row.items():\n",
        "    index = int(value + key[4:], 16) % D \n",
        "    x.append(index)\n",
        "\n",
        "  return x  # x contains indices of features that have a value of 1\n",
        "def get_p_factorization(x, w, v):\n",
        "    wTx = 0.\n",
        "    for i in x:\n",
        "      # wTx\n",
        "      wTx += w[i] * 1.  # w[i] * 1\n",
        "\n",
        "      # <v_i, v_j>*(x_i * x_j) \n",
        "      for j in range(i+1, len(x)):\n",
        "        wTx += np.dot(v[i], v[j]) * 1. # Once again x[i]*x[j] = 1 \n",
        "\n",
        "    return 1. / (1. + exp(-max(min(wTx, 20.), -20.)))  # bounded sigmoid\n",
        "\n",
        "def update_wL2_factorization(w, v, n, x, p, y, lbd=5e-4):\n",
        "  for index,value in enumerate(x):\n",
        "    # Update w \n",
        "    w[value] -= ((p - y + lbd * 2 * w[value])) * alpha / (sqrt(n[value]) + 1.) \n",
        "    n[value] += 1.\n",
        "\n",
        "    # Update v with L2 regularization\n",
        "    for f in range(k):\n",
        "      v[index,f] -= ((p - y + lbd * 2 * w[value] * w[x[f]])) * alpha *(np.sum(v[:,f]) - v[index,f]) \n",
        "\n",
        "  return w, v, n\n",
        "\n",
        "D = 2 ** 24\n",
        "w = [0.] * D  \n",
        "n = [0.] * D\n",
        "loss = 0.\n",
        "n_epochs = 10\n",
        "n_updates = 0\n",
        "training_losses = [] \n",
        "validation_losses = [] \n",
        "alpha = .01 \n",
        "k=5\n",
        "\n",
        "# Initialisation de v\n",
        "import numpy as np\n",
        "for t,row in enumerate(DictReader(open(X_train))):\n",
        "  size = (len(row))\n",
        "  break\n",
        "v = np.random.normal(scale = 1 / np.sqrt(2), size = (size, k))\n",
        "\n",
        "\n",
        "for e in range(n_epochs):\n",
        "  training_loss = 0\n",
        "  for t, (row, y)  in enumerate(zip(DictReader(open(X_train)), DictReader(open(y_train)))):\n",
        "      x = get_x(row, D)  # I gather the memory placement of the coefficients\n",
        "      p = get_p_factorization(x, w, v) # I gather the prediction\n",
        "      target = float(y['click'])\n",
        "      training_loss += logloss(p, target) # I compare my model\n",
        "      if n_updates% 10000 == 0 and n_updates>1:\n",
        "          training_losses.append( training_loss/t )\n",
        "          validation_losses.append( compute_validation_loss(w, D) )\n",
        "          print('%s\\tupdates: %d\\tcurrent logloss on train: %f\\tcurrent logloss on validation: %f' % (\n",
        "              datetime.now(), n_updates, training_losses[-1], validation_losses[-1] ))\n",
        "      w, v, n = update_wL2_factorization(w, v, n, x, p, target) # Upatede the coefficients  \n",
        "      n_updates += 1\n",
        "\n",
        "x = [10000*i for i in range(len(training_losses))]\n",
        "plt.plot(x, training_losses, label='Train')\n",
        "plt.plot(x, validation_losses, label='Validation')\n",
        "plt.xlabel('Number of updates')\n",
        "plt.ylabel('Log Loss')\n",
        "plt.legend( ('Train', 'Validation') )\n",
        "plt.show() \n",
        "\n",
        "wL2 = w #keep it for later use\n",
        "\n",
        "#Depending on the learning rate and the coefficent in front of regularization this is possible \n",
        "#to have some overfitting advocating for early stopping. Remark that it does not hurt as hard the validation performance \n",
        "#Gains remains quite unclear, possibly due to the small dataset size   "
      ]
    },
    {
      "cell_type": "code",
      "execution_count": null,
      "metadata": {
        "id": "xoe4THmbQ7k_"
      },
      "outputs": [],
      "source": [
        "X_train = 'X_train.csv'\n",
        "y_train = 'y_train.csv'\n",
        "X_valid = 'X_valid.csv'\n",
        "y_valid = 'y_valid.csv'"
      ]
    },
    {
      "cell_type": "code",
      "execution_count": null,
      "metadata": {
        "id": "D0vzZ3dUjtBr"
      },
      "outputs": [],
      "source": [
        "#ANSWER - same stuff with a L2 regularizer (bias term + quad terms)\n",
        "#A lot of settings allows a large difference between train and validation, theses are indeed bad\n",
        "#Remark than combining L1 and L2 is easy and is often named \"elasticnet\"\n",
        "import matplotlib.pyplot as plt\n",
        "import math\n",
        "\n",
        "#ANSWER with ony one vector for parameters. This is also possible to split the first and second order terms\n",
        "def get_x(csv_row, D):\n",
        "     x = []\n",
        "     # normal features\n",
        "     for key, value in csv_row.items():\n",
        "         index = int(value + key[4:], 16) % D  \n",
        "         x.append(index)\n",
        "     x.append(0)\n",
        "     return x\n",
        "\n",
        "def compute_validation_loss_factorization(w, D, v, k):\n",
        "    ### TODO Complete this function ###\n",
        "    #ANSWER\n",
        "    val_loss = 0 \n",
        "    for t, (row, y)  in enumerate(zip(DictReader(open(X_valid)), DictReader(open(y_valid)))):\n",
        "      x = get_x(row, D)\n",
        "      p = get_p_factorization(x, w, v, k)\n",
        "      target = float(y['click'])\n",
        "      val_loss += logloss(p, target)\n",
        "    return val_loss/t\n",
        "\n",
        "def get_p_factorization(x, w, v, k):\n",
        "    wTx = 0.\n",
        "    for i in x:\n",
        "      # wTx\n",
        "      wTx += w[i] * 1.  # w[i] * 1\n",
        "\n",
        "      # <v_i, v_j>*(x_i * x_j)\n",
        "    \n",
        "    for f in range(k):\n",
        "      sv = np.sum(v[x, f] * 1)**2\n",
        "      wTx += 0.5*(sv - np.sum(v[x, f]**2 * 1)) \n",
        "\n",
        "    return 1. / (1. + exp(-max(min(wTx, 20.), -20.)))  # bounded sigmoid\n",
        "\n",
        "def update_wL2_factorization(w, v, n, x, p, y, k, lbd=5e-4, alpha = .01):\n",
        "  for index,value in enumerate(x):\n",
        "    # Update w \n",
        "    w[value] -= ((p - y ) + lbd * 2 * w[value]) * alpha / (sqrt(n[value]) + 1.) \n",
        "    n[value] += 1.\n",
        "  # Update v with L2 regularization\n",
        "  for f in range(k):\n",
        "    sv = np.sum(v[x, f])\n",
        "    for index, value in enumerate(x):\n",
        "        v[value, f] -= ((p-y)* (sv - v[value, f]) + lbd * 2 * v[value, f]) * alpha\n",
        "\n",
        "  return w, v, n"
      ]
    },
    {
      "cell_type": "code",
      "execution_count": null,
      "metadata": {
        "colab": {
          "base_uri": "https://localhost:8080/",
          "height": 462
        },
        "id": "GKMB-ngMUUiq",
        "outputId": "c537f1f1-6879-4000-d762-bb31b687e380"
      },
      "outputs": [
        {
          "name": "stdout",
          "output_type": "stream",
          "text": [
            "2022-01-14 02:28:23.061879\tupdates: 10000\tcurrent logloss on train: 0.317943\tcurrent logloss on validation: 0.271122\n",
            "2022-01-14 02:28:30.051993\tupdates: 20000\tcurrent logloss on train: 0.286493\tcurrent logloss on validation: 0.267589\n",
            "2022-01-14 02:28:36.818608\tupdates: 30000\tcurrent logloss on train: 0.275874\tcurrent logloss on validation: 0.260774\n",
            "2022-01-14 02:28:43.884664\tupdates: 40000\tcurrent logloss on train: 0.274641\tcurrent logloss on validation: 0.262019\n",
            "2022-01-14 02:28:50.986105\tupdates: 50000\tcurrent logloss on train: 0.273379\tcurrent logloss on validation: 0.263118\n",
            "2022-01-14 02:28:57.655152\tupdates: 60000\tcurrent logloss on train: 0.272494\tcurrent logloss on validation: 0.261211\n",
            "2022-01-14 02:29:04.931498\tupdates: 70000\tcurrent logloss on train: 0.271630\tcurrent logloss on validation: 0.258145\n",
            "2022-01-14 02:29:12.170315\tupdates: 80000\tcurrent logloss on train: 0.269361\tcurrent logloss on validation: 0.258261\n",
            "2022-01-14 02:29:19.986110\tupdates: 90000\tcurrent logloss on train: 0.267985\tcurrent logloss on validation: 0.260342\n",
            "2022-01-14 02:29:27.240120\tupdates: 100000\tcurrent logloss on train: 0.266923\tcurrent logloss on validation: 0.255081\n"
          ]
        },
        {
          "data": {
            "image/png": "[encoded data removed]",
            "text/plain": [
              "<Figure size 432x288 with 1 Axes>"
            ]
          },
          "metadata": {},
          "output_type": "display_data"
        }
      ],
      "source": [
        "D = 2 ** 24\n",
        "w = [0.] * D  \n",
        "n = [0.] * D\n",
        "loss = 0.\n",
        "n_epochs = 1\n",
        "n_updates = 0\n",
        "training_losses = [] \n",
        "validation_losses = [] \n",
        "alpha = .01 \n",
        "k=5\n",
        "\n",
        "# Initialisation de v\n",
        "import numpy as np\n",
        "v = np.full(shape = (D, k), fill_value = -0.01)\n",
        "\n",
        "\n",
        "\n",
        "for e in range(n_epochs):\n",
        "  training_loss = 0\n",
        "  for t, (row, y)  in enumerate(zip(DictReader(open(X_train)), DictReader(open(y_train)))):\n",
        "      x = get_x(row, D)  # I gather the memory placement of the coefficients\n",
        "      p = get_p_factorization(x, w, v, k) # I gather the prediction\n",
        "      target = float(y['click'])\n",
        "      training_loss += logloss(p, target) # I compare my model\n",
        "      if n_updates% 10000 == 0 and n_updates>1:\n",
        "          training_losses.append( training_loss/t )\n",
        "          validation_losses.append( compute_validation_loss_factorization(w, D, v, k) )\n",
        "          print('%s\\tupdates: %d\\tcurrent logloss on train: %f\\tcurrent logloss on validation: %f' % (\n",
        "              datetime.now(), n_updates, training_losses[-1], validation_losses[-1] ))\n",
        "      w, v, n = update_wL2_factorization(w, v, n, x, p, target, k) # Upatede the coefficients  \n",
        "      n_updates += 1\n",
        "\n",
        "x = [10000*i for i in range(len(training_losses))]\n",
        "plt.plot(x, training_losses, label='Train')\n",
        "plt.plot(x, validation_losses, label='Validation')\n",
        "plt.xlabel('Number of updates')\n",
        "plt.ylabel('Log Loss')\n",
        "plt.legend( ('Train', 'Validation') )\n",
        "plt.show() \n",
        "\n",
        "wL2 = w #keep it for later use\n",
        "\n",
        "#Depending on the learning rate and the coefficent in front of regularization this is possible \n",
        "#to have some overfitting advocating for early stopping. Remark that it does not hurt as hard the validation performance \n",
        "#Gains remains quite unclear, possibly due to the small dataset size   "
      ]
    },
    {
      "cell_type": "markdown",
      "metadata": {
        "id": "iALIM1szWUGa"
      },
      "source": [
        "2. Optimize the hyperparameters of a factorization machine for several dataset sizes and plot the resulting curve -- use the data contained in the test file to explore bigger than 100k training data size. For this question you can use a library such as [libFM](https://libfm.org). Remind that we already used the 10k first lines of the test data to build our validation set.\n"
      ]
    },
    {
      "cell_type": "code",
      "execution_count": null,
      "metadata": {
        "id": "1dquNkmNWT44"
      },
      "outputs": [],
      "source": [
        "import numpy as np\n",
        "X_train = np.loadtxt('X_train.csv', skiprows=1, delimiter=',')\n",
        "X_train = [[('%s' % _, 1) for _ in x] for x in X_train][10000:] #Data format expected by the Feature Hasher is a sequence of key,value\n"
      ]
    },
    {
      "cell_type": "code",
      "execution_count": null,
      "metadata": {
        "id": "ukRrdOaCY-hF"
      },
      "outputs": [],
      "source": [
        "# Optimiser sur le learning_rate et sur K -> "
      ]
    },
    {
      "cell_type": "code",
      "execution_count": null,
      "metadata": {
        "id": "5iqqtKlmW6nM"
      },
      "outputs": [],
      "source": [
        "# Le validation comporte déjà les 10k première lignes, on va train sur les 90 autres"
      ]
    },
    {
      "cell_type": "code",
      "execution_count": null,
      "metadata": {
        "colab": {
          "base_uri": "https://localhost:8080/"
        },
        "id": "4OX8X664UkoF",
        "outputId": "751adc53-4cc7-49e2-93c2-6cff51c67d36"
      },
      "outputs": [
        {
          "name": "stdout",
          "output_type": "stream",
          "text": [
            "Requirement already satisfied: wandb in /usr/local/lib/python3.7/dist-packages (0.12.9)\n",
            "Requirement already satisfied: python-dateutil>=2.6.1 in /usr/local/lib/python3.7/dist-packages (from wandb) (2.8.2)\n",
            "Requirement already satisfied: yaspin>=1.0.0 in /usr/local/lib/python3.7/dist-packages (from wandb) (2.1.0)\n",
            "Requirement already satisfied: protobuf>=3.12.0 in /usr/local/lib/python3.7/dist-packages (from wandb) (3.17.3)\n",
            "Requirement already satisfied: promise<3,>=2.0 in /usr/local/lib/python3.7/dist-packages (from wandb) (2.3)\n",
            "Requirement already satisfied: sentry-sdk>=1.0.0 in /usr/local/lib/python3.7/dist-packages (from wandb) (1.5.2)\n",
            "Requirement already satisfied: shortuuid>=0.5.0 in /usr/local/lib/python3.7/dist-packages (from wandb) (1.0.8)\n",
            "Requirement already satisfied: pathtools in /usr/local/lib/python3.7/dist-packages (from wandb) (0.1.2)\n",
            "Requirement already satisfied: GitPython>=1.0.0 in /usr/local/lib/python3.7/dist-packages (from wandb) (3.1.26)\n",
            "Requirement already satisfied: configparser>=3.8.1 in /usr/local/lib/python3.7/dist-packages (from wandb) (5.2.0)\n",
            "Requirement already satisfied: subprocess32>=3.5.3 in /usr/local/lib/python3.7/dist-packages (from wandb) (3.5.4)\n",
            "Requirement already satisfied: PyYAML in /usr/local/lib/python3.7/dist-packages (from wandb) (3.13)\n",
            "Requirement already satisfied: six>=1.13.0 in /usr/local/lib/python3.7/dist-packages (from wandb) (1.15.0)\n",
            "Requirement already satisfied: psutil>=5.0.0 in /usr/local/lib/python3.7/dist-packages (from wandb) (5.4.8)\n",
            "Requirement already satisfied: docker-pycreds>=0.4.0 in /usr/local/lib/python3.7/dist-packages (from wandb) (0.4.0)\n",
            "Requirement already satisfied: Click!=8.0.0,>=7.0 in /usr/local/lib/python3.7/dist-packages (from wandb) (7.1.2)\n",
            "Requirement already satisfied: requests<3,>=2.0.0 in /usr/local/lib/python3.7/dist-packages (from wandb) (2.23.0)\n",
            "Requirement already satisfied: typing-extensions>=3.7.4.3 in /usr/local/lib/python3.7/dist-packages (from GitPython>=1.0.0->wandb) (3.10.0.2)\n",
            "Requirement already satisfied: gitdb<5,>=4.0.1 in /usr/local/lib/python3.7/dist-packages (from GitPython>=1.0.0->wandb) (4.0.9)\n",
            "Requirement already satisfied: smmap<6,>=3.0.1 in /usr/local/lib/python3.7/dist-packages (from gitdb<5,>=4.0.1->GitPython>=1.0.0->wandb) (5.0.0)\n",
            "Requirement already satisfied: urllib3!=1.25.0,!=1.25.1,<1.26,>=1.21.1 in /usr/local/lib/python3.7/dist-packages (from requests<3,>=2.0.0->wandb) (1.24.3)\n",
            "Requirement already satisfied: chardet<4,>=3.0.2 in /usr/local/lib/python3.7/dist-packages (from requests<3,>=2.0.0->wandb) (3.0.4)\n",
            "Requirement already satisfied: idna<3,>=2.5 in /usr/local/lib/python3.7/dist-packages (from requests<3,>=2.0.0->wandb) (2.10)\n",
            "Requirement already satisfied: certifi>=2017.4.17 in /usr/local/lib/python3.7/dist-packages (from requests<3,>=2.0.0->wandb) (2021.10.8)\n",
            "Requirement already satisfied: termcolor<2.0.0,>=1.1.0 in /usr/local/lib/python3.7/dist-packages (from yaspin>=1.0.0->wandb) (1.1.0)\n",
            "\u001b[34m\u001b[1mwandb\u001b[0m: Currently logged in as: \u001b[33mmrouault\u001b[0m (use `wandb login --relogin` to force relogin)\n"
          ]
        }
      ],
      "source": [
        "!pip install wandb\n",
        "!wandb login"
      ]
    },
    {
      "cell_type": "code",
      "execution_count": null,
      "metadata": {
        "colab": {
          "base_uri": "https://localhost:8080/"
        },
        "id": "72d_nKZeruxD",
        "outputId": "2c74fd38-ec10-4c0d-f328-dbf093eba015"
      },
      "outputs": [
        {
          "name": "stdout",
          "output_type": "stream",
          "text": [
            "Create sweep with ID: q90o3dip\n",
            "Sweep URL: https://wandb.ai/mrouault/uncategorized/sweeps/q90o3dip\n"
          ]
        }
      ],
      "source": [
        "import wandb\n",
        "#Note that is exist the possiblity to create such config in a yaml file more info at https://docs.wandb.ai/guides/track/config\n",
        "#This may be used to store the results of experiments (including models) in a common place\n",
        "#Here we are going to create to config automatically thanks to a sweep but this is not the sole usage\n",
        "\n",
        "sweep_config = {\n",
        "  \"name\" : \"TP1-ENSAE-hyperparameter_search\",\n",
        "  \"method\" : \"random\", #There exist several strategies such as Bayes and it possible to add some early stopping (see Hyperband). Care NCE is not a loss (higher is better)\n",
        "  \"parameters\" : {\n",
        "    \"learning_rate\" :{\n",
        "      \"min\": 0.0001,\n",
        "      \"max\": 0.1\n",
        "    },\n",
        "    \"l2\":{\n",
        "      \"min\": 0.,\n",
        "      \"max\": 0.1\n",
        "    },\n",
        "    \"k\":{\n",
        "      \"min\": 2,\n",
        "      \"max\": 20\n",
        "    },\n",
        "  }\n",
        "}\n",
        "sweep_id = wandb.sweep(sweep_config)"
      ]
    },
    {
      "cell_type": "code",
      "execution_count": null,
      "metadata": {
        "colab": {
          "background_save": true,
          "base_uri": "https://localhost:8080/",
          "height": 1000,
          "referenced_widgets": [
            "b24714a2961d40e89640c925bdaf63eb",
            "b08feb8ad4564751baa8b16cf664bcfe",
            "7a2e606cc796405984833ac8e87a81e4",
            "2f8347957b774e4ca74dde4d9a7de52f",
            "154b64229e7d412c941fea573cff2e5d",
            "8c246928ca7e43a49d77a2e2a761e42b",
            "9465ea5fb20c45d989cdf7b432f396a7",
            "d30c9fe65f144e3b84883994166c133d",
            "97f687f108b94c319709beff6f6ec3fb",
            "812907d06b824006bf04727249021f81",
            "ffc2c088d7014421933970b384d0daaf",
            "0789b4e407e04d859aa48d475721e4f5",
            "d0ac3a01fad648f08cf0d11677c08495",
            "76a90093d69e4bcebb4a739b911fbb19",
            "d186ea5cd13344f9b1db9b290bdc458c",
            "fd8cdedfc1ff45438cd93657800bbfcb",
            "30a72d50678444fe9181333f5ef5e02c",
            "0e45c57a09e843c4ad6c32d48dba9899",
            "c659c85f5fe44fb893522c0e84324719",
            "cf4c73106da84c34a75fffbe71a82f7a",
            "ced92f40c9c946e89cd8d290bdbe4585",
            "e6efed8e7e704d9bb6814bb1b505d201",
            "a50d40eba6034a56b3121526a11525a9",
            "52b8daec332344038476b3546ef85ade",
            "3f601b5c2bbc44a7ad34491ad7f7e315",
            "1841ddca530742c1b3c500f8cf2864ba",
            "9f6a4fd5e9474e59834396e1ec815580",
            "cade0d0bbca446f09125d9d9a8f6a45c",
            "c286c6cca8ec493187aa16dc7e1888c1",
            "f1cf0295122c48a381353d81004611cb",
            "00f445b6a3964b82947d90d908882d95",
            "2f01ffd4d4804de6a5e8938fbb19d9d0",
            "5c598aac5bf04016b5f92c72a8a4b5ff",
            "51808d9e94c34f038d15b726252370b9",
            "2642428c97bb48b3b0f04b0164fc2699",
            "cf78a59bb6f44c40a1b62fef464b66cb",
            "d7dd39625173480ba917075f8ab41776",
            "07b42427dffb4dd995221945fed4b092",
            "8a5c84efc96e4ef9bab075849c372476",
            "f127abedf57c4526ad81ddca00b1a407",
            "321afade268149ef9db0a5111a485233",
            "3bf0d4141ee843eaa4cbd1072a517677",
            "9275804eded74b1c91a3f4377c6962cd",
            "cf1ccffbc0bc43c1bf4f43b29cc77f63",
            "bd854b769ea34148a9b8be3c9041c4b5",
            "7ac0b43e6c7d4e19acdd3a250e84b16e",
            "1026c7d8674e439b91231a758ccaf2f5",
            "d02c8dc393c14a4a924c9c45082ed7f2",
            "44633429eeb44a10a22f539a1e59e3a9",
            "db062641b5bc48228dd2bcb61eae96d5",
            "e0c59207a88348c4bcb87e270e181f85",
            "09aa29acb44d4c82af2097a217439086"
          ]
        },
        "id": "Hni8XzPNrvuC",
        "outputId": "6faeaedc-d530-4229-a186-ff9b915e520f"
      },
      "outputs": [
        {
          "name": "stderr",
          "output_type": "stream",
          "text": [
            "\u001b[34m\u001b[1mwandb\u001b[0m: Agent Starting Run: o2tui21c with config:\n",
            "\u001b[34m\u001b[1mwandb\u001b[0m: \tk: 15\n",
            "\u001b[34m\u001b[1mwandb\u001b[0m: \tl2: 0.07535606722287529\n",
            "\u001b[34m\u001b[1mwandb\u001b[0m: \tlearning_rate: 0.06580564383984301\n"
          ]
        },
        {
          "data": {
            "text/html": [
              "\n",
              "                    Syncing run <strong><a href=\"https://wandb.ai/mrouault/uncategorized/runs/o2tui21c\" target=\"_blank\">lunar-sweep-1</a></strong> to <a href=\"https://wandb.ai/mrouault/uncategorized\" target=\"_blank\">Weights & Biases</a> (<a href=\"https://docs.wandb.com/integrations/jupyter.html\" target=\"_blank\">docs</a>).<br/>\n",
              "Sweep page: <a href=\"https://wandb.ai/mrouault/uncategorized/sweeps/q90o3dip\" target=\"_blank\">https://wandb.ai/mrouault/uncategorized/sweeps/q90o3dip</a><br/>\n",
              "\n",
              "                "
            ],
            "text/plain": [
              "<IPython.core.display.HTML object>"
            ]
          },
          "metadata": {},
          "output_type": "display_data"
        },
        {
          "data": {
            "text/html": [
              "<br/>Waiting for W&B process to finish, PID 3919... <strong style=\"color:green\">(success).</strong>"
            ],
            "text/plain": [
              "<IPython.core.display.HTML object>"
            ]
          },
          "metadata": {},
          "output_type": "display_data"
        },
        {
          "data": {
            "application/vnd.jupyter.widget-view+json": {
              "model_id": "b24714a2961d40e89640c925bdaf63eb",
              "version_major": 2,
              "version_minor": 0
            },
            "text/plain": [
              "VBox(children=(Label(value=' 0.00MB of 0.00MB uploaded (0.00MB deduped)\\r'), FloatProgress(value=1.0, max=1.0)…"
            ]
          },
          "metadata": {},
          "output_type": "display_data"
        },
        {
          "data": {
            "text/html": [
              "<style>\n",
              "    table.wandb td:nth-child(1) { padding: 0 10px; text-align: right }\n",
              "    .wandb-row { display: flex; flex-direction: row; flex-wrap: wrap; width: 100% }\n",
              "    .wandb-col { display: flex; flex-direction: column; flex-basis: 100%; flex: 1; padding: 10px; }\n",
              "    </style>\n",
              "<div class=\"wandb-row\"><div class=\"wandb-col\">\n",
              "<h3>Run history:</h3><br/><table class=\"wandb\"><tr><td>epoch</td><td>▁▁▁▁▁▁▁▁▁▁</td></tr><tr><td>loss</td><td>█▅▄▃▃▃▂▁▁▁</td></tr><tr><td>n_updates</td><td>▁▂▃▃▄▅▆▆▇█</td></tr></table><br/></div><div class=\"wandb-col\">\n",
              "<h3>Run summary:</h3><br/><table class=\"wandb\"><tr><td>epoch</td><td>0</td></tr><tr><td>loss</td><td>0.27279</td></tr><tr><td>n_updates</td><td>100000</td></tr></table>\n",
              "</div></div>\n",
              "Synced 4 W&B file(s), 0 media file(s), 0 artifact file(s) and 0 other file(s)\n",
              "<br/>Synced <strong style=\"color:#cdcd00\">lunar-sweep-1</strong>: <a href=\"https://wandb.ai/mrouault/uncategorized/runs/o2tui21c\" target=\"_blank\">https://wandb.ai/mrouault/uncategorized/runs/o2tui21c</a><br/>\n",
              "Find logs at: <code>./wandb/run-20220114_023415-o2tui21c/logs</code><br/>\n"
            ],
            "text/plain": [
              "<IPython.core.display.HTML object>"
            ]
          },
          "metadata": {},
          "output_type": "display_data"
        },
        {
          "name": "stderr",
          "output_type": "stream",
          "text": [
            "\u001b[34m\u001b[1mwandb\u001b[0m: Agent Starting Run: sco3vunw with config:\n",
            "\u001b[34m\u001b[1mwandb\u001b[0m: \tk: 18\n",
            "\u001b[34m\u001b[1mwandb\u001b[0m: \tl2: 0.06802762835186901\n",
            "\u001b[34m\u001b[1mwandb\u001b[0m: \tlearning_rate: 0.0790241643807718\n"
          ]
        },
        {
          "data": {
            "text/html": [
              "\n",
              "                    Syncing run <strong><a href=\"https://wandb.ai/mrouault/uncategorized/runs/sco3vunw\" target=\"_blank\">easy-sweep-2</a></strong> to <a href=\"https://wandb.ai/mrouault/uncategorized\" target=\"_blank\">Weights & Biases</a> (<a href=\"https://docs.wandb.com/integrations/jupyter.html\" target=\"_blank\">docs</a>).<br/>\n",
              "Sweep page: <a href=\"https://wandb.ai/mrouault/uncategorized/sweeps/q90o3dip\" target=\"_blank\">https://wandb.ai/mrouault/uncategorized/sweeps/q90o3dip</a><br/>\n",
              "\n",
              "                "
            ],
            "text/plain": [
              "<IPython.core.display.HTML object>"
            ]
          },
          "metadata": {},
          "output_type": "display_data"
        },
        {
          "data": {
            "text/html": [
              "<br/>Waiting for W&B process to finish, PID 3971... <strong style=\"color:green\">(success).</strong>"
            ],
            "text/plain": [
              "<IPython.core.display.HTML object>"
            ]
          },
          "metadata": {},
          "output_type": "display_data"
        },
        {
          "data": {
            "application/vnd.jupyter.widget-view+json": {
              "model_id": "97f687f108b94c319709beff6f6ec3fb",
              "version_major": 2,
              "version_minor": 0
            },
            "text/plain": [
              "VBox(children=(Label(value=' 0.00MB of 0.00MB uploaded (0.00MB deduped)\\r'), FloatProgress(value=1.0, max=1.0)…"
            ]
          },
          "metadata": {},
          "output_type": "display_data"
        },
        {
          "data": {
            "text/html": [
              "<style>\n",
              "    table.wandb td:nth-child(1) { padding: 0 10px; text-align: right }\n",
              "    .wandb-row { display: flex; flex-direction: row; flex-wrap: wrap; width: 100% }\n",
              "    .wandb-col { display: flex; flex-direction: column; flex-basis: 100%; flex: 1; padding: 10px; }\n",
              "    </style>\n",
              "<div class=\"wandb-row\"><div class=\"wandb-col\">\n",
              "<h3>Run history:</h3><br/><table class=\"wandb\"><tr><td>epoch</td><td>▁▁▁▁▁▁▁▁▁▁</td></tr><tr><td>loss</td><td>█▅▄▃▃▃▂▁▁▁</td></tr><tr><td>n_updates</td><td>▁▂▃▃▄▅▆▆▇█</td></tr></table><br/></div><div class=\"wandb-col\">\n",
              "<h3>Run summary:</h3><br/><table class=\"wandb\"><tr><td>epoch</td><td>0</td></tr><tr><td>loss</td><td>0.26999</td></tr><tr><td>n_updates</td><td>100000</td></tr></table>\n",
              "</div></div>\n",
              "Synced 4 W&B file(s), 0 media file(s), 0 artifact file(s) and 0 other file(s)\n",
              "<br/>Synced <strong style=\"color:#cdcd00\">easy-sweep-2</strong>: <a href=\"https://wandb.ai/mrouault/uncategorized/runs/sco3vunw\" target=\"_blank\">https://wandb.ai/mrouault/uncategorized/runs/sco3vunw</a><br/>\n",
              "Find logs at: <code>./wandb/run-20220114_023805-sco3vunw/logs</code><br/>\n"
            ],
            "text/plain": [
              "<IPython.core.display.HTML object>"
            ]
          },
          "metadata": {},
          "output_type": "display_data"
        },
        {
          "name": "stderr",
          "output_type": "stream",
          "text": [
            "\u001b[34m\u001b[1mwandb\u001b[0m: Agent Starting Run: h13zcohv with config:\n",
            "\u001b[34m\u001b[1mwandb\u001b[0m: \tk: 2\n",
            "\u001b[34m\u001b[1mwandb\u001b[0m: \tl2: 0.08341862148855868\n",
            "\u001b[34m\u001b[1mwandb\u001b[0m: \tlearning_rate: 0.03022754227933084\n"
          ]
        },
        {
          "data": {
            "text/html": [
              "\n",
              "                    Syncing run <strong><a href=\"https://wandb.ai/mrouault/uncategorized/runs/h13zcohv\" target=\"_blank\">scarlet-sweep-3</a></strong> to <a href=\"https://wandb.ai/mrouault/uncategorized\" target=\"_blank\">Weights & Biases</a> (<a href=\"https://docs.wandb.com/integrations/jupyter.html\" target=\"_blank\">docs</a>).<br/>\n",
              "Sweep page: <a href=\"https://wandb.ai/mrouault/uncategorized/sweeps/q90o3dip\" target=\"_blank\">https://wandb.ai/mrouault/uncategorized/sweeps/q90o3dip</a><br/>\n",
              "\n",
              "                "
            ],
            "text/plain": [
              "<IPython.core.display.HTML object>"
            ]
          },
          "metadata": {},
          "output_type": "display_data"
        },
        {
          "data": {
            "text/html": [
              "<br/>Waiting for W&B process to finish, PID 4005... <strong style=\"color:green\">(success).</strong>"
            ],
            "text/plain": [
              "<IPython.core.display.HTML object>"
            ]
          },
          "metadata": {},
          "output_type": "display_data"
        },
        {
          "data": {
            "application/vnd.jupyter.widget-view+json": {
              "model_id": "30a72d50678444fe9181333f5ef5e02c",
              "version_major": 2,
              "version_minor": 0
            },
            "text/plain": [
              "VBox(children=(Label(value=' 0.00MB of 0.00MB uploaded (0.00MB deduped)\\r'), FloatProgress(value=1.0, max=1.0)…"
            ]
          },
          "metadata": {},
          "output_type": "display_data"
        },
        {
          "data": {
            "text/html": [
              "<style>\n",
              "    table.wandb td:nth-child(1) { padding: 0 10px; text-align: right }\n",
              "    .wandb-row { display: flex; flex-direction: row; flex-wrap: wrap; width: 100% }\n",
              "    .wandb-col { display: flex; flex-direction: column; flex-basis: 100%; flex: 1; padding: 10px; }\n",
              "    </style>\n",
              "<div class=\"wandb-row\"><div class=\"wandb-col\">\n",
              "<h3>Run history:</h3><br/><table class=\"wandb\"><tr><td>epoch</td><td>▁▁▁▁▁▁▁▁▁▁</td></tr><tr><td>loss</td><td>█▅▄▄▃▃▂▂▁▁</td></tr><tr><td>n_updates</td><td>▁▂▃▃▄▅▆▆▇█</td></tr></table><br/></div><div class=\"wandb-col\">\n",
              "<h3>Run summary:</h3><br/><table class=\"wandb\"><tr><td>epoch</td><td>0</td></tr><tr><td>loss</td><td>0.28138</td></tr><tr><td>n_updates</td><td>100000</td></tr></table>\n",
              "</div></div>\n",
              "Synced 4 W&B file(s), 0 media file(s), 0 artifact file(s) and 0 other file(s)\n",
              "<br/>Synced <strong style=\"color:#cdcd00\">scarlet-sweep-3</strong>: <a href=\"https://wandb.ai/mrouault/uncategorized/runs/h13zcohv\" target=\"_blank\">https://wandb.ai/mrouault/uncategorized/runs/h13zcohv</a><br/>\n",
              "Find logs at: <code>./wandb/run-20220114_024233-h13zcohv/logs</code><br/>\n"
            ],
            "text/plain": [
              "<IPython.core.display.HTML object>"
            ]
          },
          "metadata": {},
          "output_type": "display_data"
        },
        {
          "name": "stderr",
          "output_type": "stream",
          "text": [
            "\u001b[34m\u001b[1mwandb\u001b[0m: Agent Starting Run: 1gccee8a with config:\n",
            "\u001b[34m\u001b[1mwandb\u001b[0m: \tk: 6\n",
            "\u001b[34m\u001b[1mwandb\u001b[0m: \tl2: 0.025358690098331717\n",
            "\u001b[34m\u001b[1mwandb\u001b[0m: \tlearning_rate: 0.08032306765141951\n"
          ]
        },
        {
          "data": {
            "text/html": [
              "\n",
              "                    Syncing run <strong><a href=\"https://wandb.ai/mrouault/uncategorized/runs/1gccee8a\" target=\"_blank\">stellar-sweep-4</a></strong> to <a href=\"https://wandb.ai/mrouault/uncategorized\" target=\"_blank\">Weights & Biases</a> (<a href=\"https://docs.wandb.com/integrations/jupyter.html\" target=\"_blank\">docs</a>).<br/>\n",
              "Sweep page: <a href=\"https://wandb.ai/mrouault/uncategorized/sweeps/q90o3dip\" target=\"_blank\">https://wandb.ai/mrouault/uncategorized/sweeps/q90o3dip</a><br/>\n",
              "\n",
              "                "
            ],
            "text/plain": [
              "<IPython.core.display.HTML object>"
            ]
          },
          "metadata": {},
          "output_type": "display_data"
        },
        {
          "data": {
            "text/html": [
              "<br/>Waiting for W&B process to finish, PID 4039... <strong style=\"color:green\">(success).</strong>"
            ],
            "text/plain": [
              "<IPython.core.display.HTML object>"
            ]
          },
          "metadata": {},
          "output_type": "display_data"
        },
        {
          "data": {
            "application/vnd.jupyter.widget-view+json": {
              "model_id": "3f601b5c2bbc44a7ad34491ad7f7e315",
              "version_major": 2,
              "version_minor": 0
            },
            "text/plain": [
              "VBox(children=(Label(value=' 0.00MB of 0.00MB uploaded (0.00MB deduped)\\r'), FloatProgress(value=1.0, max=1.0)…"
            ]
          },
          "metadata": {},
          "output_type": "display_data"
        },
        {
          "data": {
            "text/html": [
              "<style>\n",
              "    table.wandb td:nth-child(1) { padding: 0 10px; text-align: right }\n",
              "    .wandb-row { display: flex; flex-direction: row; flex-wrap: wrap; width: 100% }\n",
              "    .wandb-col { display: flex; flex-direction: column; flex-basis: 100%; flex: 1; padding: 10px; }\n",
              "    </style>\n",
              "<div class=\"wandb-row\"><div class=\"wandb-col\">\n",
              "<h3>Run history:</h3><br/><table class=\"wandb\"><tr><td>epoch</td><td>▁▁▁▁▁▁▁▁▁▁</td></tr><tr><td>loss</td><td>█▅▄▃▃▂▂▂▁▁</td></tr><tr><td>n_updates</td><td>▁▂▃▃▄▅▆▆▇█</td></tr></table><br/></div><div class=\"wandb-col\">\n",
              "<h3>Run summary:</h3><br/><table class=\"wandb\"><tr><td>epoch</td><td>0</td></tr><tr><td>loss</td><td>0.2606</td></tr><tr><td>n_updates</td><td>100000</td></tr></table>\n",
              "</div></div>\n",
              "Synced 4 W&B file(s), 0 media file(s), 0 artifact file(s) and 0 other file(s)\n",
              "<br/>Synced <strong style=\"color:#cdcd00\">stellar-sweep-4</strong>: <a href=\"https://wandb.ai/mrouault/uncategorized/runs/1gccee8a\" target=\"_blank\">https://wandb.ai/mrouault/uncategorized/runs/1gccee8a</a><br/>\n",
              "Find logs at: <code>./wandb/run-20220114_024326-1gccee8a/logs</code><br/>\n"
            ],
            "text/plain": [
              "<IPython.core.display.HTML object>"
            ]
          },
          "metadata": {},
          "output_type": "display_data"
        },
        {
          "name": "stderr",
          "output_type": "stream",
          "text": [
            "\u001b[34m\u001b[1mwandb\u001b[0m: Agent Starting Run: 7cl4koyo with config:\n",
            "\u001b[34m\u001b[1mwandb\u001b[0m: \tk: 16\n",
            "\u001b[34m\u001b[1mwandb\u001b[0m: \tl2: 0.06414020427803803\n",
            "\u001b[34m\u001b[1mwandb\u001b[0m: \tlearning_rate: 0.07954696750322382\n"
          ]
        },
        {
          "data": {
            "text/html": [
              "\n",
              "                    Syncing run <strong><a href=\"https://wandb.ai/mrouault/uncategorized/runs/7cl4koyo\" target=\"_blank\">devoted-sweep-5</a></strong> to <a href=\"https://wandb.ai/mrouault/uncategorized\" target=\"_blank\">Weights & Biases</a> (<a href=\"https://docs.wandb.com/integrations/jupyter.html\" target=\"_blank\">docs</a>).<br/>\n",
              "Sweep page: <a href=\"https://wandb.ai/mrouault/uncategorized/sweeps/q90o3dip\" target=\"_blank\">https://wandb.ai/mrouault/uncategorized/sweeps/q90o3dip</a><br/>\n",
              "\n",
              "                "
            ],
            "text/plain": [
              "<IPython.core.display.HTML object>"
            ]
          },
          "metadata": {},
          "output_type": "display_data"
        },
        {
          "data": {
            "text/html": [
              "<br/>Waiting for W&B process to finish, PID 4073... <strong style=\"color:green\">(success).</strong>"
            ],
            "text/plain": [
              "<IPython.core.display.HTML object>"
            ]
          },
          "metadata": {},
          "output_type": "display_data"
        },
        {
          "data": {
            "application/vnd.jupyter.widget-view+json": {
              "model_id": "5c598aac5bf04016b5f92c72a8a4b5ff",
              "version_major": 2,
              "version_minor": 0
            },
            "text/plain": [
              "VBox(children=(Label(value=' 0.00MB of 0.00MB uploaded (0.00MB deduped)\\r'), FloatProgress(value=1.0, max=1.0)…"
            ]
          },
          "metadata": {},
          "output_type": "display_data"
        },
        {
          "data": {
            "text/html": [
              "<style>\n",
              "    table.wandb td:nth-child(1) { padding: 0 10px; text-align: right }\n",
              "    .wandb-row { display: flex; flex-direction: row; flex-wrap: wrap; width: 100% }\n",
              "    .wandb-col { display: flex; flex-direction: column; flex-basis: 100%; flex: 1; padding: 10px; }\n",
              "    </style>\n",
              "<div class=\"wandb-row\"><div class=\"wandb-col\">\n",
              "<h3>Run history:</h3><br/><table class=\"wandb\"><tr><td>epoch</td><td>▁▁▁▁▁▁▁▁▁▁</td></tr><tr><td>loss</td><td>█▅▄▃▃▃▂▁▁▁</td></tr><tr><td>n_updates</td><td>▁▂▃▃▄▅▆▆▇█</td></tr></table><br/></div><div class=\"wandb-col\">\n",
              "<h3>Run summary:</h3><br/><table class=\"wandb\"><tr><td>epoch</td><td>0</td></tr><tr><td>loss</td><td>0.26916</td></tr><tr><td>n_updates</td><td>100000</td></tr></table>\n",
              "</div></div>\n",
              "Synced 4 W&B file(s), 0 media file(s), 0 artifact file(s) and 0 other file(s)\n",
              "<br/>Synced <strong style=\"color:#cdcd00\">devoted-sweep-5</strong>: <a href=\"https://wandb.ai/mrouault/uncategorized/runs/7cl4koyo\" target=\"_blank\">https://wandb.ai/mrouault/uncategorized/runs/7cl4koyo</a><br/>\n",
              "Find logs at: <code>./wandb/run-20220114_024512-7cl4koyo/logs</code><br/>\n"
            ],
            "text/plain": [
              "<IPython.core.display.HTML object>"
            ]
          },
          "metadata": {},
          "output_type": "display_data"
        },
        {
          "name": "stderr",
          "output_type": "stream",
          "text": [
            "\u001b[34m\u001b[1mwandb\u001b[0m: Agent Starting Run: 9xv2ivw7 with config:\n",
            "\u001b[34m\u001b[1mwandb\u001b[0m: \tk: 6\n",
            "\u001b[34m\u001b[1mwandb\u001b[0m: \tl2: 0.05136775614146882\n",
            "\u001b[34m\u001b[1mwandb\u001b[0m: \tlearning_rate: 0.0951567104562314\n"
          ]
        },
        {
          "data": {
            "text/html": [
              "\n",
              "                    Syncing run <strong><a href=\"https://wandb.ai/mrouault/uncategorized/runs/9xv2ivw7\" target=\"_blank\">upbeat-sweep-6</a></strong> to <a href=\"https://wandb.ai/mrouault/uncategorized\" target=\"_blank\">Weights & Biases</a> (<a href=\"https://docs.wandb.com/integrations/jupyter.html\" target=\"_blank\">docs</a>).<br/>\n",
              "Sweep page: <a href=\"https://wandb.ai/mrouault/uncategorized/sweeps/q90o3dip\" target=\"_blank\">https://wandb.ai/mrouault/uncategorized/sweeps/q90o3dip</a><br/>\n",
              "\n",
              "                "
            ],
            "text/plain": [
              "<IPython.core.display.HTML object>"
            ]
          },
          "metadata": {},
          "output_type": "display_data"
        },
        {
          "data": {
            "text/html": [
              "<br/>Waiting for W&B process to finish, PID 4111... <strong style=\"color:green\">(success).</strong>"
            ],
            "text/plain": [
              "<IPython.core.display.HTML object>"
            ]
          },
          "metadata": {},
          "output_type": "display_data"
        },
        {
          "data": {
            "application/vnd.jupyter.widget-view+json": {
              "model_id": "321afade268149ef9db0a5111a485233",
              "version_major": 2,
              "version_minor": 0
            },
            "text/plain": [
              "VBox(children=(Label(value=' 0.00MB of 0.00MB uploaded (0.00MB deduped)\\r'), FloatProgress(value=1.0, max=1.0)…"
            ]
          },
          "metadata": {},
          "output_type": "display_data"
        },
        {
          "data": {
            "text/html": [
              "<style>\n",
              "    table.wandb td:nth-child(1) { padding: 0 10px; text-align: right }\n",
              "    .wandb-row { display: flex; flex-direction: row; flex-wrap: wrap; width: 100% }\n",
              "    .wandb-col { display: flex; flex-direction: column; flex-basis: 100%; flex: 1; padding: 10px; }\n",
              "    </style>\n",
              "<div class=\"wandb-row\"><div class=\"wandb-col\">\n",
              "<h3>Run history:</h3><br/><table class=\"wandb\"><tr><td>epoch</td><td>▁▁▁▁▁▁▁▁▁▁</td></tr><tr><td>loss</td><td>█▅▄▃▃▂▂▁▁▁</td></tr><tr><td>n_updates</td><td>▁▂▃▃▄▅▆▆▇█</td></tr></table><br/></div><div class=\"wandb-col\">\n",
              "<h3>Run summary:</h3><br/><table class=\"wandb\"><tr><td>epoch</td><td>0</td></tr><tr><td>loss</td><td>0.26515</td></tr><tr><td>n_updates</td><td>100000</td></tr></table>\n",
              "</div></div>\n",
              "Synced 4 W&B file(s), 0 media file(s), 0 artifact file(s) and 0 other file(s)\n",
              "<br/>Synced <strong style=\"color:#cdcd00\">upbeat-sweep-6</strong>: <a href=\"https://wandb.ai/mrouault/uncategorized/runs/9xv2ivw7\" target=\"_blank\">https://wandb.ai/mrouault/uncategorized/runs/9xv2ivw7</a><br/>\n",
              "Find logs at: <code>./wandb/run-20220114_024914-9xv2ivw7/logs</code><br/>\n"
            ],
            "text/plain": [
              "<IPython.core.display.HTML object>"
            ]
          },
          "metadata": {},
          "output_type": "display_data"
        },
        {
          "name": "stderr",
          "output_type": "stream",
          "text": [
            "\u001b[34m\u001b[1mwandb\u001b[0m: Agent Starting Run: 4ruav1pe with config:\n",
            "\u001b[34m\u001b[1mwandb\u001b[0m: \tk: 8\n",
            "\u001b[34m\u001b[1mwandb\u001b[0m: \tl2: 0.01657581453317988\n",
            "\u001b[34m\u001b[1mwandb\u001b[0m: \tlearning_rate: 0.06169882097769549\n"
          ]
        },
        {
          "data": {
            "text/html": [
              "\n",
              "                    Syncing run <strong><a href=\"https://wandb.ai/mrouault/uncategorized/runs/4ruav1pe\" target=\"_blank\">polar-sweep-7</a></strong> to <a href=\"https://wandb.ai/mrouault/uncategorized\" target=\"_blank\">Weights & Biases</a> (<a href=\"https://docs.wandb.com/integrations/jupyter.html\" target=\"_blank\">docs</a>).<br/>\n",
              "Sweep page: <a href=\"https://wandb.ai/mrouault/uncategorized/sweeps/q90o3dip\" target=\"_blank\">https://wandb.ai/mrouault/uncategorized/sweeps/q90o3dip</a><br/>\n",
              "\n",
              "                "
            ],
            "text/plain": [
              "<IPython.core.display.HTML object>"
            ]
          },
          "metadata": {},
          "output_type": "display_data"
        },
        {
          "data": {
            "text/html": [
              "<br/>Waiting for W&B process to finish, PID 4145... <strong style=\"color:green\">(success).</strong>"
            ],
            "text/plain": [
              "<IPython.core.display.HTML object>"
            ]
          },
          "metadata": {},
          "output_type": "display_data"
        },
        {
          "data": {
            "application/vnd.jupyter.widget-view+json": {
              "model_id": "44633429eeb44a10a22f539a1e59e3a9",
              "version_major": 2,
              "version_minor": 0
            },
            "text/plain": [
              "VBox(children=(Label(value=' 0.00MB of 0.00MB uploaded (0.00MB deduped)\\r'), FloatProgress(value=1.0, max=1.0)…"
            ]
          },
          "metadata": {},
          "output_type": "display_data"
        },
        {
          "data": {
            "text/html": [
              "<style>\n",
              "    table.wandb td:nth-child(1) { padding: 0 10px; text-align: right }\n",
              "    .wandb-row { display: flex; flex-direction: row; flex-wrap: wrap; width: 100% }\n",
              "    .wandb-col { display: flex; flex-direction: column; flex-basis: 100%; flex: 1; padding: 10px; }\n",
              "    </style>\n",
              "<div class=\"wandb-row\"><div class=\"wandb-col\">\n",
              "<h3>Run history:</h3><br/><table class=\"wandb\"><tr><td>epoch</td><td>▁▁▁▁▁▁▁▁▁▁</td></tr><tr><td>loss</td><td>█▆▄▄▃▂▂▂▁▁</td></tr><tr><td>n_updates</td><td>▁▂▃▃▄▅▆▆▇█</td></tr></table><br/></div><div class=\"wandb-col\">\n",
              "<h3>Run summary:</h3><br/><table class=\"wandb\"><tr><td>epoch</td><td>0</td></tr><tr><td>loss</td><td>0.26141</td></tr><tr><td>n_updates</td><td>100000</td></tr></table>\n",
              "</div></div>\n",
              "Synced 4 W&B file(s), 0 media file(s), 0 artifact file(s) and 0 other file(s)\n",
              "<br/>Synced <strong style=\"color:#cdcd00\">polar-sweep-7</strong>: <a href=\"https://wandb.ai/mrouault/uncategorized/runs/4ruav1pe\" target=\"_blank\">https://wandb.ai/mrouault/uncategorized/runs/4ruav1pe</a><br/>\n",
              "Find logs at: <code>./wandb/run-20220114_025101-4ruav1pe/logs</code><br/>\n"
            ],
            "text/plain": [
              "<IPython.core.display.HTML object>"
            ]
          },
          "metadata": {},
          "output_type": "display_data"
        },
        {
          "name": "stderr",
          "output_type": "stream",
          "text": [
            "\u001b[34m\u001b[1mwandb\u001b[0m: Agent Starting Run: kksqo6s4 with config:\n",
            "\u001b[34m\u001b[1mwandb\u001b[0m: \tk: 12\n",
            "\u001b[34m\u001b[1mwandb\u001b[0m: \tl2: 0.03958371245592349\n",
            "\u001b[34m\u001b[1mwandb\u001b[0m: \tlearning_rate: 0.0701554439531997\n"
          ]
        },
        {
          "data": {
            "text/html": [
              "\n",
              "                    Syncing run <strong><a href=\"https://wandb.ai/mrouault/uncategorized/runs/kksqo6s4\" target=\"_blank\">jumping-sweep-8</a></strong> to <a href=\"https://wandb.ai/mrouault/uncategorized\" target=\"_blank\">Weights & Biases</a> (<a href=\"https://docs.wandb.com/integrations/jupyter.html\" target=\"_blank\">docs</a>).<br/>\n",
              "Sweep page: <a href=\"https://wandb.ai/mrouault/uncategorized/sweeps/q90o3dip\" target=\"_blank\">https://wandb.ai/mrouault/uncategorized/sweeps/q90o3dip</a><br/>\n",
              "\n",
              "                "
            ],
            "text/plain": [
              "<IPython.core.display.HTML object>"
            ]
          },
          "metadata": {},
          "output_type": "display_data"
        },
        {
          "data": {
            "text/html": [
              "<br/>Waiting for W&B process to finish, PID 4181... <strong style=\"color:green\">(success).</strong>"
            ],
            "text/plain": [
              "<IPython.core.display.HTML object>"
            ]
          },
          "metadata": {},
          "output_type": "display_data"
        },
        {
          "data": {
            "application/vnd.jupyter.widget-view+json": {
              "model_id": "db062641b5bc48228dd2bcb61eae96d5",
              "version_major": 2,
              "version_minor": 0
            },
            "text/plain": [
              "VBox(children=(Label(value=' 0.00MB of 0.00MB uploaded (0.00MB deduped)\\r'), FloatProgress(value=1.0, max=1.0)…"
            ]
          },
          "metadata": {},
          "output_type": "display_data"
        },
        {
          "data": {
            "text/html": [
              "<style>\n",
              "    table.wandb td:nth-child(1) { padding: 0 10px; text-align: right }\n",
              "    .wandb-row { display: flex; flex-direction: row; flex-wrap: wrap; width: 100% }\n",
              "    .wandb-col { display: flex; flex-direction: column; flex-basis: 100%; flex: 1; padding: 10px; }\n",
              "    </style>\n",
              "<div class=\"wandb-row\"><div class=\"wandb-col\">\n",
              "<h3>Run history:</h3><br/><table class=\"wandb\"><tr><td>epoch</td><td>▁▁▁▁▁▁▁▁▁▁</td></tr><tr><td>loss</td><td>█▅▄▃▃▂▂▂▁▁</td></tr><tr><td>n_updates</td><td>▁▂▃▃▄▅▆▆▇█</td></tr></table><br/></div><div class=\"wandb-col\">\n",
              "<h3>Run summary:</h3><br/><table class=\"wandb\"><tr><td>epoch</td><td>0</td></tr><tr><td>loss</td><td>0.26501</td></tr><tr><td>n_updates</td><td>100000</td></tr></table>\n",
              "</div></div>\n",
              "Synced 4 W&B file(s), 0 media file(s), 0 artifact file(s) and 0 other file(s)\n",
              "<br/>Synced <strong style=\"color:#cdcd00\">jumping-sweep-8</strong>: <a href=\"https://wandb.ai/mrouault/uncategorized/runs/kksqo6s4\" target=\"_blank\">https://wandb.ai/mrouault/uncategorized/runs/kksqo6s4</a><br/>\n",
              "Find logs at: <code>./wandb/run-20220114_025313-kksqo6s4/logs</code><br/>\n"
            ],
            "text/plain": [
              "<IPython.core.display.HTML object>"
            ]
          },
          "metadata": {},
          "output_type": "display_data"
        },
        {
          "name": "stderr",
          "output_type": "stream",
          "text": [
            "\u001b[34m\u001b[1mwandb\u001b[0m: Sweep Agent: Waiting for job.\n",
            "\u001b[34m\u001b[1mwandb\u001b[0m: Job received.\n",
            "\u001b[34m\u001b[1mwandb\u001b[0m: Agent Starting Run: 4a8ah6o5 with config:\n",
            "\u001b[34m\u001b[1mwandb\u001b[0m: \tk: 5\n",
            "\u001b[34m\u001b[1mwandb\u001b[0m: \tl2: 0.06429963256836427\n",
            "\u001b[34m\u001b[1mwandb\u001b[0m: \tlearning_rate: 0.0754381336042327\n"
          ]
        },
        {
          "data": {
            "text/html": [
              "\n",
              "                    Syncing run <strong><a href=\"https://wandb.ai/mrouault/uncategorized/runs/4a8ah6o5\" target=\"_blank\">pretty-sweep-9</a></strong> to <a href=\"https://wandb.ai/mrouault/uncategorized\" target=\"_blank\">Weights & Biases</a> (<a href=\"https://docs.wandb.com/integrations/jupyter.html\" target=\"_blank\">docs</a>).<br/>\n",
              "Sweep page: <a href=\"https://wandb.ai/mrouault/uncategorized/sweeps/q90o3dip\" target=\"_blank\">https://wandb.ai/mrouault/uncategorized/sweeps/q90o3dip</a><br/>\n",
              "\n",
              "                "
            ],
            "text/plain": [
              "<IPython.core.display.HTML object>"
            ]
          },
          "metadata": {},
          "output_type": "display_data"
        },
        {
          "data": {
            "text/html": [
              "<br/>Waiting for W&B process to finish, PID 4215... <strong style=\"color:green\">(success).</strong>"
            ],
            "text/plain": [
              "<IPython.core.display.HTML object>"
            ]
          },
          "metadata": {},
          "output_type": "display_data"
        },
        {
          "data": {
            "application/vnd.jupyter.widget-view+json": {
              "model_id": "e0c59207a88348c4bcb87e270e181f85",
              "version_major": 2,
              "version_minor": 0
            },
            "text/plain": [
              "VBox(children=(Label(value=' 0.00MB of 0.00MB uploaded (0.00MB deduped)\\r'), FloatProgress(value=1.0, max=1.0)…"
            ]
          },
          "metadata": {},
          "output_type": "display_data"
        },
        {
          "data": {
            "text/html": [
              "<style>\n",
              "    table.wandb td:nth-child(1) { padding: 0 10px; text-align: right }\n",
              "    .wandb-row { display: flex; flex-direction: row; flex-wrap: wrap; width: 100% }\n",
              "    .wandb-col { display: flex; flex-direction: column; flex-basis: 100%; flex: 1; padding: 10px; }\n",
              "    </style>\n",
              "<div class=\"wandb-row\"><div class=\"wandb-col\">\n",
              "<h3>Run history:</h3><br/><table class=\"wandb\"><tr><td>epoch</td><td>▁▁▁▁▁▁▁▁▁▁</td></tr><tr><td>loss</td><td>█▅▄▃▃▃▂▁▁▁</td></tr><tr><td>n_updates</td><td>▁▂▃▃▄▅▆▆▇█</td></tr></table><br/></div><div class=\"wandb-col\">\n",
              "<h3>Run summary:</h3><br/><table class=\"wandb\"><tr><td>epoch</td><td>0</td></tr><tr><td>loss</td><td>0.26958</td></tr><tr><td>n_updates</td><td>100000</td></tr></table>\n",
              "</div></div>\n",
              "Synced 4 W&B file(s), 0 media file(s), 0 artifact file(s) and 0 other file(s)\n",
              "<br/>Synced <strong style=\"color:#cdcd00\">pretty-sweep-9</strong>: <a href=\"https://wandb.ai/mrouault/uncategorized/runs/4a8ah6o5\" target=\"_blank\">https://wandb.ai/mrouault/uncategorized/runs/4a8ah6o5</a><br/>\n",
              "Find logs at: <code>./wandb/run-20220114_025621-4a8ah6o5/logs</code><br/>\n"
            ],
            "text/plain": [
              "<IPython.core.display.HTML object>"
            ]
          },
          "metadata": {},
          "output_type": "display_data"
        },
        {
          "name": "stderr",
          "output_type": "stream",
          "text": [
            "\u001b[34m\u001b[1mwandb\u001b[0m: Agent Starting Run: zs1onfcu with config:\n",
            "\u001b[34m\u001b[1mwandb\u001b[0m: \tk: 17\n",
            "\u001b[34m\u001b[1mwandb\u001b[0m: \tl2: 0.08894355912702193\n",
            "\u001b[34m\u001b[1mwandb\u001b[0m: \tlearning_rate: 0.01354907633314736\n"
          ]
        },
        {
          "data": {
            "text/html": [
              "\n",
              "                    Syncing run <strong><a href=\"https://wandb.ai/mrouault/uncategorized/runs/zs1onfcu\" target=\"_blank\">balmy-sweep-10</a></strong> to <a href=\"https://wandb.ai/mrouault/uncategorized\" target=\"_blank\">Weights & Biases</a> (<a href=\"https://docs.wandb.com/integrations/jupyter.html\" target=\"_blank\">docs</a>).<br/>\n",
              "Sweep page: <a href=\"https://wandb.ai/mrouault/uncategorized/sweeps/q90o3dip\" target=\"_blank\">https://wandb.ai/mrouault/uncategorized/sweeps/q90o3dip</a><br/>\n",
              "\n",
              "                "
            ],
            "text/plain": [
              "<IPython.core.display.HTML object>"
            ]
          },
          "metadata": {},
          "output_type": "display_data"
        },
        {
          "data": {
            "text/html": [
              "<br/>Waiting for W&B process to finish, PID 4249... <strong style=\"color:green\">(success).</strong>"
            ],
            "text/plain": [
              "<IPython.core.display.HTML object>"
            ]
          },
          "metadata": {},
          "output_type": "display_data"
        },
        {
          "data": {
            "application/vnd.jupyter.widget-view+json": {
              "model_id": "09aa29acb44d4c82af2097a217439086",
              "version_major": 2,
              "version_minor": 0
            },
            "text/plain": [
              "VBox(children=(Label(value=' 0.00MB of 0.00MB uploaded (0.00MB deduped)\\r'), FloatProgress(value=1.0, max=1.0)…"
            ]
          },
          "metadata": {},
          "output_type": "display_data"
        },
        {
          "data": {
            "text/html": [
              "<style>\n",
              "    table.wandb td:nth-child(1) { padding: 0 10px; text-align: right }\n",
              "    .wandb-row { display: flex; flex-direction: row; flex-wrap: wrap; width: 100% }\n",
              "    .wandb-col { display: flex; flex-direction: column; flex-basis: 100%; flex: 1; padding: 10px; }\n",
              "    </style>\n",
              "<div class=\"wandb-row\"><div class=\"wandb-col\">\n",
              "<h3>Run history:</h3><br/><table class=\"wandb\"><tr><td>epoch</td><td>▁▁▁▁▁▁▁▁▁▁</td></tr><tr><td>loss</td><td>█▅▄▃▃▃▂▂▁▁</td></tr><tr><td>n_updates</td><td>▁▂▃▃▄▅▆▆▇█</td></tr></table><br/></div><div class=\"wandb-col\">\n",
              "<h3>Run summary:</h3><br/><table class=\"wandb\"><tr><td>epoch</td><td>0</td></tr><tr><td>loss</td><td>0.29197</td></tr><tr><td>n_updates</td><td>100000</td></tr></table>\n",
              "</div></div>\n",
              "Synced 4 W&B file(s), 0 media file(s), 0 artifact file(s) and 0 other file(s)\n",
              "<br/>Synced <strong style=\"color:#cdcd00\">balmy-sweep-10</strong>: <a href=\"https://wandb.ai/mrouault/uncategorized/runs/zs1onfcu\" target=\"_blank\">https://wandb.ai/mrouault/uncategorized/runs/zs1onfcu</a><br/>\n",
              "Find logs at: <code>./wandb/run-20220114_025751-zs1onfcu/logs</code><br/>\n"
            ],
            "text/plain": [
              "<IPython.core.display.HTML object>"
            ]
          },
          "metadata": {},
          "output_type": "display_data"
        }
      ],
      "source": [
        "\n",
        "def train():\n",
        "  with wandb.init(reinit=True) as run:\n",
        "    config = wandb.config\n",
        "    D = 2 ** 24\n",
        "    w = [0.] * D  \n",
        "    n = [0.] * D\n",
        "    loss = 0.\n",
        "    n_updates = 0\n",
        "    n_epochs = 1\n",
        "    v = np.zeros(shape = (D, config['k']))\n",
        "    alpha = config['learning_rate']\n",
        "\n",
        "    for e in range(n_epochs):\n",
        "      for t, (row, y)  in enumerate(zip(DictReader(open(X_train)), DictReader(open(y_train)))):\n",
        "          x = get_x(row, D)\n",
        "          p = get_p_factorization(x, w, v, config['k'])\n",
        "          target = float(y['click'])\n",
        "          if n_updates% 10000 == 0 and n_updates>1:\n",
        "              wandb.log({\"loss\": compute_validation_loss_factorization(w, D, v, config['k']),\n",
        "                         \"epoch\": e,\n",
        "                         \"n_updates\":n_updates})\n",
        "          w, v, n = update_wL2_factorization(w, v, n, x, p, target, config['k'], lbd = config['l2'], alpha = alpha)  \n",
        "          n_updates += 1\n",
        "\n",
        "count = 10 #Indeed the more the better and longer\n",
        "#Using the same sweep_id it is also possible to distribute the training\n",
        "wandb.agent(sweep_id, function=train, count=count) "
      ]
    },
    {
      "cell_type": "code",
      "execution_count": null,
      "metadata": {
        "colab": {
          "base_uri": "https://localhost:8080/"
        },
        "id": "g90FqAaPpAHP",
        "outputId": "66a44541-65b2-4f2b-f79c-d5f3b5aa39ce"
      },
      "outputs": [
        {
          "name": "stdout",
          "output_type": "stream",
          "text": [
            "Create sweep with ID: z9sh2dxt\n",
            "Sweep URL: https://wandb.ai/mrouault/uncategorized/sweeps/z9sh2dxt\n"
          ]
        }
      ],
      "source": [
        "import wandb\n",
        "sweep_config = {\n",
        "  \"name\" : \"TP1-ENSAE-hyperparameter_search\",\n",
        "  \"method\" : \"random\", #There exist several strategies such as Bayes and it possible to add some early stopping (see Hyperband). Care NCE is not a loss (higher is better)\n",
        "  \"parameters\" : {\n",
        "    \"k\":{\n",
        "      \"min\": 2,\n",
        "      \"max\": 20\n",
        "    },\n",
        "  }\n",
        "}\n",
        "sweep_id = wandb.sweep(sweep_config)"
      ]
    },
    {
      "cell_type": "code",
      "execution_count": null,
      "metadata": {
        "colab": {
          "base_uri": "https://localhost:8080/",
          "height": 963,
          "referenced_widgets": [
            "4ee109aed7c2476ea167cede7e6b8e5f",
            "ceaafd58722945168b705bc5c6a0a253",
            "c76a5ca080aa4d899e4a7fdf36f769dd",
            "6992906d94d5480aa67c78a5362e4c89",
            "81f98ca5458a48b89046fbc9c26b89fe",
            "c516c133ad6e472fbfbbbd66060ac645",
            "32f096aaac764928a7bcd609f4436a34",
            "190f969d9110497593c061d736828ab7",
            "811da1a75a8d4e1cb5f32b1ebe31193c",
            "749f9819ca5d42ed9122b226740dd571",
            "8f90e9d957aa4988a75f21ed5997b5f5",
            "1ea652267e7b40d094f54d77cafcbfc9",
            "6f7b15daf5574e1c9484f0312c49716d",
            "5c26a34e360c46b28820d6858bc92aa6",
            "ea885453a8f74b4b89167a2562dda959",
            "637aa22d8a9542a787477b87e29ba6ed",
            "97c42841361940d8a30b0688a62ff7e1",
            "915b38d310114cfc9107f2b159a3f5bc",
            "69b299e02a6f4ea3b15ec43219c90dbc",
            "2ad2a6298b984c9baab9a9cf4682f14f",
            "9defb03b4f6a4998beea5275bdc4203e",
            "da8ad3e8007f49f2bb9c99f51e2cc117",
            "1009b5ed208e4389b344e836356413c8",
            "0d095d7ea1c24c7e8433f438f08c5874"
          ]
        },
        "id": "g9kiVlN_pIOK",
        "outputId": "11b195bc-e95b-41b3-f190-bb27018f90fa"
      },
      "outputs": [
        {
          "name": "stderr",
          "output_type": "stream",
          "text": [
            "\u001b[34m\u001b[1mwandb\u001b[0m: Agent Starting Run: t2xzrpsp with config:\n",
            "\u001b[34m\u001b[1mwandb\u001b[0m: \tk: 27\n"
          ]
        },
        {
          "data": {
            "text/html": [
              "\n",
              "                    Syncing run <strong><a href=\"https://wandb.ai/mrouault/uncategorized/runs/t2xzrpsp\" target=\"_blank\">pious-sweep-2</a></strong> to <a href=\"https://wandb.ai/mrouault/uncategorized\" target=\"_blank\">Weights & Biases</a> (<a href=\"https://docs.wandb.com/integrations/jupyter.html\" target=\"_blank\">docs</a>).<br/>\n",
              "Sweep page: <a href=\"https://wandb.ai/mrouault/uncategorized/sweeps/z9sh2dxt\" target=\"_blank\">https://wandb.ai/mrouault/uncategorized/sweeps/z9sh2dxt</a><br/>\n",
              "\n",
              "                "
            ],
            "text/plain": [
              "<IPython.core.display.HTML object>"
            ]
          },
          "metadata": {},
          "output_type": "display_data"
        },
        {
          "data": {
            "text/html": [
              "<br/>Waiting for W&B process to finish, PID 3318... <strong style=\"color:green\">(success).</strong>"
            ],
            "text/plain": [
              "<IPython.core.display.HTML object>"
            ]
          },
          "metadata": {},
          "output_type": "display_data"
        },
        {
          "data": {
            "application/vnd.jupyter.widget-view+json": {
              "model_id": "4ee109aed7c2476ea167cede7e6b8e5f",
              "version_major": 2,
              "version_minor": 0
            },
            "text/plain": [
              "VBox(children=(Label(value=' 0.00MB of 0.00MB uploaded (0.00MB deduped)\\r'), FloatProgress(value=1.0, max=1.0)…"
            ]
          },
          "metadata": {},
          "output_type": "display_data"
        },
        {
          "data": {
            "text/html": [
              "<style>\n",
              "    table.wandb td:nth-child(1) { padding: 0 10px; text-align: right }\n",
              "    .wandb-row { display: flex; flex-direction: row; flex-wrap: wrap; width: 100% }\n",
              "    .wandb-col { display: flex; flex-direction: column; flex-basis: 100%; flex: 1; padding: 10px; }\n",
              "    </style>\n",
              "<div class=\"wandb-row\"><div class=\"wandb-col\">\n",
              "<h3>Run history:</h3><br/><table class=\"wandb\"><tr><td>epoch</td><td>▁▁▁▁▁▁▁▁▁▁</td></tr><tr><td>loss</td><td>█▄▂▂▃▃▁▁▃▁</td></tr><tr><td>n_updates</td><td>▁▂▃▃▄▅▆▆▇█</td></tr></table><br/></div><div class=\"wandb-col\">\n",
              "<h3>Run summary:</h3><br/><table class=\"wandb\"><tr><td>epoch</td><td>0</td></tr><tr><td>loss</td><td>0.26248</td></tr><tr><td>n_updates</td><td>100000</td></tr></table>\n",
              "</div></div>\n",
              "Synced 4 W&B file(s), 0 media file(s), 0 artifact file(s) and 0 other file(s)\n",
              "<br/>Synced <strong style=\"color:#cdcd00\">pious-sweep-2</strong>: <a href=\"https://wandb.ai/mrouault/uncategorized/runs/t2xzrpsp\" target=\"_blank\">https://wandb.ai/mrouault/uncategorized/runs/t2xzrpsp</a><br/>\n",
              "Find logs at: <code>./wandb/run-20220114_015734-t2xzrpsp/logs</code><br/>\n"
            ],
            "text/plain": [
              "<IPython.core.display.HTML object>"
            ]
          },
          "metadata": {},
          "output_type": "display_data"
        },
        {
          "name": "stderr",
          "output_type": "stream",
          "text": [
            "\u001b[34m\u001b[1mwandb\u001b[0m: Agent Starting Run: ejcoddzq with config:\n",
            "\u001b[34m\u001b[1mwandb\u001b[0m: \tk: 10\n"
          ]
        },
        {
          "data": {
            "text/html": [
              "\n",
              "                    Syncing run <strong><a href=\"https://wandb.ai/mrouault/uncategorized/runs/ejcoddzq\" target=\"_blank\">sunny-sweep-2</a></strong> to <a href=\"https://wandb.ai/mrouault/uncategorized\" target=\"_blank\">Weights & Biases</a> (<a href=\"https://docs.wandb.com/integrations/jupyter.html\" target=\"_blank\">docs</a>).<br/>\n",
              "Sweep page: <a href=\"https://wandb.ai/mrouault/uncategorized/sweeps/z9sh2dxt\" target=\"_blank\">https://wandb.ai/mrouault/uncategorized/sweeps/z9sh2dxt</a><br/>\n",
              "\n",
              "                "
            ],
            "text/plain": [
              "<IPython.core.display.HTML object>"
            ]
          },
          "metadata": {},
          "output_type": "display_data"
        },
        {
          "data": {
            "text/html": [
              "<br/>Waiting for W&B process to finish, PID 3368... <strong style=\"color:green\">(success).</strong>"
            ],
            "text/plain": [
              "<IPython.core.display.HTML object>"
            ]
          },
          "metadata": {},
          "output_type": "display_data"
        },
        {
          "data": {
            "application/vnd.jupyter.widget-view+json": {
              "model_id": "811da1a75a8d4e1cb5f32b1ebe31193c",
              "version_major": 2,
              "version_minor": 0
            },
            "text/plain": [
              "VBox(children=(Label(value=' 0.00MB of 0.00MB uploaded (0.00MB deduped)\\r'), FloatProgress(value=1.0, max=1.0)…"
            ]
          },
          "metadata": {},
          "output_type": "display_data"
        },
        {
          "data": {
            "text/html": [
              "<style>\n",
              "    table.wandb td:nth-child(1) { padding: 0 10px; text-align: right }\n",
              "    .wandb-row { display: flex; flex-direction: row; flex-wrap: wrap; width: 100% }\n",
              "    .wandb-col { display: flex; flex-direction: column; flex-basis: 100%; flex: 1; padding: 10px; }\n",
              "    </style>\n",
              "<div class=\"wandb-row\"><div class=\"wandb-col\">\n",
              "<h3>Run history:</h3><br/><table class=\"wandb\"><tr><td>epoch</td><td>▁▁▁▁▁▁▁▁▁▁</td></tr><tr><td>loss</td><td>█▄▂▂▄▃▁▁▃▁</td></tr><tr><td>n_updates</td><td>▁▂▃▃▄▅▆▆▇█</td></tr></table><br/></div><div class=\"wandb-col\">\n",
              "<h3>Run summary:</h3><br/><table class=\"wandb\"><tr><td>epoch</td><td>0</td></tr><tr><td>loss</td><td>0.25925</td></tr><tr><td>n_updates</td><td>100000</td></tr></table>\n",
              "</div></div>\n",
              "Synced 4 W&B file(s), 0 media file(s), 0 artifact file(s) and 0 other file(s)\n",
              "<br/>Synced <strong style=\"color:#cdcd00\">sunny-sweep-2</strong>: <a href=\"https://wandb.ai/mrouault/uncategorized/runs/ejcoddzq\" target=\"_blank\">https://wandb.ai/mrouault/uncategorized/runs/ejcoddzq</a><br/>\n",
              "Find logs at: <code>./wandb/run-20220114_020404-ejcoddzq/logs</code><br/>\n"
            ],
            "text/plain": [
              "<IPython.core.display.HTML object>"
            ]
          },
          "metadata": {},
          "output_type": "display_data"
        },
        {
          "name": "stderr",
          "output_type": "stream",
          "text": [
            "\u001b[34m\u001b[1mwandb\u001b[0m: Agent Starting Run: gjdz5rtw with config:\n",
            "\u001b[34m\u001b[1mwandb\u001b[0m: \tk: 35\n"
          ]
        },
        {
          "data": {
            "text/html": [
              "\n",
              "                    Syncing run <strong><a href=\"https://wandb.ai/mrouault/uncategorized/runs/gjdz5rtw\" target=\"_blank\">vital-sweep-3</a></strong> to <a href=\"https://wandb.ai/mrouault/uncategorized\" target=\"_blank\">Weights & Biases</a> (<a href=\"https://docs.wandb.com/integrations/jupyter.html\" target=\"_blank\">docs</a>).<br/>\n",
              "Sweep page: <a href=\"https://wandb.ai/mrouault/uncategorized/sweeps/z9sh2dxt\" target=\"_blank\">https://wandb.ai/mrouault/uncategorized/sweeps/z9sh2dxt</a><br/>\n",
              "\n",
              "                "
            ],
            "text/plain": [
              "<IPython.core.display.HTML object>"
            ]
          },
          "metadata": {},
          "output_type": "display_data"
        },
        {
          "data": {
            "text/html": [
              "<br/>Waiting for W&B process to finish, PID 3406... <strong style=\"color:green\">(success).</strong>"
            ],
            "text/plain": [
              "<IPython.core.display.HTML object>"
            ]
          },
          "metadata": {},
          "output_type": "display_data"
        },
        {
          "data": {
            "application/vnd.jupyter.widget-view+json": {
              "model_id": "97c42841361940d8a30b0688a62ff7e1",
              "version_major": 2,
              "version_minor": 0
            },
            "text/plain": [
              "VBox(children=(Label(value=' 0.00MB of 0.00MB uploaded (0.00MB deduped)\\r'), FloatProgress(value=1.0, max=1.0)…"
            ]
          },
          "metadata": {},
          "output_type": "display_data"
        },
        {
          "data": {
            "text/html": [
              "<style>\n",
              "    table.wandb td:nth-child(1) { padding: 0 10px; text-align: right }\n",
              "    .wandb-row { display: flex; flex-direction: row; flex-wrap: wrap; width: 100% }\n",
              "    .wandb-col { display: flex; flex-direction: column; flex-basis: 100%; flex: 1; padding: 10px; }\n",
              "    </style>\n",
              "<div class=\"wandb-row\"><div class=\"wandb-col\">\n",
              "<h3>Run history:</h3><br/><table class=\"wandb\"><tr><td>epoch</td><td>▁▁▁▁▁▁▁▁▁▁</td></tr><tr><td>loss</td><td>█▄▂▂▃▂▁▁▂▁</td></tr><tr><td>n_updates</td><td>▁▂▃▃▄▅▆▆▇█</td></tr></table><br/></div><div class=\"wandb-col\">\n",
              "<h3>Run summary:</h3><br/><table class=\"wandb\"><tr><td>epoch</td><td>0</td></tr><tr><td>loss</td><td>0.26371</td></tr><tr><td>n_updates</td><td>100000</td></tr></table>\n",
              "</div></div>\n",
              "Synced 4 W&B file(s), 0 media file(s), 0 artifact file(s) and 0 other file(s)\n",
              "<br/>Synced <strong style=\"color:#cdcd00\">vital-sweep-3</strong>: <a href=\"https://wandb.ai/mrouault/uncategorized/runs/gjdz5rtw\" target=\"_blank\">https://wandb.ai/mrouault/uncategorized/runs/gjdz5rtw</a><br/>\n",
              "Find logs at: <code>./wandb/run-20220114_020645-gjdz5rtw/logs</code><br/>\n"
            ],
            "text/plain": [
              "<IPython.core.display.HTML object>"
            ]
          },
          "metadata": {},
          "output_type": "display_data"
        },
        {
          "name": "stderr",
          "output_type": "stream",
          "text": [
            "\u001b[34m\u001b[1mwandb\u001b[0m: Agent Starting Run: uolwfwgg with config:\n",
            "\u001b[34m\u001b[1mwandb\u001b[0m: \tk: 28\n"
          ]
        },
        {
          "data": {
            "text/html": [
              "\n",
              "                    Syncing run <strong><a href=\"https://wandb.ai/mrouault/uncategorized/runs/uolwfwgg\" target=\"_blank\">brisk-sweep-4</a></strong> to <a href=\"https://wandb.ai/mrouault/uncategorized\" target=\"_blank\">Weights & Biases</a> (<a href=\"https://docs.wandb.com/integrations/jupyter.html\" target=\"_blank\">docs</a>).<br/>\n",
              "Sweep page: <a href=\"https://wandb.ai/mrouault/uncategorized/sweeps/z9sh2dxt\" target=\"_blank\">https://wandb.ai/mrouault/uncategorized/sweeps/z9sh2dxt</a><br/>\n",
              "\n",
              "                "
            ],
            "text/plain": [
              "<IPython.core.display.HTML object>"
            ]
          },
          "metadata": {},
          "output_type": "display_data"
        },
        {
          "name": "stderr",
          "output_type": "stream",
          "text": [
            "\u001b[34m\u001b[1mwandb\u001b[0m: Ctrl + C detected. Stopping sweep.\n"
          ]
        }
      ],
      "source": [
        "def train():\n",
        "  with wandb.init(reinit=True) as run:\n",
        "    config = wandb.config\n",
        "    D = 2 ** 24\n",
        "    w = [0.] * D  \n",
        "    n = [0.] * D\n",
        "    alpha = .01\n",
        "    n_epochs = 1\n",
        "    loss = 0.\n",
        "    n_updates = 0\n",
        "    v = np.full(shape = (D, config['k']), fill_value = -0.1)\n",
        "\n",
        "    for e in range(n_epochs):\n",
        "      for t, (row, y)  in enumerate(zip(DictReader(open(X_train)), DictReader(open(y_train)))):\n",
        "          x = get_x(row, D)\n",
        "          p = get_p_factorization(x, w, v, config['k'])\n",
        "          target = float(y['click'])\n",
        "          if n_updates% 10000 == 0 and n_updates>1:\n",
        "              wandb.log({\"loss\": compute_validation_loss_factorization(w, D, v, config['k']),\n",
        "                         \"epoch\": e,\n",
        "                         \"n_updates\":n_updates})\n",
        "          w, v, n = update_wL2_factorization(w, v, n, x, p, target, config['k'])  \n",
        "          n_updates += 1\n",
        "\n",
        "count = 10 #Indeed the more the better and longer\n",
        "#Using the same sweep_id it is also possible to distribute the training\n",
        "wandb.agent(sweep_id, function=train, count=count) "
      ]
    }
  ],
  "metadata": {
    "colab": {
      "collapsed_sections": [],
      "name": "Copie de TP_1-ENSAE21-solution.ipynb",
      "provenance": [],
      "include_colab_link": true
    },
    "kernelspec": {
      "display_name": "Python 3",
      "name": "python3"
    },
    "language_info": {
      "name": "python"
    },
    "widgets": {
      "application/vnd.jupyter.widget-state+json": {
        "00f445b6a3964b82947d90d908882d95": {
          "model_module": "@jupyter-widgets/base",
          "model_module_version": "1.2.0",
          "model_name": "LayoutModel",
          "state": {
            "_model_module": "@jupyter-widgets/base",
            "_model_module_version": "1.2.0",
            "_model_name": "LayoutModel",
            "_view_count": null,
            "_view_module": "@jupyter-widgets/base",
            "_view_module_version": "1.2.0",
            "_view_name": "LayoutView",
            "align_content": null,
            "align_items": null,
            "align_self": null,
            "border": null,
            "bottom": null,
            "display": null,
            "flex": null,
            "flex_flow": null,
            "grid_area": null,
            "grid_auto_columns": null,
            "grid_auto_flow": null,
            "grid_auto_rows": null,
            "grid_column": null,
            "grid_gap": null,
            "grid_row": null,
            "grid_template_areas": null,
            "grid_template_columns": null,
            "grid_template_rows": null,
            "height": null,
            "justify_content": null,
            "justify_items": null,
            "left": null,
            "margin": null,
            "max_height": null,
            "max_width": null,
            "min_height": null,
            "min_width": null,
            "object_fit": null,
            "object_position": null,
            "order": null,
            "overflow": null,
            "overflow_x": null,
            "overflow_y": null,
            "padding": null,
            "right": null,
            "top": null,
            "visibility": null,
            "width": null
          }
        },
        "0789b4e407e04d859aa48d475721e4f5": {
          "model_module": "@jupyter-widgets/base",
          "model_module_version": "1.2.0",
          "model_name": "LayoutModel",
          "state": {
            "_model_module": "@jupyter-widgets/base",
            "_model_module_version": "1.2.0",
            "_model_name": "LayoutModel",
            "_view_count": null,
            "_view_module": "@jupyter-widgets/base",
            "_view_module_version": "1.2.0",
            "_view_name": "LayoutView",
            "align_content": null,
            "align_items": null,
            "align_self": null,
            "border": null,
            "bottom": null,
            "display": null,
            "flex": null,
            "flex_flow": null,
            "grid_area": null,
            "grid_auto_columns": null,
            "grid_auto_flow": null,
            "grid_auto_rows": null,
            "grid_column": null,
            "grid_gap": null,
            "grid_row": null,
            "grid_template_areas": null,
            "grid_template_columns": null,
            "grid_template_rows": null,
            "height": null,
            "justify_content": null,
            "justify_items": null,
            "left": null,
            "margin": null,
            "max_height": null,
            "max_width": null,
            "min_height": null,
            "min_width": null,
            "object_fit": null,
            "object_position": null,
            "order": null,
            "overflow": null,
            "overflow_x": null,
            "overflow_y": null,
            "padding": null,
            "right": null,
            "top": null,
            "visibility": null,
            "width": null
          }
        },
        "07b42427dffb4dd995221945fed4b092": {
          "model_module": "@jupyter-widgets/controls",
          "model_module_version": "1.5.0",
          "model_name": "DescriptionStyleModel",
          "state": {
            "_model_module": "@jupyter-widgets/controls",
            "_model_module_version": "1.5.0",
            "_model_name": "DescriptionStyleModel",
            "_view_count": null,
            "_view_module": "@jupyter-widgets/base",
            "_view_module_version": "1.2.0",
            "_view_name": "StyleView",
            "description_width": ""
          }
        },
        "0d095d7ea1c24c7e8433f438f08c5874": {
          "model_module": "@jupyter-widgets/controls",
          "model_module_version": "1.5.0",
          "model_name": "ProgressStyleModel",
          "state": {
            "_model_module": "@jupyter-widgets/controls",
            "_model_module_version": "1.5.0",
            "_model_name": "ProgressStyleModel",
            "_view_count": null,
            "_view_module": "@jupyter-widgets/base",
            "_view_module_version": "1.2.0",
            "_view_name": "StyleView",
            "bar_color": null,
            "description_width": ""
          }
        },
        "0d4521708ab1496cb6b69abe0d09cd07": {
          "model_module": "@jupyter-widgets/controls",
          "model_module_version": "1.5.0",
          "model_name": "LabelModel",
          "state": {
            "_dom_classes": [],
            "_model_module": "@jupyter-widgets/controls",
            "_model_module_version": "1.5.0",
            "_model_name": "LabelModel",
            "_view_count": null,
            "_view_module": "@jupyter-widgets/controls",
            "_view_module_version": "1.5.0",
            "_view_name": "LabelView",
            "description": "",
            "description_tooltip": null,
            "layout": "IPY_MODEL_c6a1c8cf271f483887da93739dc25ff2",
            "placeholder": "​",
            "style": "IPY_MODEL_ed46fa7443b84cc4bf5d027d642a9541",
            "value": " 0.01MB of 0.01MB uploaded (0.00MB deduped)\r"
          }
        },
        "0e45c57a09e843c4ad6c32d48dba9899": {
          "model_module": "@jupyter-widgets/controls",
          "model_module_version": "1.5.0",
          "model_name": "LabelModel",
          "state": {
            "_dom_classes": [],
            "_model_module": "@jupyter-widgets/controls",
            "_model_module_version": "1.5.0",
            "_model_name": "LabelModel",
            "_view_count": null,
            "_view_module": "@jupyter-widgets/controls",
            "_view_module_version": "1.5.0",
            "_view_name": "LabelView",
            "description": "",
            "description_tooltip": null,
            "layout": "IPY_MODEL_ced92f40c9c946e89cd8d290bdbe4585",
            "placeholder": "​",
            "style": "IPY_MODEL_e6efed8e7e704d9bb6814bb1b505d201",
            "value": " 0.01MB of 0.01MB uploaded (0.00MB deduped)\r"
          }
        },
        "0f9d73d4f58949cdbfaea687699fbe45": {
          "model_module": "@jupyter-widgets/controls",
          "model_module_version": "1.5.0",
          "model_name": "LabelModel",
          "state": {
            "_dom_classes": [],
            "_model_module": "@jupyter-widgets/controls",
            "_model_module_version": "1.5.0",
            "_model_name": "LabelModel",
            "_view_count": null,
            "_view_module": "@jupyter-widgets/controls",
            "_view_module_version": "1.5.0",
            "_view_name": "LabelView",
            "description": "",
            "description_tooltip": null,
            "layout": "IPY_MODEL_b91ef4aa87cf452aa7e8a7e33ddbc2f4",
            "placeholder": "​",
            "style": "IPY_MODEL_3158d3307fca4477889a3d5da7471197",
            "value": " 0.01MB of 0.01MB uploaded (0.00MB deduped)\r"
          }
        },
        "1009b5ed208e4389b344e836356413c8": {
          "model_module": "@jupyter-widgets/base",
          "model_module_version": "1.2.0",
          "model_name": "LayoutModel",
          "state": {
            "_model_module": "@jupyter-widgets/base",
            "_model_module_version": "1.2.0",
            "_model_name": "LayoutModel",
            "_view_count": null,
            "_view_module": "@jupyter-widgets/base",
            "_view_module_version": "1.2.0",
            "_view_name": "LayoutView",
            "align_content": null,
            "align_items": null,
            "align_self": null,
            "border": null,
            "bottom": null,
            "display": null,
            "flex": null,
            "flex_flow": null,
            "grid_area": null,
            "grid_auto_columns": null,
            "grid_auto_flow": null,
            "grid_auto_rows": null,
            "grid_column": null,
            "grid_gap": null,
            "grid_row": null,
            "grid_template_areas": null,
            "grid_template_columns": null,
            "grid_template_rows": null,
            "height": null,
            "justify_content": null,
            "justify_items": null,
            "left": null,
            "margin": null,
            "max_height": null,
            "max_width": null,
            "min_height": null,
            "min_width": null,
            "object_fit": null,
            "object_position": null,
            "order": null,
            "overflow": null,
            "overflow_x": null,
            "overflow_y": null,
            "padding": null,
            "right": null,
            "top": null,
            "visibility": null,
            "width": null
          }
        },
        "1026c7d8674e439b91231a758ccaf2f5": {
          "model_module": "@jupyter-widgets/base",
          "model_module_version": "1.2.0",
          "model_name": "LayoutModel",
          "state": {
            "_model_module": "@jupyter-widgets/base",
            "_model_module_version": "1.2.0",
            "_model_name": "LayoutModel",
            "_view_count": null,
            "_view_module": "@jupyter-widgets/base",
            "_view_module_version": "1.2.0",
            "_view_name": "LayoutView",
            "align_content": null,
            "align_items": null,
            "align_self": null,
            "border": null,
            "bottom": null,
            "display": null,
            "flex": null,
            "flex_flow": null,
            "grid_area": null,
            "grid_auto_columns": null,
            "grid_auto_flow": null,
            "grid_auto_rows": null,
            "grid_column": null,
            "grid_gap": null,
            "grid_row": null,
            "grid_template_areas": null,
            "grid_template_columns": null,
            "grid_template_rows": null,
            "height": null,
            "justify_content": null,
            "justify_items": null,
            "left": null,
            "margin": null,
            "max_height": null,
            "max_width": null,
            "min_height": null,
            "min_width": null,
            "object_fit": null,
            "object_position": null,
            "order": null,
            "overflow": null,
            "overflow_x": null,
            "overflow_y": null,
            "padding": null,
            "right": null,
            "top": null,
            "visibility": null,
            "width": null
          }
        },
        "1379496d8fe148a9ac3f3dc3a0d7b6e4": {
          "model_module": "@jupyter-widgets/controls",
          "model_module_version": "1.5.0",
          "model_name": "VBoxModel",
          "state": {
            "_dom_classes": [],
            "_model_module": "@jupyter-widgets/controls",
            "_model_module_version": "1.5.0",
            "_model_name": "VBoxModel",
            "_view_count": null,
            "_view_module": "@jupyter-widgets/controls",
            "_view_module_version": "1.5.0",
            "_view_name": "VBoxView",
            "box_style": "",
            "children": [
              "IPY_MODEL_dd44cfceaf864c36986bfa9556a482f6",
              "IPY_MODEL_a2fd45e32326442d8b1e8d27e0836eec"
            ],
            "layout": "IPY_MODEL_27a0f603886945bab699f76db148b9fd"
          }
        },
        "154b64229e7d412c941fea573cff2e5d": {
          "model_module": "@jupyter-widgets/base",
          "model_module_version": "1.2.0",
          "model_name": "LayoutModel",
          "state": {
            "_model_module": "@jupyter-widgets/base",
            "_model_module_version": "1.2.0",
            "_model_name": "LayoutModel",
            "_view_count": null,
            "_view_module": "@jupyter-widgets/base",
            "_view_module_version": "1.2.0",
            "_view_name": "LayoutView",
            "align_content": null,
            "align_items": null,
            "align_self": null,
            "border": null,
            "bottom": null,
            "display": null,
            "flex": null,
            "flex_flow": null,
            "grid_area": null,
            "grid_auto_columns": null,
            "grid_auto_flow": null,
            "grid_auto_rows": null,
            "grid_column": null,
            "grid_gap": null,
            "grid_row": null,
            "grid_template_areas": null,
            "grid_template_columns": null,
            "grid_template_rows": null,
            "height": null,
            "justify_content": null,
            "justify_items": null,
            "left": null,
            "margin": null,
            "max_height": null,
            "max_width": null,
            "min_height": null,
            "min_width": null,
            "object_fit": null,
            "object_position": null,
            "order": null,
            "overflow": null,
            "overflow_x": null,
            "overflow_y": null,
            "padding": null,
            "right": null,
            "top": null,
            "visibility": null,
            "width": null
          }
        },
        "1841ddca530742c1b3c500f8cf2864ba": {
          "model_module": "@jupyter-widgets/controls",
          "model_module_version": "1.5.0",
          "model_name": "LabelModel",
          "state": {
            "_dom_classes": [],
            "_model_module": "@jupyter-widgets/controls",
            "_model_module_version": "1.5.0",
            "_model_name": "LabelModel",
            "_view_count": null,
            "_view_module": "@jupyter-widgets/controls",
            "_view_module_version": "1.5.0",
            "_view_name": "LabelView",
            "description": "",
            "description_tooltip": null,
            "layout": "IPY_MODEL_c286c6cca8ec493187aa16dc7e1888c1",
            "placeholder": "​",
            "style": "IPY_MODEL_f1cf0295122c48a381353d81004611cb",
            "value": " 0.01MB of 0.01MB uploaded (0.00MB deduped)\r"
          }
        },
        "190f969d9110497593c061d736828ab7": {
          "model_module": "@jupyter-widgets/controls",
          "model_module_version": "1.5.0",
          "model_name": "ProgressStyleModel",
          "state": {
            "_model_module": "@jupyter-widgets/controls",
            "_model_module_version": "1.5.0",
            "_model_name": "ProgressStyleModel",
            "_view_count": null,
            "_view_module": "@jupyter-widgets/base",
            "_view_module_version": "1.2.0",
            "_view_name": "StyleView",
            "bar_color": null,
            "description_width": ""
          }
        },
        "196489f1cced4ba98640dc49429911c1": {
          "model_module": "@jupyter-widgets/controls",
          "model_module_version": "1.5.0",
          "model_name": "DescriptionStyleModel",
          "state": {
            "_model_module": "@jupyter-widgets/controls",
            "_model_module_version": "1.5.0",
            "_model_name": "DescriptionStyleModel",
            "_view_count": null,
            "_view_module": "@jupyter-widgets/base",
            "_view_module_version": "1.2.0",
            "_view_name": "StyleView",
            "description_width": ""
          }
        },
        "1c82e43b7e6f473abc5da27e1b7ba149": {
          "model_module": "@jupyter-widgets/controls",
          "model_module_version": "1.5.0",
          "model_name": "VBoxModel",
          "state": {
            "_dom_classes": [],
            "_model_module": "@jupyter-widgets/controls",
            "_model_module_version": "1.5.0",
            "_model_name": "VBoxModel",
            "_view_count": null,
            "_view_module": "@jupyter-widgets/controls",
            "_view_module_version": "1.5.0",
            "_view_name": "VBoxView",
            "box_style": "",
            "children": [
              "IPY_MODEL_eed59190e5854a92b9ecf376e1c6613f",
              "IPY_MODEL_3cc286c0ab9c45a4a3744674f0331c27"
            ],
            "layout": "IPY_MODEL_4507a965dfb942f59ef6d42b76dec1db"
          }
        },
        "1e034739768a4302bbd8214681fdb897": {
          "model_module": "@jupyter-widgets/controls",
          "model_module_version": "1.5.0",
          "model_name": "DescriptionStyleModel",
          "state": {
            "_model_module": "@jupyter-widgets/controls",
            "_model_module_version": "1.5.0",
            "_model_name": "DescriptionStyleModel",
            "_view_count": null,
            "_view_module": "@jupyter-widgets/base",
            "_view_module_version": "1.2.0",
            "_view_name": "StyleView",
            "description_width": ""
          }
        },
        "1ea652267e7b40d094f54d77cafcbfc9": {
          "model_module": "@jupyter-widgets/base",
          "model_module_version": "1.2.0",
          "model_name": "LayoutModel",
          "state": {
            "_model_module": "@jupyter-widgets/base",
            "_model_module_version": "1.2.0",
            "_model_name": "LayoutModel",
            "_view_count": null,
            "_view_module": "@jupyter-widgets/base",
            "_view_module_version": "1.2.0",
            "_view_name": "LayoutView",
            "align_content": null,
            "align_items": null,
            "align_self": null,
            "border": null,
            "bottom": null,
            "display": null,
            "flex": null,
            "flex_flow": null,
            "grid_area": null,
            "grid_auto_columns": null,
            "grid_auto_flow": null,
            "grid_auto_rows": null,
            "grid_column": null,
            "grid_gap": null,
            "grid_row": null,
            "grid_template_areas": null,
            "grid_template_columns": null,
            "grid_template_rows": null,
            "height": null,
            "justify_content": null,
            "justify_items": null,
            "left": null,
            "margin": null,
            "max_height": null,
            "max_width": null,
            "min_height": null,
            "min_width": null,
            "object_fit": null,
            "object_position": null,
            "order": null,
            "overflow": null,
            "overflow_x": null,
            "overflow_y": null,
            "padding": null,
            "right": null,
            "top": null,
            "visibility": null,
            "width": null
          }
        },
        "1fd9b4cdb86047419b829de212ac0920": {
          "model_module": "@jupyter-widgets/controls",
          "model_module_version": "1.5.0",
          "model_name": "LabelModel",
          "state": {
            "_dom_classes": [],
            "_model_module": "@jupyter-widgets/controls",
            "_model_module_version": "1.5.0",
            "_model_name": "LabelModel",
            "_view_count": null,
            "_view_module": "@jupyter-widgets/controls",
            "_view_module_version": "1.5.0",
            "_view_name": "LabelView",
            "description": "",
            "description_tooltip": null,
            "layout": "IPY_MODEL_84cd6a9c7d954e7bb3ddb6ac0e9f0997",
            "placeholder": "​",
            "style": "IPY_MODEL_f1302451ebf94daa9d0d9eb8a068ea38",
            "value": " 0.01MB of 0.01MB uploaded (0.00MB deduped)\r"
          }
        },
        "2642428c97bb48b3b0f04b0164fc2699": {
          "model_module": "@jupyter-widgets/controls",
          "model_module_version": "1.5.0",
          "model_name": "FloatProgressModel",
          "state": {
            "_dom_classes": [],
            "_model_module": "@jupyter-widgets/controls",
            "_model_module_version": "1.5.0",
            "_model_name": "FloatProgressModel",
            "_view_count": null,
            "_view_module": "@jupyter-widgets/controls",
            "_view_module_version": "1.5.0",
            "_view_name": "ProgressView",
            "bar_style": "",
            "description": "",
            "description_tooltip": null,
            "layout": "IPY_MODEL_8a5c84efc96e4ef9bab075849c372476",
            "max": 1,
            "min": 0,
            "orientation": "horizontal",
            "style": "IPY_MODEL_f127abedf57c4526ad81ddca00b1a407",
            "value": 1
          }
        },
        "2670df3d536542dda6f48cf323421a38": {
          "model_module": "@jupyter-widgets/base",
          "model_module_version": "1.2.0",
          "model_name": "LayoutModel",
          "state": {
            "_model_module": "@jupyter-widgets/base",
            "_model_module_version": "1.2.0",
            "_model_name": "LayoutModel",
            "_view_count": null,
            "_view_module": "@jupyter-widgets/base",
            "_view_module_version": "1.2.0",
            "_view_name": "LayoutView",
            "align_content": null,
            "align_items": null,
            "align_self": null,
            "border": null,
            "bottom": null,
            "display": null,
            "flex": null,
            "flex_flow": null,
            "grid_area": null,
            "grid_auto_columns": null,
            "grid_auto_flow": null,
            "grid_auto_rows": null,
            "grid_column": null,
            "grid_gap": null,
            "grid_row": null,
            "grid_template_areas": null,
            "grid_template_columns": null,
            "grid_template_rows": null,
            "height": null,
            "justify_content": null,
            "justify_items": null,
            "left": null,
            "margin": null,
            "max_height": null,
            "max_width": null,
            "min_height": null,
            "min_width": null,
            "object_fit": null,
            "object_position": null,
            "order": null,
            "overflow": null,
            "overflow_x": null,
            "overflow_y": null,
            "padding": null,
            "right": null,
            "top": null,
            "visibility": null,
            "width": null
          }
        },
        "27a0f603886945bab699f76db148b9fd": {
          "model_module": "@jupyter-widgets/base",
          "model_module_version": "1.2.0",
          "model_name": "LayoutModel",
          "state": {
            "_model_module": "@jupyter-widgets/base",
            "_model_module_version": "1.2.0",
            "_model_name": "LayoutModel",
            "_view_count": null,
            "_view_module": "@jupyter-widgets/base",
            "_view_module_version": "1.2.0",
            "_view_name": "LayoutView",
            "align_content": null,
            "align_items": null,
            "align_self": null,
            "border": null,
            "bottom": null,
            "display": null,
            "flex": null,
            "flex_flow": null,
            "grid_area": null,
            "grid_auto_columns": null,
            "grid_auto_flow": null,
            "grid_auto_rows": null,
            "grid_column": null,
            "grid_gap": null,
            "grid_row": null,
            "grid_template_areas": null,
            "grid_template_columns": null,
            "grid_template_rows": null,
            "height": null,
            "justify_content": null,
            "justify_items": null,
            "left": null,
            "margin": null,
            "max_height": null,
            "max_width": null,
            "min_height": null,
            "min_width": null,
            "object_fit": null,
            "object_position": null,
            "order": null,
            "overflow": null,
            "overflow_x": null,
            "overflow_y": null,
            "padding": null,
            "right": null,
            "top": null,
            "visibility": null,
            "width": null
          }
        },
        "28262d5fe7cc49cbac371a61a6791267": {
          "model_module": "@jupyter-widgets/base",
          "model_module_version": "1.2.0",
          "model_name": "LayoutModel",
          "state": {
            "_model_module": "@jupyter-widgets/base",
            "_model_module_version": "1.2.0",
            "_model_name": "LayoutModel",
            "_view_count": null,
            "_view_module": "@jupyter-widgets/base",
            "_view_module_version": "1.2.0",
            "_view_name": "LayoutView",
            "align_content": null,
            "align_items": null,
            "align_self": null,
            "border": null,
            "bottom": null,
            "display": null,
            "flex": null,
            "flex_flow": null,
            "grid_area": null,
            "grid_auto_columns": null,
            "grid_auto_flow": null,
            "grid_auto_rows": null,
            "grid_column": null,
            "grid_gap": null,
            "grid_row": null,
            "grid_template_areas": null,
            "grid_template_columns": null,
            "grid_template_rows": null,
            "height": null,
            "justify_content": null,
            "justify_items": null,
            "left": null,
            "margin": null,
            "max_height": null,
            "max_width": null,
            "min_height": null,
            "min_width": null,
            "object_fit": null,
            "object_position": null,
            "order": null,
            "overflow": null,
            "overflow_x": null,
            "overflow_y": null,
            "padding": null,
            "right": null,
            "top": null,
            "visibility": null,
            "width": null
          }
        },
        "28309577885c42f58264041bedf3a965": {
          "model_module": "@jupyter-widgets/base",
          "model_module_version": "1.2.0",
          "model_name": "LayoutModel",
          "state": {
            "_model_module": "@jupyter-widgets/base",
            "_model_module_version": "1.2.0",
            "_model_name": "LayoutModel",
            "_view_count": null,
            "_view_module": "@jupyter-widgets/base",
            "_view_module_version": "1.2.0",
            "_view_name": "LayoutView",
            "align_content": null,
            "align_items": null,
            "align_self": null,
            "border": null,
            "bottom": null,
            "display": null,
            "flex": null,
            "flex_flow": null,
            "grid_area": null,
            "grid_auto_columns": null,
            "grid_auto_flow": null,
            "grid_auto_rows": null,
            "grid_column": null,
            "grid_gap": null,
            "grid_row": null,
            "grid_template_areas": null,
            "grid_template_columns": null,
            "grid_template_rows": null,
            "height": null,
            "justify_content": null,
            "justify_items": null,
            "left": null,
            "margin": null,
            "max_height": null,
            "max_width": null,
            "min_height": null,
            "min_width": null,
            "object_fit": null,
            "object_position": null,
            "order": null,
            "overflow": null,
            "overflow_x": null,
            "overflow_y": null,
            "padding": null,
            "right": null,
            "top": null,
            "visibility": null,
            "width": null
          }
        },
        "28505e3039e9410dbd686690a9807c9c": {
          "model_module": "@jupyter-widgets/controls",
          "model_module_version": "1.5.0",
          "model_name": "ProgressStyleModel",
          "state": {
            "_model_module": "@jupyter-widgets/controls",
            "_model_module_version": "1.5.0",
            "_model_name": "ProgressStyleModel",
            "_view_count": null,
            "_view_module": "@jupyter-widgets/base",
            "_view_module_version": "1.2.0",
            "_view_name": "StyleView",
            "bar_color": null,
            "description_width": ""
          }
        },
        "2ad2a6298b984c9baab9a9cf4682f14f": {
          "model_module": "@jupyter-widgets/base",
          "model_module_version": "1.2.0",
          "model_name": "LayoutModel",
          "state": {
            "_model_module": "@jupyter-widgets/base",
            "_model_module_version": "1.2.0",
            "_model_name": "LayoutModel",
            "_view_count": null,
            "_view_module": "@jupyter-widgets/base",
            "_view_module_version": "1.2.0",
            "_view_name": "LayoutView",
            "align_content": null,
            "align_items": null,
            "align_self": null,
            "border": null,
            "bottom": null,
            "display": null,
            "flex": null,
            "flex_flow": null,
            "grid_area": null,
            "grid_auto_columns": null,
            "grid_auto_flow": null,
            "grid_auto_rows": null,
            "grid_column": null,
            "grid_gap": null,
            "grid_row": null,
            "grid_template_areas": null,
            "grid_template_columns": null,
            "grid_template_rows": null,
            "height": null,
            "justify_content": null,
            "justify_items": null,
            "left": null,
            "margin": null,
            "max_height": null,
            "max_width": null,
            "min_height": null,
            "min_width": null,
            "object_fit": null,
            "object_position": null,
            "order": null,
            "overflow": null,
            "overflow_x": null,
            "overflow_y": null,
            "padding": null,
            "right": null,
            "top": null,
            "visibility": null,
            "width": null
          }
        },
        "2e3f7d85cb904816893f201a110ef72a": {
          "model_module": "@jupyter-widgets/controls",
          "model_module_version": "1.5.0",
          "model_name": "VBoxModel",
          "state": {
            "_dom_classes": [],
            "_model_module": "@jupyter-widgets/controls",
            "_model_module_version": "1.5.0",
            "_model_name": "VBoxModel",
            "_view_count": null,
            "_view_module": "@jupyter-widgets/controls",
            "_view_module_version": "1.5.0",
            "_view_name": "VBoxView",
            "box_style": "",
            "children": [
              "IPY_MODEL_d5cf2f3bf54b413b855be30c796cf611",
              "IPY_MODEL_3d0803756fb34fa48f21d3495c07e2d6"
            ],
            "layout": "IPY_MODEL_5e28b8eaf4aa4834aa3a7a51ff7468d9"
          }
        },
        "2f01ffd4d4804de6a5e8938fbb19d9d0": {
          "model_module": "@jupyter-widgets/controls",
          "model_module_version": "1.5.0",
          "model_name": "ProgressStyleModel",
          "state": {
            "_model_module": "@jupyter-widgets/controls",
            "_model_module_version": "1.5.0",
            "_model_name": "ProgressStyleModel",
            "_view_count": null,
            "_view_module": "@jupyter-widgets/base",
            "_view_module_version": "1.2.0",
            "_view_name": "StyleView",
            "bar_color": null,
            "description_width": ""
          }
        },
        "2f8347957b774e4ca74dde4d9a7de52f": {
          "model_module": "@jupyter-widgets/base",
          "model_module_version": "1.2.0",
          "model_name": "LayoutModel",
          "state": {
            "_model_module": "@jupyter-widgets/base",
            "_model_module_version": "1.2.0",
            "_model_name": "LayoutModel",
            "_view_count": null,
            "_view_module": "@jupyter-widgets/base",
            "_view_module_version": "1.2.0",
            "_view_name": "LayoutView",
            "align_content": null,
            "align_items": null,
            "align_self": null,
            "border": null,
            "bottom": null,
            "display": null,
            "flex": null,
            "flex_flow": null,
            "grid_area": null,
            "grid_auto_columns": null,
            "grid_auto_flow": null,
            "grid_auto_rows": null,
            "grid_column": null,
            "grid_gap": null,
            "grid_row": null,
            "grid_template_areas": null,
            "grid_template_columns": null,
            "grid_template_rows": null,
            "height": null,
            "justify_content": null,
            "justify_items": null,
            "left": null,
            "margin": null,
            "max_height": null,
            "max_width": null,
            "min_height": null,
            "min_width": null,
            "object_fit": null,
            "object_position": null,
            "order": null,
            "overflow": null,
            "overflow_x": null,
            "overflow_y": null,
            "padding": null,
            "right": null,
            "top": null,
            "visibility": null,
            "width": null
          }
        },
        "30a72d50678444fe9181333f5ef5e02c": {
          "model_module": "@jupyter-widgets/controls",
          "model_module_version": "1.5.0",
          "model_name": "VBoxModel",
          "state": {
            "_dom_classes": [],
            "_model_module": "@jupyter-widgets/controls",
            "_model_module_version": "1.5.0",
            "_model_name": "VBoxModel",
            "_view_count": null,
            "_view_module": "@jupyter-widgets/controls",
            "_view_module_version": "1.5.0",
            "_view_name": "VBoxView",
            "box_style": "",
            "children": [
              "IPY_MODEL_0e45c57a09e843c4ad6c32d48dba9899",
              "IPY_MODEL_c659c85f5fe44fb893522c0e84324719"
            ],
            "layout": "IPY_MODEL_cf4c73106da84c34a75fffbe71a82f7a"
          }
        },
        "3158d3307fca4477889a3d5da7471197": {
          "model_module": "@jupyter-widgets/controls",
          "model_module_version": "1.5.0",
          "model_name": "DescriptionStyleModel",
          "state": {
            "_model_module": "@jupyter-widgets/controls",
            "_model_module_version": "1.5.0",
            "_model_name": "DescriptionStyleModel",
            "_view_count": null,
            "_view_module": "@jupyter-widgets/base",
            "_view_module_version": "1.2.0",
            "_view_name": "StyleView",
            "description_width": ""
          }
        },
        "321afade268149ef9db0a5111a485233": {
          "model_module": "@jupyter-widgets/controls",
          "model_module_version": "1.5.0",
          "model_name": "VBoxModel",
          "state": {
            "_dom_classes": [],
            "_model_module": "@jupyter-widgets/controls",
            "_model_module_version": "1.5.0",
            "_model_name": "VBoxModel",
            "_view_count": null,
            "_view_module": "@jupyter-widgets/controls",
            "_view_module_version": "1.5.0",
            "_view_name": "VBoxView",
            "box_style": "",
            "children": [
              "IPY_MODEL_3bf0d4141ee843eaa4cbd1072a517677",
              "IPY_MODEL_9275804eded74b1c91a3f4377c6962cd"
            ],
            "layout": "IPY_MODEL_cf1ccffbc0bc43c1bf4f43b29cc77f63"
          }
        },
        "32f096aaac764928a7bcd609f4436a34": {
          "model_module": "@jupyter-widgets/base",
          "model_module_version": "1.2.0",
          "model_name": "LayoutModel",
          "state": {
            "_model_module": "@jupyter-widgets/base",
            "_model_module_version": "1.2.0",
            "_model_name": "LayoutModel",
            "_view_count": null,
            "_view_module": "@jupyter-widgets/base",
            "_view_module_version": "1.2.0",
            "_view_name": "LayoutView",
            "align_content": null,
            "align_items": null,
            "align_self": null,
            "border": null,
            "bottom": null,
            "display": null,
            "flex": null,
            "flex_flow": null,
            "grid_area": null,
            "grid_auto_columns": null,
            "grid_auto_flow": null,
            "grid_auto_rows": null,
            "grid_column": null,
            "grid_gap": null,
            "grid_row": null,
            "grid_template_areas": null,
            "grid_template_columns": null,
            "grid_template_rows": null,
            "height": null,
            "justify_content": null,
            "justify_items": null,
            "left": null,
            "margin": null,
            "max_height": null,
            "max_width": null,
            "min_height": null,
            "min_width": null,
            "object_fit": null,
            "object_position": null,
            "order": null,
            "overflow": null,
            "overflow_x": null,
            "overflow_y": null,
            "padding": null,
            "right": null,
            "top": null,
            "visibility": null,
            "width": null
          }
        },
        "34bfced7189f4df186aaf137e9b0b68c": {
          "model_module": "@jupyter-widgets/controls",
          "model_module_version": "1.5.0",
          "model_name": "ProgressStyleModel",
          "state": {
            "_model_module": "@jupyter-widgets/controls",
            "_model_module_version": "1.5.0",
            "_model_name": "ProgressStyleModel",
            "_view_count": null,
            "_view_module": "@jupyter-widgets/base",
            "_view_module_version": "1.2.0",
            "_view_name": "StyleView",
            "bar_color": null,
            "description_width": ""
          }
        },
        "34f81c3501074318ae2807a0997d47dc": {
          "model_module": "@jupyter-widgets/controls",
          "model_module_version": "1.5.0",
          "model_name": "ProgressStyleModel",
          "state": {
            "_model_module": "@jupyter-widgets/controls",
            "_model_module_version": "1.5.0",
            "_model_name": "ProgressStyleModel",
            "_view_count": null,
            "_view_module": "@jupyter-widgets/base",
            "_view_module_version": "1.2.0",
            "_view_name": "StyleView",
            "bar_color": null,
            "description_width": ""
          }
        },
        "36a0b1e30cdf4f92958fe2741488fc81": {
          "model_module": "@jupyter-widgets/controls",
          "model_module_version": "1.5.0",
          "model_name": "ProgressStyleModel",
          "state": {
            "_model_module": "@jupyter-widgets/controls",
            "_model_module_version": "1.5.0",
            "_model_name": "ProgressStyleModel",
            "_view_count": null,
            "_view_module": "@jupyter-widgets/base",
            "_view_module_version": "1.2.0",
            "_view_name": "StyleView",
            "bar_color": null,
            "description_width": ""
          }
        },
        "3783146894d6480d8ee557b4f79b9919": {
          "model_module": "@jupyter-widgets/base",
          "model_module_version": "1.2.0",
          "model_name": "LayoutModel",
          "state": {
            "_model_module": "@jupyter-widgets/base",
            "_model_module_version": "1.2.0",
            "_model_name": "LayoutModel",
            "_view_count": null,
            "_view_module": "@jupyter-widgets/base",
            "_view_module_version": "1.2.0",
            "_view_name": "LayoutView",
            "align_content": null,
            "align_items": null,
            "align_self": null,
            "border": null,
            "bottom": null,
            "display": null,
            "flex": null,
            "flex_flow": null,
            "grid_area": null,
            "grid_auto_columns": null,
            "grid_auto_flow": null,
            "grid_auto_rows": null,
            "grid_column": null,
            "grid_gap": null,
            "grid_row": null,
            "grid_template_areas": null,
            "grid_template_columns": null,
            "grid_template_rows": null,
            "height": null,
            "justify_content": null,
            "justify_items": null,
            "left": null,
            "margin": null,
            "max_height": null,
            "max_width": null,
            "min_height": null,
            "min_width": null,
            "object_fit": null,
            "object_position": null,
            "order": null,
            "overflow": null,
            "overflow_x": null,
            "overflow_y": null,
            "padding": null,
            "right": null,
            "top": null,
            "visibility": null,
            "width": null
          }
        },
        "37fa6242aead41b5b35671edb48a116e": {
          "model_module": "@jupyter-widgets/controls",
          "model_module_version": "1.5.0",
          "model_name": "FloatProgressModel",
          "state": {
            "_dom_classes": [],
            "_model_module": "@jupyter-widgets/controls",
            "_model_module_version": "1.5.0",
            "_model_name": "FloatProgressModel",
            "_view_count": null,
            "_view_module": "@jupyter-widgets/controls",
            "_view_module_version": "1.5.0",
            "_view_name": "ProgressView",
            "bar_style": "",
            "description": "",
            "description_tooltip": null,
            "layout": "IPY_MODEL_f0eb473347724bdda18462a5023f387a",
            "max": 1,
            "min": 0,
            "orientation": "horizontal",
            "style": "IPY_MODEL_d61a4d8715784cf3bdca2de891234fb6",
            "value": 1
          }
        },
        "3bf0d4141ee843eaa4cbd1072a517677": {
          "model_module": "@jupyter-widgets/controls",
          "model_module_version": "1.5.0",
          "model_name": "LabelModel",
          "state": {
            "_dom_classes": [],
            "_model_module": "@jupyter-widgets/controls",
            "_model_module_version": "1.5.0",
            "_model_name": "LabelModel",
            "_view_count": null,
            "_view_module": "@jupyter-widgets/controls",
            "_view_module_version": "1.5.0",
            "_view_name": "LabelView",
            "description": "",
            "description_tooltip": null,
            "layout": "IPY_MODEL_bd854b769ea34148a9b8be3c9041c4b5",
            "placeholder": "​",
            "style": "IPY_MODEL_7ac0b43e6c7d4e19acdd3a250e84b16e",
            "value": " 0.01MB of 0.01MB uploaded (0.00MB deduped)\r"
          }
        },
        "3cc286c0ab9c45a4a3744674f0331c27": {
          "model_module": "@jupyter-widgets/controls",
          "model_module_version": "1.5.0",
          "model_name": "FloatProgressModel",
          "state": {
            "_dom_classes": [],
            "_model_module": "@jupyter-widgets/controls",
            "_model_module_version": "1.5.0",
            "_model_name": "FloatProgressModel",
            "_view_count": null,
            "_view_module": "@jupyter-widgets/controls",
            "_view_module_version": "1.5.0",
            "_view_name": "ProgressView",
            "bar_style": "",
            "description": "",
            "description_tooltip": null,
            "layout": "IPY_MODEL_6d45ca78d8a14632a048e6a7c1fb3376",
            "max": 1,
            "min": 0,
            "orientation": "horizontal",
            "style": "IPY_MODEL_46860513f41e407d8f3815430b6b8394",
            "value": 1
          }
        },
        "3d0803756fb34fa48f21d3495c07e2d6": {
          "model_module": "@jupyter-widgets/controls",
          "model_module_version": "1.5.0",
          "model_name": "FloatProgressModel",
          "state": {
            "_dom_classes": [],
            "_model_module": "@jupyter-widgets/controls",
            "_model_module_version": "1.5.0",
            "_model_name": "FloatProgressModel",
            "_view_count": null,
            "_view_module": "@jupyter-widgets/controls",
            "_view_module_version": "1.5.0",
            "_view_name": "ProgressView",
            "bar_style": "",
            "description": "",
            "description_tooltip": null,
            "layout": "IPY_MODEL_bd5db879c954471e97e0f9e6cf560669",
            "max": 1,
            "min": 0,
            "orientation": "horizontal",
            "style": "IPY_MODEL_d57649ed0999438b9b4e632ed380048f",
            "value": 1
          }
        },
        "3df949c7802f4b599f160d7f7db96d12": {
          "model_module": "@jupyter-widgets/controls",
          "model_module_version": "1.5.0",
          "model_name": "FloatProgressModel",
          "state": {
            "_dom_classes": [],
            "_model_module": "@jupyter-widgets/controls",
            "_model_module_version": "1.5.0",
            "_model_name": "FloatProgressModel",
            "_view_count": null,
            "_view_module": "@jupyter-widgets/controls",
            "_view_module_version": "1.5.0",
            "_view_name": "ProgressView",
            "bar_style": "",
            "description": "",
            "description_tooltip": null,
            "layout": "IPY_MODEL_28262d5fe7cc49cbac371a61a6791267",
            "max": 1,
            "min": 0,
            "orientation": "horizontal",
            "style": "IPY_MODEL_9cf27be1edba48088e82043360753513",
            "value": 1
          }
        },
        "3f601b5c2bbc44a7ad34491ad7f7e315": {
          "model_module": "@jupyter-widgets/controls",
          "model_module_version": "1.5.0",
          "model_name": "VBoxModel",
          "state": {
            "_dom_classes": [],
            "_model_module": "@jupyter-widgets/controls",
            "_model_module_version": "1.5.0",
            "_model_name": "VBoxModel",
            "_view_count": null,
            "_view_module": "@jupyter-widgets/controls",
            "_view_module_version": "1.5.0",
            "_view_name": "VBoxView",
            "box_style": "",
            "children": [
              "IPY_MODEL_1841ddca530742c1b3c500f8cf2864ba",
              "IPY_MODEL_9f6a4fd5e9474e59834396e1ec815580"
            ],
            "layout": "IPY_MODEL_cade0d0bbca446f09125d9d9a8f6a45c"
          }
        },
        "444fdd6ff0784e74a27dbb2f1ea9b492": {
          "model_module": "@jupyter-widgets/controls",
          "model_module_version": "1.5.0",
          "model_name": "VBoxModel",
          "state": {
            "_dom_classes": [],
            "_model_module": "@jupyter-widgets/controls",
            "_model_module_version": "1.5.0",
            "_model_name": "VBoxModel",
            "_view_count": null,
            "_view_module": "@jupyter-widgets/controls",
            "_view_module_version": "1.5.0",
            "_view_name": "VBoxView",
            "box_style": "",
            "children": [
              "IPY_MODEL_e8503310e7034c79808b9a4cb6a4c9b8",
              "IPY_MODEL_6dd76dc07bc143c7bd22e7356e889628"
            ],
            "layout": "IPY_MODEL_d7027aaa7aaf4f29a296c14f3bc2ce10"
          }
        },
        "4507a965dfb942f59ef6d42b76dec1db": {
          "model_module": "@jupyter-widgets/base",
          "model_module_version": "1.2.0",
          "model_name": "LayoutModel",
          "state": {
            "_model_module": "@jupyter-widgets/base",
            "_model_module_version": "1.2.0",
            "_model_name": "LayoutModel",
            "_view_count": null,
            "_view_module": "@jupyter-widgets/base",
            "_view_module_version": "1.2.0",
            "_view_name": "LayoutView",
            "align_content": null,
            "align_items": null,
            "align_self": null,
            "border": null,
            "bottom": null,
            "display": null,
            "flex": null,
            "flex_flow": null,
            "grid_area": null,
            "grid_auto_columns": null,
            "grid_auto_flow": null,
            "grid_auto_rows": null,
            "grid_column": null,
            "grid_gap": null,
            "grid_row": null,
            "grid_template_areas": null,
            "grid_template_columns": null,
            "grid_template_rows": null,
            "height": null,
            "justify_content": null,
            "justify_items": null,
            "left": null,
            "margin": null,
            "max_height": null,
            "max_width": null,
            "min_height": null,
            "min_width": null,
            "object_fit": null,
            "object_position": null,
            "order": null,
            "overflow": null,
            "overflow_x": null,
            "overflow_y": null,
            "padding": null,
            "right": null,
            "top": null,
            "visibility": null,
            "width": null
          }
        },
        "46860513f41e407d8f3815430b6b8394": {
          "model_module": "@jupyter-widgets/controls",
          "model_module_version": "1.5.0",
          "model_name": "ProgressStyleModel",
          "state": {
            "_model_module": "@jupyter-widgets/controls",
            "_model_module_version": "1.5.0",
            "_model_name": "ProgressStyleModel",
            "_view_count": null,
            "_view_module": "@jupyter-widgets/base",
            "_view_module_version": "1.2.0",
            "_view_name": "StyleView",
            "bar_color": null,
            "description_width": ""
          }
        },
        "4728e90cb8c546c08f89a2ec156b8c50": {
          "model_module": "@jupyter-widgets/controls",
          "model_module_version": "1.5.0",
          "model_name": "LabelModel",
          "state": {
            "_dom_classes": [],
            "_model_module": "@jupyter-widgets/controls",
            "_model_module_version": "1.5.0",
            "_model_name": "LabelModel",
            "_view_count": null,
            "_view_module": "@jupyter-widgets/controls",
            "_view_module_version": "1.5.0",
            "_view_name": "LabelView",
            "description": "",
            "description_tooltip": null,
            "layout": "IPY_MODEL_5459425b13624cc7bbc52967c294d873",
            "placeholder": "​",
            "style": "IPY_MODEL_196489f1cced4ba98640dc49429911c1",
            "value": " 0.01MB of 0.01MB uploaded (0.00MB deduped)\r"
          }
        },
        "485bc7f0667a41d1aa007ab585cfc7af": {
          "model_module": "@jupyter-widgets/base",
          "model_module_version": "1.2.0",
          "model_name": "LayoutModel",
          "state": {
            "_model_module": "@jupyter-widgets/base",
            "_model_module_version": "1.2.0",
            "_model_name": "LayoutModel",
            "_view_count": null,
            "_view_module": "@jupyter-widgets/base",
            "_view_module_version": "1.2.0",
            "_view_name": "LayoutView",
            "align_content": null,
            "align_items": null,
            "align_self": null,
            "border": null,
            "bottom": null,
            "display": null,
            "flex": null,
            "flex_flow": null,
            "grid_area": null,
            "grid_auto_columns": null,
            "grid_auto_flow": null,
            "grid_auto_rows": null,
            "grid_column": null,
            "grid_gap": null,
            "grid_row": null,
            "grid_template_areas": null,
            "grid_template_columns": null,
            "grid_template_rows": null,
            "height": null,
            "justify_content": null,
            "justify_items": null,
            "left": null,
            "margin": null,
            "max_height": null,
            "max_width": null,
            "min_height": null,
            "min_width": null,
            "object_fit": null,
            "object_position": null,
            "order": null,
            "overflow": null,
            "overflow_x": null,
            "overflow_y": null,
            "padding": null,
            "right": null,
            "top": null,
            "visibility": null,
            "width": null
          }
        },
        "487633d9bd0c4e0ab0a95f52bd41e617": {
          "model_module": "@jupyter-widgets/base",
          "model_module_version": "1.2.0",
          "model_name": "LayoutModel",
          "state": {
            "_model_module": "@jupyter-widgets/base",
            "_model_module_version": "1.2.0",
            "_model_name": "LayoutModel",
            "_view_count": null,
            "_view_module": "@jupyter-widgets/base",
            "_view_module_version": "1.2.0",
            "_view_name": "LayoutView",
            "align_content": null,
            "align_items": null,
            "align_self": null,
            "border": null,
            "bottom": null,
            "display": null,
            "flex": null,
            "flex_flow": null,
            "grid_area": null,
            "grid_auto_columns": null,
            "grid_auto_flow": null,
            "grid_auto_rows": null,
            "grid_column": null,
            "grid_gap": null,
            "grid_row": null,
            "grid_template_areas": null,
            "grid_template_columns": null,
            "grid_template_rows": null,
            "height": null,
            "justify_content": null,
            "justify_items": null,
            "left": null,
            "margin": null,
            "max_height": null,
            "max_width": null,
            "min_height": null,
            "min_width": null,
            "object_fit": null,
            "object_position": null,
            "order": null,
            "overflow": null,
            "overflow_x": null,
            "overflow_y": null,
            "padding": null,
            "right": null,
            "top": null,
            "visibility": null,
            "width": null
          }
        },
        "4ee109aed7c2476ea167cede7e6b8e5f": {
          "model_module": "@jupyter-widgets/controls",
          "model_module_version": "1.5.0",
          "model_name": "VBoxModel",
          "state": {
            "_dom_classes": [],
            "_model_module": "@jupyter-widgets/controls",
            "_model_module_version": "1.5.0",
            "_model_name": "VBoxModel",
            "_view_count": null,
            "_view_module": "@jupyter-widgets/controls",
            "_view_module_version": "1.5.0",
            "_view_name": "VBoxView",
            "box_style": "",
            "children": [
              "IPY_MODEL_ceaafd58722945168b705bc5c6a0a253",
              "IPY_MODEL_c76a5ca080aa4d899e4a7fdf36f769dd"
            ],
            "layout": "IPY_MODEL_6992906d94d5480aa67c78a5362e4c89"
          }
        },
        "51808d9e94c34f038d15b726252370b9": {
          "model_module": "@jupyter-widgets/controls",
          "model_module_version": "1.5.0",
          "model_name": "LabelModel",
          "state": {
            "_dom_classes": [],
            "_model_module": "@jupyter-widgets/controls",
            "_model_module_version": "1.5.0",
            "_model_name": "LabelModel",
            "_view_count": null,
            "_view_module": "@jupyter-widgets/controls",
            "_view_module_version": "1.5.0",
            "_view_name": "LabelView",
            "description": "",
            "description_tooltip": null,
            "layout": "IPY_MODEL_d7dd39625173480ba917075f8ab41776",
            "placeholder": "​",
            "style": "IPY_MODEL_07b42427dffb4dd995221945fed4b092",
            "value": " 0.01MB of 0.01MB uploaded (0.00MB deduped)\r"
          }
        },
        "52b8daec332344038476b3546ef85ade": {
          "model_module": "@jupyter-widgets/controls",
          "model_module_version": "1.5.0",
          "model_name": "ProgressStyleModel",
          "state": {
            "_model_module": "@jupyter-widgets/controls",
            "_model_module_version": "1.5.0",
            "_model_name": "ProgressStyleModel",
            "_view_count": null,
            "_view_module": "@jupyter-widgets/base",
            "_view_module_version": "1.2.0",
            "_view_name": "StyleView",
            "bar_color": null,
            "description_width": ""
          }
        },
        "541fcbd8691241a3aba04790ed9e4e14": {
          "model_module": "@jupyter-widgets/controls",
          "model_module_version": "1.5.0",
          "model_name": "VBoxModel",
          "state": {
            "_dom_classes": [],
            "_model_module": "@jupyter-widgets/controls",
            "_model_module_version": "1.5.0",
            "_model_name": "VBoxModel",
            "_view_count": null,
            "_view_module": "@jupyter-widgets/controls",
            "_view_module_version": "1.5.0",
            "_view_name": "VBoxView",
            "box_style": "",
            "children": [
              "IPY_MODEL_890a6bb149714234bd5d9262f6f6f503",
              "IPY_MODEL_5f416993da2945b2843a716a86b160fc"
            ],
            "layout": "IPY_MODEL_97d1a2d3190f409e92d2a922f7d3a720"
          }
        },
        "5459425b13624cc7bbc52967c294d873": {
          "model_module": "@jupyter-widgets/base",
          "model_module_version": "1.2.0",
          "model_name": "LayoutModel",
          "state": {
            "_model_module": "@jupyter-widgets/base",
            "_model_module_version": "1.2.0",
            "_model_name": "LayoutModel",
            "_view_count": null,
            "_view_module": "@jupyter-widgets/base",
            "_view_module_version": "1.2.0",
            "_view_name": "LayoutView",
            "align_content": null,
            "align_items": null,
            "align_self": null,
            "border": null,
            "bottom": null,
            "display": null,
            "flex": null,
            "flex_flow": null,
            "grid_area": null,
            "grid_auto_columns": null,
            "grid_auto_flow": null,
            "grid_auto_rows": null,
            "grid_column": null,
            "grid_gap": null,
            "grid_row": null,
            "grid_template_areas": null,
            "grid_template_columns": null,
            "grid_template_rows": null,
            "height": null,
            "justify_content": null,
            "justify_items": null,
            "left": null,
            "margin": null,
            "max_height": null,
            "max_width": null,
            "min_height": null,
            "min_width": null,
            "object_fit": null,
            "object_position": null,
            "order": null,
            "overflow": null,
            "overflow_x": null,
            "overflow_y": null,
            "padding": null,
            "right": null,
            "top": null,
            "visibility": null,
            "width": null
          }
        },
        "5c26a34e360c46b28820d6858bc92aa6": {
          "model_module": "@jupyter-widgets/controls",
          "model_module_version": "1.5.0",
          "model_name": "DescriptionStyleModel",
          "state": {
            "_model_module": "@jupyter-widgets/controls",
            "_model_module_version": "1.5.0",
            "_model_name": "DescriptionStyleModel",
            "_view_count": null,
            "_view_module": "@jupyter-widgets/base",
            "_view_module_version": "1.2.0",
            "_view_name": "StyleView",
            "description_width": ""
          }
        },
        "5c598aac5bf04016b5f92c72a8a4b5ff": {
          "model_module": "@jupyter-widgets/controls",
          "model_module_version": "1.5.0",
          "model_name": "VBoxModel",
          "state": {
            "_dom_classes": [],
            "_model_module": "@jupyter-widgets/controls",
            "_model_module_version": "1.5.0",
            "_model_name": "VBoxModel",
            "_view_count": null,
            "_view_module": "@jupyter-widgets/controls",
            "_view_module_version": "1.5.0",
            "_view_name": "VBoxView",
            "box_style": "",
            "children": [
              "IPY_MODEL_51808d9e94c34f038d15b726252370b9",
              "IPY_MODEL_2642428c97bb48b3b0f04b0164fc2699"
            ],
            "layout": "IPY_MODEL_cf78a59bb6f44c40a1b62fef464b66cb"
          }
        },
        "5e08f9a21c744982be3bd122fab2599f": {
          "model_module": "@jupyter-widgets/base",
          "model_module_version": "1.2.0",
          "model_name": "LayoutModel",
          "state": {
            "_model_module": "@jupyter-widgets/base",
            "_model_module_version": "1.2.0",
            "_model_name": "LayoutModel",
            "_view_count": null,
            "_view_module": "@jupyter-widgets/base",
            "_view_module_version": "1.2.0",
            "_view_name": "LayoutView",
            "align_content": null,
            "align_items": null,
            "align_self": null,
            "border": null,
            "bottom": null,
            "display": null,
            "flex": null,
            "flex_flow": null,
            "grid_area": null,
            "grid_auto_columns": null,
            "grid_auto_flow": null,
            "grid_auto_rows": null,
            "grid_column": null,
            "grid_gap": null,
            "grid_row": null,
            "grid_template_areas": null,
            "grid_template_columns": null,
            "grid_template_rows": null,
            "height": null,
            "justify_content": null,
            "justify_items": null,
            "left": null,
            "margin": null,
            "max_height": null,
            "max_width": null,
            "min_height": null,
            "min_width": null,
            "object_fit": null,
            "object_position": null,
            "order": null,
            "overflow": null,
            "overflow_x": null,
            "overflow_y": null,
            "padding": null,
            "right": null,
            "top": null,
            "visibility": null,
            "width": null
          }
        },
        "5e28b8eaf4aa4834aa3a7a51ff7468d9": {
          "model_module": "@jupyter-widgets/base",
          "model_module_version": "1.2.0",
          "model_name": "LayoutModel",
          "state": {
            "_model_module": "@jupyter-widgets/base",
            "_model_module_version": "1.2.0",
            "_model_name": "LayoutModel",
            "_view_count": null,
            "_view_module": "@jupyter-widgets/base",
            "_view_module_version": "1.2.0",
            "_view_name": "LayoutView",
            "align_content": null,
            "align_items": null,
            "align_self": null,
            "border": null,
            "bottom": null,
            "display": null,
            "flex": null,
            "flex_flow": null,
            "grid_area": null,
            "grid_auto_columns": null,
            "grid_auto_flow": null,
            "grid_auto_rows": null,
            "grid_column": null,
            "grid_gap": null,
            "grid_row": null,
            "grid_template_areas": null,
            "grid_template_columns": null,
            "grid_template_rows": null,
            "height": null,
            "justify_content": null,
            "justify_items": null,
            "left": null,
            "margin": null,
            "max_height": null,
            "max_width": null,
            "min_height": null,
            "min_width": null,
            "object_fit": null,
            "object_position": null,
            "order": null,
            "overflow": null,
            "overflow_x": null,
            "overflow_y": null,
            "padding": null,
            "right": null,
            "top": null,
            "visibility": null,
            "width": null
          }
        },
        "5e77470109164cf1b7699dea99c989ee": {
          "model_module": "@jupyter-widgets/controls",
          "model_module_version": "1.5.0",
          "model_name": "VBoxModel",
          "state": {
            "_dom_classes": [],
            "_model_module": "@jupyter-widgets/controls",
            "_model_module_version": "1.5.0",
            "_model_name": "VBoxModel",
            "_view_count": null,
            "_view_module": "@jupyter-widgets/controls",
            "_view_module_version": "1.5.0",
            "_view_name": "VBoxView",
            "box_style": "",
            "children": [
              "IPY_MODEL_1fd9b4cdb86047419b829de212ac0920",
              "IPY_MODEL_fc7bcbd4f812490994713e0a186f6953"
            ],
            "layout": "IPY_MODEL_bcc03c347b864be988af86406e112e5d"
          }
        },
        "5eb52d7232534f6e84445f59ffd95c4b": {
          "model_module": "@jupyter-widgets/controls",
          "model_module_version": "1.5.0",
          "model_name": "DescriptionStyleModel",
          "state": {
            "_model_module": "@jupyter-widgets/controls",
            "_model_module_version": "1.5.0",
            "_model_name": "DescriptionStyleModel",
            "_view_count": null,
            "_view_module": "@jupyter-widgets/base",
            "_view_module_version": "1.2.0",
            "_view_name": "StyleView",
            "description_width": ""
          }
        },
        "5f416993da2945b2843a716a86b160fc": {
          "model_module": "@jupyter-widgets/controls",
          "model_module_version": "1.5.0",
          "model_name": "FloatProgressModel",
          "state": {
            "_dom_classes": [],
            "_model_module": "@jupyter-widgets/controls",
            "_model_module_version": "1.5.0",
            "_model_name": "FloatProgressModel",
            "_view_count": null,
            "_view_module": "@jupyter-widgets/controls",
            "_view_module_version": "1.5.0",
            "_view_name": "ProgressView",
            "bar_style": "",
            "description": "",
            "description_tooltip": null,
            "layout": "IPY_MODEL_7c42de4f52de492fbccd7ee2e31429fc",
            "max": 1,
            "min": 0,
            "orientation": "horizontal",
            "style": "IPY_MODEL_28505e3039e9410dbd686690a9807c9c",
            "value": 1
          }
        },
        "5f8a47d0cecb4bb0aefc5b4b782a5736": {
          "model_module": "@jupyter-widgets/base",
          "model_module_version": "1.2.0",
          "model_name": "LayoutModel",
          "state": {
            "_model_module": "@jupyter-widgets/base",
            "_model_module_version": "1.2.0",
            "_model_name": "LayoutModel",
            "_view_count": null,
            "_view_module": "@jupyter-widgets/base",
            "_view_module_version": "1.2.0",
            "_view_name": "LayoutView",
            "align_content": null,
            "align_items": null,
            "align_self": null,
            "border": null,
            "bottom": null,
            "display": null,
            "flex": null,
            "flex_flow": null,
            "grid_area": null,
            "grid_auto_columns": null,
            "grid_auto_flow": null,
            "grid_auto_rows": null,
            "grid_column": null,
            "grid_gap": null,
            "grid_row": null,
            "grid_template_areas": null,
            "grid_template_columns": null,
            "grid_template_rows": null,
            "height": null,
            "justify_content": null,
            "justify_items": null,
            "left": null,
            "margin": null,
            "max_height": null,
            "max_width": null,
            "min_height": null,
            "min_width": null,
            "object_fit": null,
            "object_position": null,
            "order": null,
            "overflow": null,
            "overflow_x": null,
            "overflow_y": null,
            "padding": null,
            "right": null,
            "top": null,
            "visibility": null,
            "width": null
          }
        },
        "637aa22d8a9542a787477b87e29ba6ed": {
          "model_module": "@jupyter-widgets/controls",
          "model_module_version": "1.5.0",
          "model_name": "ProgressStyleModel",
          "state": {
            "_model_module": "@jupyter-widgets/controls",
            "_model_module_version": "1.5.0",
            "_model_name": "ProgressStyleModel",
            "_view_count": null,
            "_view_module": "@jupyter-widgets/base",
            "_view_module_version": "1.2.0",
            "_view_name": "StyleView",
            "bar_color": null,
            "description_width": ""
          }
        },
        "6485db1e99874cf29ed295ef67ec7cb8": {
          "model_module": "@jupyter-widgets/controls",
          "model_module_version": "1.5.0",
          "model_name": "FloatProgressModel",
          "state": {
            "_dom_classes": [],
            "_model_module": "@jupyter-widgets/controls",
            "_model_module_version": "1.5.0",
            "_model_name": "FloatProgressModel",
            "_view_count": null,
            "_view_module": "@jupyter-widgets/controls",
            "_view_module_version": "1.5.0",
            "_view_name": "ProgressView",
            "bar_style": "",
            "description": "",
            "description_tooltip": null,
            "layout": "IPY_MODEL_28309577885c42f58264041bedf3a965",
            "max": 1,
            "min": 0,
            "orientation": "horizontal",
            "style": "IPY_MODEL_34bfced7189f4df186aaf137e9b0b68c",
            "value": 1
          }
        },
        "6992906d94d5480aa67c78a5362e4c89": {
          "model_module": "@jupyter-widgets/base",
          "model_module_version": "1.2.0",
          "model_name": "LayoutModel",
          "state": {
            "_model_module": "@jupyter-widgets/base",
            "_model_module_version": "1.2.0",
            "_model_name": "LayoutModel",
            "_view_count": null,
            "_view_module": "@jupyter-widgets/base",
            "_view_module_version": "1.2.0",
            "_view_name": "LayoutView",
            "align_content": null,
            "align_items": null,
            "align_self": null,
            "border": null,
            "bottom": null,
            "display": null,
            "flex": null,
            "flex_flow": null,
            "grid_area": null,
            "grid_auto_columns": null,
            "grid_auto_flow": null,
            "grid_auto_rows": null,
            "grid_column": null,
            "grid_gap": null,
            "grid_row": null,
            "grid_template_areas": null,
            "grid_template_columns": null,
            "grid_template_rows": null,
            "height": null,
            "justify_content": null,
            "justify_items": null,
            "left": null,
            "margin": null,
            "max_height": null,
            "max_width": null,
            "min_height": null,
            "min_width": null,
            "object_fit": null,
            "object_position": null,
            "order": null,
            "overflow": null,
            "overflow_x": null,
            "overflow_y": null,
            "padding": null,
            "right": null,
            "top": null,
            "visibility": null,
            "width": null
          }
        },
        "69b299e02a6f4ea3b15ec43219c90dbc": {
          "model_module": "@jupyter-widgets/controls",
          "model_module_version": "1.5.0",
          "model_name": "FloatProgressModel",
          "state": {
            "_dom_classes": [],
            "_model_module": "@jupyter-widgets/controls",
            "_model_module_version": "1.5.0",
            "_model_name": "FloatProgressModel",
            "_view_count": null,
            "_view_module": "@jupyter-widgets/controls",
            "_view_module_version": "1.5.0",
            "_view_name": "ProgressView",
            "bar_style": "",
            "description": "",
            "description_tooltip": null,
            "layout": "IPY_MODEL_1009b5ed208e4389b344e836356413c8",
            "max": 1,
            "min": 0,
            "orientation": "horizontal",
            "style": "IPY_MODEL_0d095d7ea1c24c7e8433f438f08c5874",
            "value": 1
          }
        },
        "6a3ec4d103614b02978a54547a0242fd": {
          "model_module": "@jupyter-widgets/controls",
          "model_module_version": "1.5.0",
          "model_name": "ProgressStyleModel",
          "state": {
            "_model_module": "@jupyter-widgets/controls",
            "_model_module_version": "1.5.0",
            "_model_name": "ProgressStyleModel",
            "_view_count": null,
            "_view_module": "@jupyter-widgets/base",
            "_view_module_version": "1.2.0",
            "_view_name": "StyleView",
            "bar_color": null,
            "description_width": ""
          }
        },
        "6d45ca78d8a14632a048e6a7c1fb3376": {
          "model_module": "@jupyter-widgets/base",
          "model_module_version": "1.2.0",
          "model_name": "LayoutModel",
          "state": {
            "_model_module": "@jupyter-widgets/base",
            "_model_module_version": "1.2.0",
            "_model_name": "LayoutModel",
            "_view_count": null,
            "_view_module": "@jupyter-widgets/base",
            "_view_module_version": "1.2.0",
            "_view_name": "LayoutView",
            "align_content": null,
            "align_items": null,
            "align_self": null,
            "border": null,
            "bottom": null,
            "display": null,
            "flex": null,
            "flex_flow": null,
            "grid_area": null,
            "grid_auto_columns": null,
            "grid_auto_flow": null,
            "grid_auto_rows": null,
            "grid_column": null,
            "grid_gap": null,
            "grid_row": null,
            "grid_template_areas": null,
            "grid_template_columns": null,
            "grid_template_rows": null,
            "height": null,
            "justify_content": null,
            "justify_items": null,
            "left": null,
            "margin": null,
            "max_height": null,
            "max_width": null,
            "min_height": null,
            "min_width": null,
            "object_fit": null,
            "object_position": null,
            "order": null,
            "overflow": null,
            "overflow_x": null,
            "overflow_y": null,
            "padding": null,
            "right": null,
            "top": null,
            "visibility": null,
            "width": null
          }
        },
        "6dd76dc07bc143c7bd22e7356e889628": {
          "model_module": "@jupyter-widgets/controls",
          "model_module_version": "1.5.0",
          "model_name": "FloatProgressModel",
          "state": {
            "_dom_classes": [],
            "_model_module": "@jupyter-widgets/controls",
            "_model_module_version": "1.5.0",
            "_model_name": "FloatProgressModel",
            "_view_count": null,
            "_view_module": "@jupyter-widgets/controls",
            "_view_module_version": "1.5.0",
            "_view_name": "ProgressView",
            "bar_style": "",
            "description": "",
            "description_tooltip": null,
            "layout": "IPY_MODEL_cdd08ac15115454ba65cd97f8159ed96",
            "max": 1,
            "min": 0,
            "orientation": "horizontal",
            "style": "IPY_MODEL_36a0b1e30cdf4f92958fe2741488fc81",
            "value": 1
          }
        },
        "6f7b15daf5574e1c9484f0312c49716d": {
          "model_module": "@jupyter-widgets/base",
          "model_module_version": "1.2.0",
          "model_name": "LayoutModel",
          "state": {
            "_model_module": "@jupyter-widgets/base",
            "_model_module_version": "1.2.0",
            "_model_name": "LayoutModel",
            "_view_count": null,
            "_view_module": "@jupyter-widgets/base",
            "_view_module_version": "1.2.0",
            "_view_name": "LayoutView",
            "align_content": null,
            "align_items": null,
            "align_self": null,
            "border": null,
            "bottom": null,
            "display": null,
            "flex": null,
            "flex_flow": null,
            "grid_area": null,
            "grid_auto_columns": null,
            "grid_auto_flow": null,
            "grid_auto_rows": null,
            "grid_column": null,
            "grid_gap": null,
            "grid_row": null,
            "grid_template_areas": null,
            "grid_template_columns": null,
            "grid_template_rows": null,
            "height": null,
            "justify_content": null,
            "justify_items": null,
            "left": null,
            "margin": null,
            "max_height": null,
            "max_width": null,
            "min_height": null,
            "min_width": null,
            "object_fit": null,
            "object_position": null,
            "order": null,
            "overflow": null,
            "overflow_x": null,
            "overflow_y": null,
            "padding": null,
            "right": null,
            "top": null,
            "visibility": null,
            "width": null
          }
        },
        "749f9819ca5d42ed9122b226740dd571": {
          "model_module": "@jupyter-widgets/controls",
          "model_module_version": "1.5.0",
          "model_name": "LabelModel",
          "state": {
            "_dom_classes": [],
            "_model_module": "@jupyter-widgets/controls",
            "_model_module_version": "1.5.0",
            "_model_name": "LabelModel",
            "_view_count": null,
            "_view_module": "@jupyter-widgets/controls",
            "_view_module_version": "1.5.0",
            "_view_name": "LabelView",
            "description": "",
            "description_tooltip": null,
            "layout": "IPY_MODEL_6f7b15daf5574e1c9484f0312c49716d",
            "placeholder": "​",
            "style": "IPY_MODEL_5c26a34e360c46b28820d6858bc92aa6",
            "value": " 0.01MB of 0.01MB uploaded (0.00MB deduped)\r"
          }
        },
        "74dc63d3dacd4897a7f461d8a47ea15a": {
          "model_module": "@jupyter-widgets/controls",
          "model_module_version": "1.5.0",
          "model_name": "DescriptionStyleModel",
          "state": {
            "_model_module": "@jupyter-widgets/controls",
            "_model_module_version": "1.5.0",
            "_model_name": "DescriptionStyleModel",
            "_view_count": null,
            "_view_module": "@jupyter-widgets/base",
            "_view_module_version": "1.2.0",
            "_view_name": "StyleView",
            "description_width": ""
          }
        },
        "76a90093d69e4bcebb4a739b911fbb19": {
          "model_module": "@jupyter-widgets/controls",
          "model_module_version": "1.5.0",
          "model_name": "DescriptionStyleModel",
          "state": {
            "_model_module": "@jupyter-widgets/controls",
            "_model_module_version": "1.5.0",
            "_model_name": "DescriptionStyleModel",
            "_view_count": null,
            "_view_module": "@jupyter-widgets/base",
            "_view_module_version": "1.2.0",
            "_view_name": "StyleView",
            "description_width": ""
          }
        },
        "7a2e606cc796405984833ac8e87a81e4": {
          "model_module": "@jupyter-widgets/controls",
          "model_module_version": "1.5.0",
          "model_name": "FloatProgressModel",
          "state": {
            "_dom_classes": [],
            "_model_module": "@jupyter-widgets/controls",
            "_model_module_version": "1.5.0",
            "_model_name": "FloatProgressModel",
            "_view_count": null,
            "_view_module": "@jupyter-widgets/controls",
            "_view_module_version": "1.5.0",
            "_view_name": "ProgressView",
            "bar_style": "",
            "description": "",
            "description_tooltip": null,
            "layout": "IPY_MODEL_9465ea5fb20c45d989cdf7b432f396a7",
            "max": 1,
            "min": 0,
            "orientation": "horizontal",
            "style": "IPY_MODEL_d30c9fe65f144e3b84883994166c133d",
            "value": 1
          }
        },
        "7ac0b43e6c7d4e19acdd3a250e84b16e": {
          "model_module": "@jupyter-widgets/controls",
          "model_module_version": "1.5.0",
          "model_name": "DescriptionStyleModel",
          "state": {
            "_model_module": "@jupyter-widgets/controls",
            "_model_module_version": "1.5.0",
            "_model_name": "DescriptionStyleModel",
            "_view_count": null,
            "_view_module": "@jupyter-widgets/base",
            "_view_module_version": "1.2.0",
            "_view_name": "StyleView",
            "description_width": ""
          }
        },
        "7b34d35a0e424ea4a9b14fa9fc814ce3": {
          "model_module": "@jupyter-widgets/base",
          "model_module_version": "1.2.0",
          "model_name": "LayoutModel",
          "state": {
            "_model_module": "@jupyter-widgets/base",
            "_model_module_version": "1.2.0",
            "_model_name": "LayoutModel",
            "_view_count": null,
            "_view_module": "@jupyter-widgets/base",
            "_view_module_version": "1.2.0",
            "_view_name": "LayoutView",
            "align_content": null,
            "align_items": null,
            "align_self": null,
            "border": null,
            "bottom": null,
            "display": null,
            "flex": null,
            "flex_flow": null,
            "grid_area": null,
            "grid_auto_columns": null,
            "grid_auto_flow": null,
            "grid_auto_rows": null,
            "grid_column": null,
            "grid_gap": null,
            "grid_row": null,
            "grid_template_areas": null,
            "grid_template_columns": null,
            "grid_template_rows": null,
            "height": null,
            "justify_content": null,
            "justify_items": null,
            "left": null,
            "margin": null,
            "max_height": null,
            "max_width": null,
            "min_height": null,
            "min_width": null,
            "object_fit": null,
            "object_position": null,
            "order": null,
            "overflow": null,
            "overflow_x": null,
            "overflow_y": null,
            "padding": null,
            "right": null,
            "top": null,
            "visibility": null,
            "width": null
          }
        },
        "7c42de4f52de492fbccd7ee2e31429fc": {
          "model_module": "@jupyter-widgets/base",
          "model_module_version": "1.2.0",
          "model_name": "LayoutModel",
          "state": {
            "_model_module": "@jupyter-widgets/base",
            "_model_module_version": "1.2.0",
            "_model_name": "LayoutModel",
            "_view_count": null,
            "_view_module": "@jupyter-widgets/base",
            "_view_module_version": "1.2.0",
            "_view_name": "LayoutView",
            "align_content": null,
            "align_items": null,
            "align_self": null,
            "border": null,
            "bottom": null,
            "display": null,
            "flex": null,
            "flex_flow": null,
            "grid_area": null,
            "grid_auto_columns": null,
            "grid_auto_flow": null,
            "grid_auto_rows": null,
            "grid_column": null,
            "grid_gap": null,
            "grid_row": null,
            "grid_template_areas": null,
            "grid_template_columns": null,
            "grid_template_rows": null,
            "height": null,
            "justify_content": null,
            "justify_items": null,
            "left": null,
            "margin": null,
            "max_height": null,
            "max_width": null,
            "min_height": null,
            "min_width": null,
            "object_fit": null,
            "object_position": null,
            "order": null,
            "overflow": null,
            "overflow_x": null,
            "overflow_y": null,
            "padding": null,
            "right": null,
            "top": null,
            "visibility": null,
            "width": null
          }
        },
        "811da1a75a8d4e1cb5f32b1ebe31193c": {
          "model_module": "@jupyter-widgets/controls",
          "model_module_version": "1.5.0",
          "model_name": "VBoxModel",
          "state": {
            "_dom_classes": [],
            "_model_module": "@jupyter-widgets/controls",
            "_model_module_version": "1.5.0",
            "_model_name": "VBoxModel",
            "_view_count": null,
            "_view_module": "@jupyter-widgets/controls",
            "_view_module_version": "1.5.0",
            "_view_name": "VBoxView",
            "box_style": "",
            "children": [
              "IPY_MODEL_749f9819ca5d42ed9122b226740dd571",
              "IPY_MODEL_8f90e9d957aa4988a75f21ed5997b5f5"
            ],
            "layout": "IPY_MODEL_1ea652267e7b40d094f54d77cafcbfc9"
          }
        },
        "812907d06b824006bf04727249021f81": {
          "model_module": "@jupyter-widgets/controls",
          "model_module_version": "1.5.0",
          "model_name": "LabelModel",
          "state": {
            "_dom_classes": [],
            "_model_module": "@jupyter-widgets/controls",
            "_model_module_version": "1.5.0",
            "_model_name": "LabelModel",
            "_view_count": null,
            "_view_module": "@jupyter-widgets/controls",
            "_view_module_version": "1.5.0",
            "_view_name": "LabelView",
            "description": "",
            "description_tooltip": null,
            "layout": "IPY_MODEL_d0ac3a01fad648f08cf0d11677c08495",
            "placeholder": "​",
            "style": "IPY_MODEL_76a90093d69e4bcebb4a739b911fbb19",
            "value": " 0.01MB of 0.01MB uploaded (0.00MB deduped)\r"
          }
        },
        "81f98ca5458a48b89046fbc9c26b89fe": {
          "model_module": "@jupyter-widgets/base",
          "model_module_version": "1.2.0",
          "model_name": "LayoutModel",
          "state": {
            "_model_module": "@jupyter-widgets/base",
            "_model_module_version": "1.2.0",
            "_model_name": "LayoutModel",
            "_view_count": null,
            "_view_module": "@jupyter-widgets/base",
            "_view_module_version": "1.2.0",
            "_view_name": "LayoutView",
            "align_content": null,
            "align_items": null,
            "align_self": null,
            "border": null,
            "bottom": null,
            "display": null,
            "flex": null,
            "flex_flow": null,
            "grid_area": null,
            "grid_auto_columns": null,
            "grid_auto_flow": null,
            "grid_auto_rows": null,
            "grid_column": null,
            "grid_gap": null,
            "grid_row": null,
            "grid_template_areas": null,
            "grid_template_columns": null,
            "grid_template_rows": null,
            "height": null,
            "justify_content": null,
            "justify_items": null,
            "left": null,
            "margin": null,
            "max_height": null,
            "max_width": null,
            "min_height": null,
            "min_width": null,
            "object_fit": null,
            "object_position": null,
            "order": null,
            "overflow": null,
            "overflow_x": null,
            "overflow_y": null,
            "padding": null,
            "right": null,
            "top": null,
            "visibility": null,
            "width": null
          }
        },
        "84cd6a9c7d954e7bb3ddb6ac0e9f0997": {
          "model_module": "@jupyter-widgets/base",
          "model_module_version": "1.2.0",
          "model_name": "LayoutModel",
          "state": {
            "_model_module": "@jupyter-widgets/base",
            "_model_module_version": "1.2.0",
            "_model_name": "LayoutModel",
            "_view_count": null,
            "_view_module": "@jupyter-widgets/base",
            "_view_module_version": "1.2.0",
            "_view_name": "LayoutView",
            "align_content": null,
            "align_items": null,
            "align_self": null,
            "border": null,
            "bottom": null,
            "display": null,
            "flex": null,
            "flex_flow": null,
            "grid_area": null,
            "grid_auto_columns": null,
            "grid_auto_flow": null,
            "grid_auto_rows": null,
            "grid_column": null,
            "grid_gap": null,
            "grid_row": null,
            "grid_template_areas": null,
            "grid_template_columns": null,
            "grid_template_rows": null,
            "height": null,
            "justify_content": null,
            "justify_items": null,
            "left": null,
            "margin": null,
            "max_height": null,
            "max_width": null,
            "min_height": null,
            "min_width": null,
            "object_fit": null,
            "object_position": null,
            "order": null,
            "overflow": null,
            "overflow_x": null,
            "overflow_y": null,
            "padding": null,
            "right": null,
            "top": null,
            "visibility": null,
            "width": null
          }
        },
        "890a6bb149714234bd5d9262f6f6f503": {
          "model_module": "@jupyter-widgets/controls",
          "model_module_version": "1.5.0",
          "model_name": "LabelModel",
          "state": {
            "_dom_classes": [],
            "_model_module": "@jupyter-widgets/controls",
            "_model_module_version": "1.5.0",
            "_model_name": "LabelModel",
            "_view_count": null,
            "_view_module": "@jupyter-widgets/controls",
            "_view_module_version": "1.5.0",
            "_view_name": "LabelView",
            "description": "",
            "description_tooltip": null,
            "layout": "IPY_MODEL_d6759736884a44de86c94570c9491ba9",
            "placeholder": "​",
            "style": "IPY_MODEL_8b61493ba83c4832baf1fe9c8d1717ef",
            "value": " 0.01MB of 0.01MB uploaded (0.00MB deduped)\r"
          }
        },
        "8a5c84efc96e4ef9bab075849c372476": {
          "model_module": "@jupyter-widgets/base",
          "model_module_version": "1.2.0",
          "model_name": "LayoutModel",
          "state": {
            "_model_module": "@jupyter-widgets/base",
            "_model_module_version": "1.2.0",
            "_model_name": "LayoutModel",
            "_view_count": null,
            "_view_module": "@jupyter-widgets/base",
            "_view_module_version": "1.2.0",
            "_view_name": "LayoutView",
            "align_content": null,
            "align_items": null,
            "align_self": null,
            "border": null,
            "bottom": null,
            "display": null,
            "flex": null,
            "flex_flow": null,
            "grid_area": null,
            "grid_auto_columns": null,
            "grid_auto_flow": null,
            "grid_auto_rows": null,
            "grid_column": null,
            "grid_gap": null,
            "grid_row": null,
            "grid_template_areas": null,
            "grid_template_columns": null,
            "grid_template_rows": null,
            "height": null,
            "justify_content": null,
            "justify_items": null,
            "left": null,
            "margin": null,
            "max_height": null,
            "max_width": null,
            "min_height": null,
            "min_width": null,
            "object_fit": null,
            "object_position": null,
            "order": null,
            "overflow": null,
            "overflow_x": null,
            "overflow_y": null,
            "padding": null,
            "right": null,
            "top": null,
            "visibility": null,
            "width": null
          }
        },
        "8b61493ba83c4832baf1fe9c8d1717ef": {
          "model_module": "@jupyter-widgets/controls",
          "model_module_version": "1.5.0",
          "model_name": "DescriptionStyleModel",
          "state": {
            "_model_module": "@jupyter-widgets/controls",
            "_model_module_version": "1.5.0",
            "_model_name": "DescriptionStyleModel",
            "_view_count": null,
            "_view_module": "@jupyter-widgets/base",
            "_view_module_version": "1.2.0",
            "_view_name": "StyleView",
            "description_width": ""
          }
        },
        "8c246928ca7e43a49d77a2e2a761e42b": {
          "model_module": "@jupyter-widgets/controls",
          "model_module_version": "1.5.0",
          "model_name": "DescriptionStyleModel",
          "state": {
            "_model_module": "@jupyter-widgets/controls",
            "_model_module_version": "1.5.0",
            "_model_name": "DescriptionStyleModel",
            "_view_count": null,
            "_view_module": "@jupyter-widgets/base",
            "_view_module_version": "1.2.0",
            "_view_name": "StyleView",
            "description_width": ""
          }
        },
        "8e0b16be41ea4d7f84470d752fc0323d": {
          "model_module": "@jupyter-widgets/base",
          "model_module_version": "1.2.0",
          "model_name": "LayoutModel",
          "state": {
            "_model_module": "@jupyter-widgets/base",
            "_model_module_version": "1.2.0",
            "_model_name": "LayoutModel",
            "_view_count": null,
            "_view_module": "@jupyter-widgets/base",
            "_view_module_version": "1.2.0",
            "_view_name": "LayoutView",
            "align_content": null,
            "align_items": null,
            "align_self": null,
            "border": null,
            "bottom": null,
            "display": null,
            "flex": null,
            "flex_flow": null,
            "grid_area": null,
            "grid_auto_columns": null,
            "grid_auto_flow": null,
            "grid_auto_rows": null,
            "grid_column": null,
            "grid_gap": null,
            "grid_row": null,
            "grid_template_areas": null,
            "grid_template_columns": null,
            "grid_template_rows": null,
            "height": null,
            "justify_content": null,
            "justify_items": null,
            "left": null,
            "margin": null,
            "max_height": null,
            "max_width": null,
            "min_height": null,
            "min_width": null,
            "object_fit": null,
            "object_position": null,
            "order": null,
            "overflow": null,
            "overflow_x": null,
            "overflow_y": null,
            "padding": null,
            "right": null,
            "top": null,
            "visibility": null,
            "width": null
          }
        },
        "8f90e9d957aa4988a75f21ed5997b5f5": {
          "model_module": "@jupyter-widgets/controls",
          "model_module_version": "1.5.0",
          "model_name": "FloatProgressModel",
          "state": {
            "_dom_classes": [],
            "_model_module": "@jupyter-widgets/controls",
            "_model_module_version": "1.5.0",
            "_model_name": "FloatProgressModel",
            "_view_count": null,
            "_view_module": "@jupyter-widgets/controls",
            "_view_module_version": "1.5.0",
            "_view_name": "ProgressView",
            "bar_style": "",
            "description": "",
            "description_tooltip": null,
            "layout": "IPY_MODEL_ea885453a8f74b4b89167a2562dda959",
            "max": 1,
            "min": 0,
            "orientation": "horizontal",
            "style": "IPY_MODEL_637aa22d8a9542a787477b87e29ba6ed",
            "value": 1
          }
        },
        "915b38d310114cfc9107f2b159a3f5bc": {
          "model_module": "@jupyter-widgets/controls",
          "model_module_version": "1.5.0",
          "model_name": "LabelModel",
          "state": {
            "_dom_classes": [],
            "_model_module": "@jupyter-widgets/controls",
            "_model_module_version": "1.5.0",
            "_model_name": "LabelModel",
            "_view_count": null,
            "_view_module": "@jupyter-widgets/controls",
            "_view_module_version": "1.5.0",
            "_view_name": "LabelView",
            "description": "",
            "description_tooltip": null,
            "layout": "IPY_MODEL_9defb03b4f6a4998beea5275bdc4203e",
            "placeholder": "​",
            "style": "IPY_MODEL_da8ad3e8007f49f2bb9c99f51e2cc117",
            "value": " 0.01MB of 0.01MB uploaded (0.00MB deduped)\r"
          }
        },
        "9275804eded74b1c91a3f4377c6962cd": {
          "model_module": "@jupyter-widgets/controls",
          "model_module_version": "1.5.0",
          "model_name": "FloatProgressModel",
          "state": {
            "_dom_classes": [],
            "_model_module": "@jupyter-widgets/controls",
            "_model_module_version": "1.5.0",
            "_model_name": "FloatProgressModel",
            "_view_count": null,
            "_view_module": "@jupyter-widgets/controls",
            "_view_module_version": "1.5.0",
            "_view_name": "ProgressView",
            "bar_style": "",
            "description": "",
            "description_tooltip": null,
            "layout": "IPY_MODEL_1026c7d8674e439b91231a758ccaf2f5",
            "max": 1,
            "min": 0,
            "orientation": "horizontal",
            "style": "IPY_MODEL_d02c8dc393c14a4a924c9c45082ed7f2",
            "value": 1
          }
        },
        "9465ea5fb20c45d989cdf7b432f396a7": {
          "model_module": "@jupyter-widgets/base",
          "model_module_version": "1.2.0",
          "model_name": "LayoutModel",
          "state": {
            "_model_module": "@jupyter-widgets/base",
            "_model_module_version": "1.2.0",
            "_model_name": "LayoutModel",
            "_view_count": null,
            "_view_module": "@jupyter-widgets/base",
            "_view_module_version": "1.2.0",
            "_view_name": "LayoutView",
            "align_content": null,
            "align_items": null,
            "align_self": null,
            "border": null,
            "bottom": null,
            "display": null,
            "flex": null,
            "flex_flow": null,
            "grid_area": null,
            "grid_auto_columns": null,
            "grid_auto_flow": null,
            "grid_auto_rows": null,
            "grid_column": null,
            "grid_gap": null,
            "grid_row": null,
            "grid_template_areas": null,
            "grid_template_columns": null,
            "grid_template_rows": null,
            "height": null,
            "justify_content": null,
            "justify_items": null,
            "left": null,
            "margin": null,
            "max_height": null,
            "max_width": null,
            "min_height": null,
            "min_width": null,
            "object_fit": null,
            "object_position": null,
            "order": null,
            "overflow": null,
            "overflow_x": null,
            "overflow_y": null,
            "padding": null,
            "right": null,
            "top": null,
            "visibility": null,
            "width": null
          }
        },
        "94e199e0073945de91d46712a824acfb": {
          "model_module": "@jupyter-widgets/controls",
          "model_module_version": "1.5.0",
          "model_name": "VBoxModel",
          "state": {
            "_dom_classes": [],
            "_model_module": "@jupyter-widgets/controls",
            "_model_module_version": "1.5.0",
            "_model_name": "VBoxModel",
            "_view_count": null,
            "_view_module": "@jupyter-widgets/controls",
            "_view_module_version": "1.5.0",
            "_view_name": "VBoxView",
            "box_style": "",
            "children": [
              "IPY_MODEL_0d4521708ab1496cb6b69abe0d09cd07",
              "IPY_MODEL_3df949c7802f4b599f160d7f7db96d12"
            ],
            "layout": "IPY_MODEL_3783146894d6480d8ee557b4f79b9919"
          }
        },
        "97c42841361940d8a30b0688a62ff7e1": {
          "model_module": "@jupyter-widgets/controls",
          "model_module_version": "1.5.0",
          "model_name": "VBoxModel",
          "state": {
            "_dom_classes": [],
            "_model_module": "@jupyter-widgets/controls",
            "_model_module_version": "1.5.0",
            "_model_name": "VBoxModel",
            "_view_count": null,
            "_view_module": "@jupyter-widgets/controls",
            "_view_module_version": "1.5.0",
            "_view_name": "VBoxView",
            "box_style": "",
            "children": [
              "IPY_MODEL_915b38d310114cfc9107f2b159a3f5bc",
              "IPY_MODEL_69b299e02a6f4ea3b15ec43219c90dbc"
            ],
            "layout": "IPY_MODEL_2ad2a6298b984c9baab9a9cf4682f14f"
          }
        },
        "97d1a2d3190f409e92d2a922f7d3a720": {
          "model_module": "@jupyter-widgets/base",
          "model_module_version": "1.2.0",
          "model_name": "LayoutModel",
          "state": {
            "_model_module": "@jupyter-widgets/base",
            "_model_module_version": "1.2.0",
            "_model_name": "LayoutModel",
            "_view_count": null,
            "_view_module": "@jupyter-widgets/base",
            "_view_module_version": "1.2.0",
            "_view_name": "LayoutView",
            "align_content": null,
            "align_items": null,
            "align_self": null,
            "border": null,
            "bottom": null,
            "display": null,
            "flex": null,
            "flex_flow": null,
            "grid_area": null,
            "grid_auto_columns": null,
            "grid_auto_flow": null,
            "grid_auto_rows": null,
            "grid_column": null,
            "grid_gap": null,
            "grid_row": null,
            "grid_template_areas": null,
            "grid_template_columns": null,
            "grid_template_rows": null,
            "height": null,
            "justify_content": null,
            "justify_items": null,
            "left": null,
            "margin": null,
            "max_height": null,
            "max_width": null,
            "min_height": null,
            "min_width": null,
            "object_fit": null,
            "object_position": null,
            "order": null,
            "overflow": null,
            "overflow_x": null,
            "overflow_y": null,
            "padding": null,
            "right": null,
            "top": null,
            "visibility": null,
            "width": null
          }
        },
        "97daa61689ac4a069108c1b5b7faa836": {
          "model_module": "@jupyter-widgets/controls",
          "model_module_version": "1.5.0",
          "model_name": "VBoxModel",
          "state": {
            "_dom_classes": [],
            "_model_module": "@jupyter-widgets/controls",
            "_model_module_version": "1.5.0",
            "_model_name": "VBoxModel",
            "_view_count": null,
            "_view_module": "@jupyter-widgets/controls",
            "_view_module_version": "1.5.0",
            "_view_name": "VBoxView",
            "box_style": "",
            "children": [
              "IPY_MODEL_0f9d73d4f58949cdbfaea687699fbe45",
              "IPY_MODEL_37fa6242aead41b5b35671edb48a116e"
            ],
            "layout": "IPY_MODEL_c0a49ebf4bce4d43b6772ebf78ed6fc0"
          }
        },
        "97f687f108b94c319709beff6f6ec3fb": {
          "model_module": "@jupyter-widgets/controls",
          "model_module_version": "1.5.0",
          "model_name": "VBoxModel",
          "state": {
            "_dom_classes": [],
            "_model_module": "@jupyter-widgets/controls",
            "_model_module_version": "1.5.0",
            "_model_name": "VBoxModel",
            "_view_count": null,
            "_view_module": "@jupyter-widgets/controls",
            "_view_module_version": "1.5.0",
            "_view_name": "VBoxView",
            "box_style": "",
            "children": [
              "IPY_MODEL_812907d06b824006bf04727249021f81",
              "IPY_MODEL_ffc2c088d7014421933970b384d0daaf"
            ],
            "layout": "IPY_MODEL_0789b4e407e04d859aa48d475721e4f5"
          }
        },
        "9cf27be1edba48088e82043360753513": {
          "model_module": "@jupyter-widgets/controls",
          "model_module_version": "1.5.0",
          "model_name": "ProgressStyleModel",
          "state": {
            "_model_module": "@jupyter-widgets/controls",
            "_model_module_version": "1.5.0",
            "_model_name": "ProgressStyleModel",
            "_view_count": null,
            "_view_module": "@jupyter-widgets/base",
            "_view_module_version": "1.2.0",
            "_view_name": "StyleView",
            "bar_color": null,
            "description_width": ""
          }
        },
        "9defb03b4f6a4998beea5275bdc4203e": {
          "model_module": "@jupyter-widgets/base",
          "model_module_version": "1.2.0",
          "model_name": "LayoutModel",
          "state": {
            "_model_module": "@jupyter-widgets/base",
            "_model_module_version": "1.2.0",
            "_model_name": "LayoutModel",
            "_view_count": null,
            "_view_module": "@jupyter-widgets/base",
            "_view_module_version": "1.2.0",
            "_view_name": "LayoutView",
            "align_content": null,
            "align_items": null,
            "align_self": null,
            "border": null,
            "bottom": null,
            "display": null,
            "flex": null,
            "flex_flow": null,
            "grid_area": null,
            "grid_auto_columns": null,
            "grid_auto_flow": null,
            "grid_auto_rows": null,
            "grid_column": null,
            "grid_gap": null,
            "grid_row": null,
            "grid_template_areas": null,
            "grid_template_columns": null,
            "grid_template_rows": null,
            "height": null,
            "justify_content": null,
            "justify_items": null,
            "left": null,
            "margin": null,
            "max_height": null,
            "max_width": null,
            "min_height": null,
            "min_width": null,
            "object_fit": null,
            "object_position": null,
            "order": null,
            "overflow": null,
            "overflow_x": null,
            "overflow_y": null,
            "padding": null,
            "right": null,
            "top": null,
            "visibility": null,
            "width": null
          }
        },
        "9f6a4fd5e9474e59834396e1ec815580": {
          "model_module": "@jupyter-widgets/controls",
          "model_module_version": "1.5.0",
          "model_name": "FloatProgressModel",
          "state": {
            "_dom_classes": [],
            "_model_module": "@jupyter-widgets/controls",
            "_model_module_version": "1.5.0",
            "_model_name": "FloatProgressModel",
            "_view_count": null,
            "_view_module": "@jupyter-widgets/controls",
            "_view_module_version": "1.5.0",
            "_view_name": "ProgressView",
            "bar_style": "",
            "description": "",
            "description_tooltip": null,
            "layout": "IPY_MODEL_00f445b6a3964b82947d90d908882d95",
            "max": 1,
            "min": 0,
            "orientation": "horizontal",
            "style": "IPY_MODEL_2f01ffd4d4804de6a5e8938fbb19d9d0",
            "value": 1
          }
        },
        "a18e4a894e03441799c71a32d8dacb8e": {
          "model_module": "@jupyter-widgets/controls",
          "model_module_version": "1.5.0",
          "model_name": "LabelModel",
          "state": {
            "_dom_classes": [],
            "_model_module": "@jupyter-widgets/controls",
            "_model_module_version": "1.5.0",
            "_model_name": "LabelModel",
            "_view_count": null,
            "_view_module": "@jupyter-widgets/controls",
            "_view_module_version": "1.5.0",
            "_view_name": "LabelView",
            "description": "",
            "description_tooltip": null,
            "layout": "IPY_MODEL_f4d74922d39048739a30c8c9dd2a84fb",
            "placeholder": "​",
            "style": "IPY_MODEL_1e034739768a4302bbd8214681fdb897",
            "value": " 0.01MB of 0.01MB uploaded (0.00MB deduped)\r"
          }
        },
        "a2fd45e32326442d8b1e8d27e0836eec": {
          "model_module": "@jupyter-widgets/controls",
          "model_module_version": "1.5.0",
          "model_name": "FloatProgressModel",
          "state": {
            "_dom_classes": [],
            "_model_module": "@jupyter-widgets/controls",
            "_model_module_version": "1.5.0",
            "_model_name": "FloatProgressModel",
            "_view_count": null,
            "_view_module": "@jupyter-widgets/controls",
            "_view_module_version": "1.5.0",
            "_view_name": "ProgressView",
            "bar_style": "",
            "description": "",
            "description_tooltip": null,
            "layout": "IPY_MODEL_487633d9bd0c4e0ab0a95f52bd41e617",
            "max": 1,
            "min": 0,
            "orientation": "horizontal",
            "style": "IPY_MODEL_34f81c3501074318ae2807a0997d47dc",
            "value": 1
          }
        },
        "a50d40eba6034a56b3121526a11525a9": {
          "model_module": "@jupyter-widgets/base",
          "model_module_version": "1.2.0",
          "model_name": "LayoutModel",
          "state": {
            "_model_module": "@jupyter-widgets/base",
            "_model_module_version": "1.2.0",
            "_model_name": "LayoutModel",
            "_view_count": null,
            "_view_module": "@jupyter-widgets/base",
            "_view_module_version": "1.2.0",
            "_view_name": "LayoutView",
            "align_content": null,
            "align_items": null,
            "align_self": null,
            "border": null,
            "bottom": null,
            "display": null,
            "flex": null,
            "flex_flow": null,
            "grid_area": null,
            "grid_auto_columns": null,
            "grid_auto_flow": null,
            "grid_auto_rows": null,
            "grid_column": null,
            "grid_gap": null,
            "grid_row": null,
            "grid_template_areas": null,
            "grid_template_columns": null,
            "grid_template_rows": null,
            "height": null,
            "justify_content": null,
            "justify_items": null,
            "left": null,
            "margin": null,
            "max_height": null,
            "max_width": null,
            "min_height": null,
            "min_width": null,
            "object_fit": null,
            "object_position": null,
            "order": null,
            "overflow": null,
            "overflow_x": null,
            "overflow_y": null,
            "padding": null,
            "right": null,
            "top": null,
            "visibility": null,
            "width": null
          }
        },
        "b08feb8ad4564751baa8b16cf664bcfe": {
          "model_module": "@jupyter-widgets/controls",
          "model_module_version": "1.5.0",
          "model_name": "LabelModel",
          "state": {
            "_dom_classes": [],
            "_model_module": "@jupyter-widgets/controls",
            "_model_module_version": "1.5.0",
            "_model_name": "LabelModel",
            "_view_count": null,
            "_view_module": "@jupyter-widgets/controls",
            "_view_module_version": "1.5.0",
            "_view_name": "LabelView",
            "description": "",
            "description_tooltip": null,
            "layout": "IPY_MODEL_154b64229e7d412c941fea573cff2e5d",
            "placeholder": "​",
            "style": "IPY_MODEL_8c246928ca7e43a49d77a2e2a761e42b",
            "value": " 0.01MB of 0.01MB uploaded (0.00MB deduped)\r"
          }
        },
        "b24714a2961d40e89640c925bdaf63eb": {
          "model_module": "@jupyter-widgets/controls",
          "model_module_version": "1.5.0",
          "model_name": "VBoxModel",
          "state": {
            "_dom_classes": [],
            "_model_module": "@jupyter-widgets/controls",
            "_model_module_version": "1.5.0",
            "_model_name": "VBoxModel",
            "_view_count": null,
            "_view_module": "@jupyter-widgets/controls",
            "_view_module_version": "1.5.0",
            "_view_name": "VBoxView",
            "box_style": "",
            "children": [
              "IPY_MODEL_b08feb8ad4564751baa8b16cf664bcfe",
              "IPY_MODEL_7a2e606cc796405984833ac8e87a81e4"
            ],
            "layout": "IPY_MODEL_2f8347957b774e4ca74dde4d9a7de52f"
          }
        },
        "b328c2c4784c4cbcab3c1ebc05fb9d36": {
          "model_module": "@jupyter-widgets/controls",
          "model_module_version": "1.5.0",
          "model_name": "VBoxModel",
          "state": {
            "_dom_classes": [],
            "_model_module": "@jupyter-widgets/controls",
            "_model_module_version": "1.5.0",
            "_model_name": "VBoxModel",
            "_view_count": null,
            "_view_module": "@jupyter-widgets/controls",
            "_view_module_version": "1.5.0",
            "_view_name": "VBoxView",
            "box_style": "",
            "children": [
              "IPY_MODEL_4728e90cb8c546c08f89a2ec156b8c50",
              "IPY_MODEL_ee81bdbc7c834d4ca2e1c864b8a300ef"
            ],
            "layout": "IPY_MODEL_485bc7f0667a41d1aa007ab585cfc7af"
          }
        },
        "b91ef4aa87cf452aa7e8a7e33ddbc2f4": {
          "model_module": "@jupyter-widgets/base",
          "model_module_version": "1.2.0",
          "model_name": "LayoutModel",
          "state": {
            "_model_module": "@jupyter-widgets/base",
            "_model_module_version": "1.2.0",
            "_model_name": "LayoutModel",
            "_view_count": null,
            "_view_module": "@jupyter-widgets/base",
            "_view_module_version": "1.2.0",
            "_view_name": "LayoutView",
            "align_content": null,
            "align_items": null,
            "align_self": null,
            "border": null,
            "bottom": null,
            "display": null,
            "flex": null,
            "flex_flow": null,
            "grid_area": null,
            "grid_auto_columns": null,
            "grid_auto_flow": null,
            "grid_auto_rows": null,
            "grid_column": null,
            "grid_gap": null,
            "grid_row": null,
            "grid_template_areas": null,
            "grid_template_columns": null,
            "grid_template_rows": null,
            "height": null,
            "justify_content": null,
            "justify_items": null,
            "left": null,
            "margin": null,
            "max_height": null,
            "max_width": null,
            "min_height": null,
            "min_width": null,
            "object_fit": null,
            "object_position": null,
            "order": null,
            "overflow": null,
            "overflow_x": null,
            "overflow_y": null,
            "padding": null,
            "right": null,
            "top": null,
            "visibility": null,
            "width": null
          }
        },
        "bc5e8b3dee0b451cbb82981c72121ca5": {
          "model_module": "@jupyter-widgets/base",
          "model_module_version": "1.2.0",
          "model_name": "LayoutModel",
          "state": {
            "_model_module": "@jupyter-widgets/base",
            "_model_module_version": "1.2.0",
            "_model_name": "LayoutModel",
            "_view_count": null,
            "_view_module": "@jupyter-widgets/base",
            "_view_module_version": "1.2.0",
            "_view_name": "LayoutView",
            "align_content": null,
            "align_items": null,
            "align_self": null,
            "border": null,
            "bottom": null,
            "display": null,
            "flex": null,
            "flex_flow": null,
            "grid_area": null,
            "grid_auto_columns": null,
            "grid_auto_flow": null,
            "grid_auto_rows": null,
            "grid_column": null,
            "grid_gap": null,
            "grid_row": null,
            "grid_template_areas": null,
            "grid_template_columns": null,
            "grid_template_rows": null,
            "height": null,
            "justify_content": null,
            "justify_items": null,
            "left": null,
            "margin": null,
            "max_height": null,
            "max_width": null,
            "min_height": null,
            "min_width": null,
            "object_fit": null,
            "object_position": null,
            "order": null,
            "overflow": null,
            "overflow_x": null,
            "overflow_y": null,
            "padding": null,
            "right": null,
            "top": null,
            "visibility": null,
            "width": null
          }
        },
        "bcc03c347b864be988af86406e112e5d": {
          "model_module": "@jupyter-widgets/base",
          "model_module_version": "1.2.0",
          "model_name": "LayoutModel",
          "state": {
            "_model_module": "@jupyter-widgets/base",
            "_model_module_version": "1.2.0",
            "_model_name": "LayoutModel",
            "_view_count": null,
            "_view_module": "@jupyter-widgets/base",
            "_view_module_version": "1.2.0",
            "_view_name": "LayoutView",
            "align_content": null,
            "align_items": null,
            "align_self": null,
            "border": null,
            "bottom": null,
            "display": null,
            "flex": null,
            "flex_flow": null,
            "grid_area": null,
            "grid_auto_columns": null,
            "grid_auto_flow": null,
            "grid_auto_rows": null,
            "grid_column": null,
            "grid_gap": null,
            "grid_row": null,
            "grid_template_areas": null,
            "grid_template_columns": null,
            "grid_template_rows": null,
            "height": null,
            "justify_content": null,
            "justify_items": null,
            "left": null,
            "margin": null,
            "max_height": null,
            "max_width": null,
            "min_height": null,
            "min_width": null,
            "object_fit": null,
            "object_position": null,
            "order": null,
            "overflow": null,
            "overflow_x": null,
            "overflow_y": null,
            "padding": null,
            "right": null,
            "top": null,
            "visibility": null,
            "width": null
          }
        },
        "bd5db879c954471e97e0f9e6cf560669": {
          "model_module": "@jupyter-widgets/base",
          "model_module_version": "1.2.0",
          "model_name": "LayoutModel",
          "state": {
            "_model_module": "@jupyter-widgets/base",
            "_model_module_version": "1.2.0",
            "_model_name": "LayoutModel",
            "_view_count": null,
            "_view_module": "@jupyter-widgets/base",
            "_view_module_version": "1.2.0",
            "_view_name": "LayoutView",
            "align_content": null,
            "align_items": null,
            "align_self": null,
            "border": null,
            "bottom": null,
            "display": null,
            "flex": null,
            "flex_flow": null,
            "grid_area": null,
            "grid_auto_columns": null,
            "grid_auto_flow": null,
            "grid_auto_rows": null,
            "grid_column": null,
            "grid_gap": null,
            "grid_row": null,
            "grid_template_areas": null,
            "grid_template_columns": null,
            "grid_template_rows": null,
            "height": null,
            "justify_content": null,
            "justify_items": null,
            "left": null,
            "margin": null,
            "max_height": null,
            "max_width": null,
            "min_height": null,
            "min_width": null,
            "object_fit": null,
            "object_position": null,
            "order": null,
            "overflow": null,
            "overflow_x": null,
            "overflow_y": null,
            "padding": null,
            "right": null,
            "top": null,
            "visibility": null,
            "width": null
          }
        },
        "bd854b769ea34148a9b8be3c9041c4b5": {
          "model_module": "@jupyter-widgets/base",
          "model_module_version": "1.2.0",
          "model_name": "LayoutModel",
          "state": {
            "_model_module": "@jupyter-widgets/base",
            "_model_module_version": "1.2.0",
            "_model_name": "LayoutModel",
            "_view_count": null,
            "_view_module": "@jupyter-widgets/base",
            "_view_module_version": "1.2.0",
            "_view_name": "LayoutView",
            "align_content": null,
            "align_items": null,
            "align_self": null,
            "border": null,
            "bottom": null,
            "display": null,
            "flex": null,
            "flex_flow": null,
            "grid_area": null,
            "grid_auto_columns": null,
            "grid_auto_flow": null,
            "grid_auto_rows": null,
            "grid_column": null,
            "grid_gap": null,
            "grid_row": null,
            "grid_template_areas": null,
            "grid_template_columns": null,
            "grid_template_rows": null,
            "height": null,
            "justify_content": null,
            "justify_items": null,
            "left": null,
            "margin": null,
            "max_height": null,
            "max_width": null,
            "min_height": null,
            "min_width": null,
            "object_fit": null,
            "object_position": null,
            "order": null,
            "overflow": null,
            "overflow_x": null,
            "overflow_y": null,
            "padding": null,
            "right": null,
            "top": null,
            "visibility": null,
            "width": null
          }
        },
        "c0a49ebf4bce4d43b6772ebf78ed6fc0": {
          "model_module": "@jupyter-widgets/base",
          "model_module_version": "1.2.0",
          "model_name": "LayoutModel",
          "state": {
            "_model_module": "@jupyter-widgets/base",
            "_model_module_version": "1.2.0",
            "_model_name": "LayoutModel",
            "_view_count": null,
            "_view_module": "@jupyter-widgets/base",
            "_view_module_version": "1.2.0",
            "_view_name": "LayoutView",
            "align_content": null,
            "align_items": null,
            "align_self": null,
            "border": null,
            "bottom": null,
            "display": null,
            "flex": null,
            "flex_flow": null,
            "grid_area": null,
            "grid_auto_columns": null,
            "grid_auto_flow": null,
            "grid_auto_rows": null,
            "grid_column": null,
            "grid_gap": null,
            "grid_row": null,
            "grid_template_areas": null,
            "grid_template_columns": null,
            "grid_template_rows": null,
            "height": null,
            "justify_content": null,
            "justify_items": null,
            "left": null,
            "margin": null,
            "max_height": null,
            "max_width": null,
            "min_height": null,
            "min_width": null,
            "object_fit": null,
            "object_position": null,
            "order": null,
            "overflow": null,
            "overflow_x": null,
            "overflow_y": null,
            "padding": null,
            "right": null,
            "top": null,
            "visibility": null,
            "width": null
          }
        },
        "c286c6cca8ec493187aa16dc7e1888c1": {
          "model_module": "@jupyter-widgets/base",
          "model_module_version": "1.2.0",
          "model_name": "LayoutModel",
          "state": {
            "_model_module": "@jupyter-widgets/base",
            "_model_module_version": "1.2.0",
            "_model_name": "LayoutModel",
            "_view_count": null,
            "_view_module": "@jupyter-widgets/base",
            "_view_module_version": "1.2.0",
            "_view_name": "LayoutView",
            "align_content": null,
            "align_items": null,
            "align_self": null,
            "border": null,
            "bottom": null,
            "display": null,
            "flex": null,
            "flex_flow": null,
            "grid_area": null,
            "grid_auto_columns": null,
            "grid_auto_flow": null,
            "grid_auto_rows": null,
            "grid_column": null,
            "grid_gap": null,
            "grid_row": null,
            "grid_template_areas": null,
            "grid_template_columns": null,
            "grid_template_rows": null,
            "height": null,
            "justify_content": null,
            "justify_items": null,
            "left": null,
            "margin": null,
            "max_height": null,
            "max_width": null,
            "min_height": null,
            "min_width": null,
            "object_fit": null,
            "object_position": null,
            "order": null,
            "overflow": null,
            "overflow_x": null,
            "overflow_y": null,
            "padding": null,
            "right": null,
            "top": null,
            "visibility": null,
            "width": null
          }
        },
        "c516c133ad6e472fbfbbbd66060ac645": {
          "model_module": "@jupyter-widgets/controls",
          "model_module_version": "1.5.0",
          "model_name": "DescriptionStyleModel",
          "state": {
            "_model_module": "@jupyter-widgets/controls",
            "_model_module_version": "1.5.0",
            "_model_name": "DescriptionStyleModel",
            "_view_count": null,
            "_view_module": "@jupyter-widgets/base",
            "_view_module_version": "1.2.0",
            "_view_name": "StyleView",
            "description_width": ""
          }
        },
        "c659c85f5fe44fb893522c0e84324719": {
          "model_module": "@jupyter-widgets/controls",
          "model_module_version": "1.5.0",
          "model_name": "FloatProgressModel",
          "state": {
            "_dom_classes": [],
            "_model_module": "@jupyter-widgets/controls",
            "_model_module_version": "1.5.0",
            "_model_name": "FloatProgressModel",
            "_view_count": null,
            "_view_module": "@jupyter-widgets/controls",
            "_view_module_version": "1.5.0",
            "_view_name": "ProgressView",
            "bar_style": "",
            "description": "",
            "description_tooltip": null,
            "layout": "IPY_MODEL_a50d40eba6034a56b3121526a11525a9",
            "max": 1,
            "min": 0,
            "orientation": "horizontal",
            "style": "IPY_MODEL_52b8daec332344038476b3546ef85ade",
            "value": 1
          }
        },
        "c6a1c8cf271f483887da93739dc25ff2": {
          "model_module": "@jupyter-widgets/base",
          "model_module_version": "1.2.0",
          "model_name": "LayoutModel",
          "state": {
            "_model_module": "@jupyter-widgets/base",
            "_model_module_version": "1.2.0",
            "_model_name": "LayoutModel",
            "_view_count": null,
            "_view_module": "@jupyter-widgets/base",
            "_view_module_version": "1.2.0",
            "_view_name": "LayoutView",
            "align_content": null,
            "align_items": null,
            "align_self": null,
            "border": null,
            "bottom": null,
            "display": null,
            "flex": null,
            "flex_flow": null,
            "grid_area": null,
            "grid_auto_columns": null,
            "grid_auto_flow": null,
            "grid_auto_rows": null,
            "grid_column": null,
            "grid_gap": null,
            "grid_row": null,
            "grid_template_areas": null,
            "grid_template_columns": null,
            "grid_template_rows": null,
            "height": null,
            "justify_content": null,
            "justify_items": null,
            "left": null,
            "margin": null,
            "max_height": null,
            "max_width": null,
            "min_height": null,
            "min_width": null,
            "object_fit": null,
            "object_position": null,
            "order": null,
            "overflow": null,
            "overflow_x": null,
            "overflow_y": null,
            "padding": null,
            "right": null,
            "top": null,
            "visibility": null,
            "width": null
          }
        },
        "c76a5ca080aa4d899e4a7fdf36f769dd": {
          "model_module": "@jupyter-widgets/controls",
          "model_module_version": "1.5.0",
          "model_name": "FloatProgressModel",
          "state": {
            "_dom_classes": [],
            "_model_module": "@jupyter-widgets/controls",
            "_model_module_version": "1.5.0",
            "_model_name": "FloatProgressModel",
            "_view_count": null,
            "_view_module": "@jupyter-widgets/controls",
            "_view_module_version": "1.5.0",
            "_view_name": "ProgressView",
            "bar_style": "",
            "description": "",
            "description_tooltip": null,
            "layout": "IPY_MODEL_32f096aaac764928a7bcd609f4436a34",
            "max": 1,
            "min": 0,
            "orientation": "horizontal",
            "style": "IPY_MODEL_190f969d9110497593c061d736828ab7",
            "value": 1
          }
        },
        "c9c0cae30a0d47d8b44ab8addbb007f7": {
          "model_module": "@jupyter-widgets/base",
          "model_module_version": "1.2.0",
          "model_name": "LayoutModel",
          "state": {
            "_model_module": "@jupyter-widgets/base",
            "_model_module_version": "1.2.0",
            "_model_name": "LayoutModel",
            "_view_count": null,
            "_view_module": "@jupyter-widgets/base",
            "_view_module_version": "1.2.0",
            "_view_name": "LayoutView",
            "align_content": null,
            "align_items": null,
            "align_self": null,
            "border": null,
            "bottom": null,
            "display": null,
            "flex": null,
            "flex_flow": null,
            "grid_area": null,
            "grid_auto_columns": null,
            "grid_auto_flow": null,
            "grid_auto_rows": null,
            "grid_column": null,
            "grid_gap": null,
            "grid_row": null,
            "grid_template_areas": null,
            "grid_template_columns": null,
            "grid_template_rows": null,
            "height": null,
            "justify_content": null,
            "justify_items": null,
            "left": null,
            "margin": null,
            "max_height": null,
            "max_width": null,
            "min_height": null,
            "min_width": null,
            "object_fit": null,
            "object_position": null,
            "order": null,
            "overflow": null,
            "overflow_x": null,
            "overflow_y": null,
            "padding": null,
            "right": null,
            "top": null,
            "visibility": null,
            "width": null
          }
        },
        "cade0d0bbca446f09125d9d9a8f6a45c": {
          "model_module": "@jupyter-widgets/base",
          "model_module_version": "1.2.0",
          "model_name": "LayoutModel",
          "state": {
            "_model_module": "@jupyter-widgets/base",
            "_model_module_version": "1.2.0",
            "_model_name": "LayoutModel",
            "_view_count": null,
            "_view_module": "@jupyter-widgets/base",
            "_view_module_version": "1.2.0",
            "_view_name": "LayoutView",
            "align_content": null,
            "align_items": null,
            "align_self": null,
            "border": null,
            "bottom": null,
            "display": null,
            "flex": null,
            "flex_flow": null,
            "grid_area": null,
            "grid_auto_columns": null,
            "grid_auto_flow": null,
            "grid_auto_rows": null,
            "grid_column": null,
            "grid_gap": null,
            "grid_row": null,
            "grid_template_areas": null,
            "grid_template_columns": null,
            "grid_template_rows": null,
            "height": null,
            "justify_content": null,
            "justify_items": null,
            "left": null,
            "margin": null,
            "max_height": null,
            "max_width": null,
            "min_height": null,
            "min_width": null,
            "object_fit": null,
            "object_position": null,
            "order": null,
            "overflow": null,
            "overflow_x": null,
            "overflow_y": null,
            "padding": null,
            "right": null,
            "top": null,
            "visibility": null,
            "width": null
          }
        },
        "cdd08ac15115454ba65cd97f8159ed96": {
          "model_module": "@jupyter-widgets/base",
          "model_module_version": "1.2.0",
          "model_name": "LayoutModel",
          "state": {
            "_model_module": "@jupyter-widgets/base",
            "_model_module_version": "1.2.0",
            "_model_name": "LayoutModel",
            "_view_count": null,
            "_view_module": "@jupyter-widgets/base",
            "_view_module_version": "1.2.0",
            "_view_name": "LayoutView",
            "align_content": null,
            "align_items": null,
            "align_self": null,
            "border": null,
            "bottom": null,
            "display": null,
            "flex": null,
            "flex_flow": null,
            "grid_area": null,
            "grid_auto_columns": null,
            "grid_auto_flow": null,
            "grid_auto_rows": null,
            "grid_column": null,
            "grid_gap": null,
            "grid_row": null,
            "grid_template_areas": null,
            "grid_template_columns": null,
            "grid_template_rows": null,
            "height": null,
            "justify_content": null,
            "justify_items": null,
            "left": null,
            "margin": null,
            "max_height": null,
            "max_width": null,
            "min_height": null,
            "min_width": null,
            "object_fit": null,
            "object_position": null,
            "order": null,
            "overflow": null,
            "overflow_x": null,
            "overflow_y": null,
            "padding": null,
            "right": null,
            "top": null,
            "visibility": null,
            "width": null
          }
        },
        "ceaafd58722945168b705bc5c6a0a253": {
          "model_module": "@jupyter-widgets/controls",
          "model_module_version": "1.5.0",
          "model_name": "LabelModel",
          "state": {
            "_dom_classes": [],
            "_model_module": "@jupyter-widgets/controls",
            "_model_module_version": "1.5.0",
            "_model_name": "LabelModel",
            "_view_count": null,
            "_view_module": "@jupyter-widgets/controls",
            "_view_module_version": "1.5.0",
            "_view_name": "LabelView",
            "description": "",
            "description_tooltip": null,
            "layout": "IPY_MODEL_81f98ca5458a48b89046fbc9c26b89fe",
            "placeholder": "​",
            "style": "IPY_MODEL_c516c133ad6e472fbfbbbd66060ac645",
            "value": " 0.01MB of 0.01MB uploaded (0.00MB deduped)\r"
          }
        },
        "ced92f40c9c946e89cd8d290bdbe4585": {
          "model_module": "@jupyter-widgets/base",
          "model_module_version": "1.2.0",
          "model_name": "LayoutModel",
          "state": {
            "_model_module": "@jupyter-widgets/base",
            "_model_module_version": "1.2.0",
            "_model_name": "LayoutModel",
            "_view_count": null,
            "_view_module": "@jupyter-widgets/base",
            "_view_module_version": "1.2.0",
            "_view_name": "LayoutView",
            "align_content": null,
            "align_items": null,
            "align_self": null,
            "border": null,
            "bottom": null,
            "display": null,
            "flex": null,
            "flex_flow": null,
            "grid_area": null,
            "grid_auto_columns": null,
            "grid_auto_flow": null,
            "grid_auto_rows": null,
            "grid_column": null,
            "grid_gap": null,
            "grid_row": null,
            "grid_template_areas": null,
            "grid_template_columns": null,
            "grid_template_rows": null,
            "height": null,
            "justify_content": null,
            "justify_items": null,
            "left": null,
            "margin": null,
            "max_height": null,
            "max_width": null,
            "min_height": null,
            "min_width": null,
            "object_fit": null,
            "object_position": null,
            "order": null,
            "overflow": null,
            "overflow_x": null,
            "overflow_y": null,
            "padding": null,
            "right": null,
            "top": null,
            "visibility": null,
            "width": null
          }
        },
        "cf1ccffbc0bc43c1bf4f43b29cc77f63": {
          "model_module": "@jupyter-widgets/base",
          "model_module_version": "1.2.0",
          "model_name": "LayoutModel",
          "state": {
            "_model_module": "@jupyter-widgets/base",
            "_model_module_version": "1.2.0",
            "_model_name": "LayoutModel",
            "_view_count": null,
            "_view_module": "@jupyter-widgets/base",
            "_view_module_version": "1.2.0",
            "_view_name": "LayoutView",
            "align_content": null,
            "align_items": null,
            "align_self": null,
            "border": null,
            "bottom": null,
            "display": null,
            "flex": null,
            "flex_flow": null,
            "grid_area": null,
            "grid_auto_columns": null,
            "grid_auto_flow": null,
            "grid_auto_rows": null,
            "grid_column": null,
            "grid_gap": null,
            "grid_row": null,
            "grid_template_areas": null,
            "grid_template_columns": null,
            "grid_template_rows": null,
            "height": null,
            "justify_content": null,
            "justify_items": null,
            "left": null,
            "margin": null,
            "max_height": null,
            "max_width": null,
            "min_height": null,
            "min_width": null,
            "object_fit": null,
            "object_position": null,
            "order": null,
            "overflow": null,
            "overflow_x": null,
            "overflow_y": null,
            "padding": null,
            "right": null,
            "top": null,
            "visibility": null,
            "width": null
          }
        },
        "cf4c73106da84c34a75fffbe71a82f7a": {
          "model_module": "@jupyter-widgets/base",
          "model_module_version": "1.2.0",
          "model_name": "LayoutModel",
          "state": {
            "_model_module": "@jupyter-widgets/base",
            "_model_module_version": "1.2.0",
            "_model_name": "LayoutModel",
            "_view_count": null,
            "_view_module": "@jupyter-widgets/base",
            "_view_module_version": "1.2.0",
            "_view_name": "LayoutView",
            "align_content": null,
            "align_items": null,
            "align_self": null,
            "border": null,
            "bottom": null,
            "display": null,
            "flex": null,
            "flex_flow": null,
            "grid_area": null,
            "grid_auto_columns": null,
            "grid_auto_flow": null,
            "grid_auto_rows": null,
            "grid_column": null,
            "grid_gap": null,
            "grid_row": null,
            "grid_template_areas": null,
            "grid_template_columns": null,
            "grid_template_rows": null,
            "height": null,
            "justify_content": null,
            "justify_items": null,
            "left": null,
            "margin": null,
            "max_height": null,
            "max_width": null,
            "min_height": null,
            "min_width": null,
            "object_fit": null,
            "object_position": null,
            "order": null,
            "overflow": null,
            "overflow_x": null,
            "overflow_y": null,
            "padding": null,
            "right": null,
            "top": null,
            "visibility": null,
            "width": null
          }
        },
        "cf78a59bb6f44c40a1b62fef464b66cb": {
          "model_module": "@jupyter-widgets/base",
          "model_module_version": "1.2.0",
          "model_name": "LayoutModel",
          "state": {
            "_model_module": "@jupyter-widgets/base",
            "_model_module_version": "1.2.0",
            "_model_name": "LayoutModel",
            "_view_count": null,
            "_view_module": "@jupyter-widgets/base",
            "_view_module_version": "1.2.0",
            "_view_name": "LayoutView",
            "align_content": null,
            "align_items": null,
            "align_self": null,
            "border": null,
            "bottom": null,
            "display": null,
            "flex": null,
            "flex_flow": null,
            "grid_area": null,
            "grid_auto_columns": null,
            "grid_auto_flow": null,
            "grid_auto_rows": null,
            "grid_column": null,
            "grid_gap": null,
            "grid_row": null,
            "grid_template_areas": null,
            "grid_template_columns": null,
            "grid_template_rows": null,
            "height": null,
            "justify_content": null,
            "justify_items": null,
            "left": null,
            "margin": null,
            "max_height": null,
            "max_width": null,
            "min_height": null,
            "min_width": null,
            "object_fit": null,
            "object_position": null,
            "order": null,
            "overflow": null,
            "overflow_x": null,
            "overflow_y": null,
            "padding": null,
            "right": null,
            "top": null,
            "visibility": null,
            "width": null
          }
        },
        "d02c8dc393c14a4a924c9c45082ed7f2": {
          "model_module": "@jupyter-widgets/controls",
          "model_module_version": "1.5.0",
          "model_name": "ProgressStyleModel",
          "state": {
            "_model_module": "@jupyter-widgets/controls",
            "_model_module_version": "1.5.0",
            "_model_name": "ProgressStyleModel",
            "_view_count": null,
            "_view_module": "@jupyter-widgets/base",
            "_view_module_version": "1.2.0",
            "_view_name": "StyleView",
            "bar_color": null,
            "description_width": ""
          }
        },
        "d0ac3a01fad648f08cf0d11677c08495": {
          "model_module": "@jupyter-widgets/base",
          "model_module_version": "1.2.0",
          "model_name": "LayoutModel",
          "state": {
            "_model_module": "@jupyter-widgets/base",
            "_model_module_version": "1.2.0",
            "_model_name": "LayoutModel",
            "_view_count": null,
            "_view_module": "@jupyter-widgets/base",
            "_view_module_version": "1.2.0",
            "_view_name": "LayoutView",
            "align_content": null,
            "align_items": null,
            "align_self": null,
            "border": null,
            "bottom": null,
            "display": null,
            "flex": null,
            "flex_flow": null,
            "grid_area": null,
            "grid_auto_columns": null,
            "grid_auto_flow": null,
            "grid_auto_rows": null,
            "grid_column": null,
            "grid_gap": null,
            "grid_row": null,
            "grid_template_areas": null,
            "grid_template_columns": null,
            "grid_template_rows": null,
            "height": null,
            "justify_content": null,
            "justify_items": null,
            "left": null,
            "margin": null,
            "max_height": null,
            "max_width": null,
            "min_height": null,
            "min_width": null,
            "object_fit": null,
            "object_position": null,
            "order": null,
            "overflow": null,
            "overflow_x": null,
            "overflow_y": null,
            "padding": null,
            "right": null,
            "top": null,
            "visibility": null,
            "width": null
          }
        },
        "d186ea5cd13344f9b1db9b290bdc458c": {
          "model_module": "@jupyter-widgets/base",
          "model_module_version": "1.2.0",
          "model_name": "LayoutModel",
          "state": {
            "_model_module": "@jupyter-widgets/base",
            "_model_module_version": "1.2.0",
            "_model_name": "LayoutModel",
            "_view_count": null,
            "_view_module": "@jupyter-widgets/base",
            "_view_module_version": "1.2.0",
            "_view_name": "LayoutView",
            "align_content": null,
            "align_items": null,
            "align_self": null,
            "border": null,
            "bottom": null,
            "display": null,
            "flex": null,
            "flex_flow": null,
            "grid_area": null,
            "grid_auto_columns": null,
            "grid_auto_flow": null,
            "grid_auto_rows": null,
            "grid_column": null,
            "grid_gap": null,
            "grid_row": null,
            "grid_template_areas": null,
            "grid_template_columns": null,
            "grid_template_rows": null,
            "height": null,
            "justify_content": null,
            "justify_items": null,
            "left": null,
            "margin": null,
            "max_height": null,
            "max_width": null,
            "min_height": null,
            "min_width": null,
            "object_fit": null,
            "object_position": null,
            "order": null,
            "overflow": null,
            "overflow_x": null,
            "overflow_y": null,
            "padding": null,
            "right": null,
            "top": null,
            "visibility": null,
            "width": null
          }
        },
        "d1d8c1a72ccf41d395b1fb6652c226ed": {
          "model_module": "@jupyter-widgets/controls",
          "model_module_version": "1.5.0",
          "model_name": "ProgressStyleModel",
          "state": {
            "_model_module": "@jupyter-widgets/controls",
            "_model_module_version": "1.5.0",
            "_model_name": "ProgressStyleModel",
            "_view_count": null,
            "_view_module": "@jupyter-widgets/base",
            "_view_module_version": "1.2.0",
            "_view_name": "StyleView",
            "bar_color": null,
            "description_width": ""
          }
        },
        "d30c9fe65f144e3b84883994166c133d": {
          "model_module": "@jupyter-widgets/controls",
          "model_module_version": "1.5.0",
          "model_name": "ProgressStyleModel",
          "state": {
            "_model_module": "@jupyter-widgets/controls",
            "_model_module_version": "1.5.0",
            "_model_name": "ProgressStyleModel",
            "_view_count": null,
            "_view_module": "@jupyter-widgets/base",
            "_view_module_version": "1.2.0",
            "_view_name": "StyleView",
            "bar_color": null,
            "description_width": ""
          }
        },
        "d57649ed0999438b9b4e632ed380048f": {
          "model_module": "@jupyter-widgets/controls",
          "model_module_version": "1.5.0",
          "model_name": "ProgressStyleModel",
          "state": {
            "_model_module": "@jupyter-widgets/controls",
            "_model_module_version": "1.5.0",
            "_model_name": "ProgressStyleModel",
            "_view_count": null,
            "_view_module": "@jupyter-widgets/base",
            "_view_module_version": "1.2.0",
            "_view_name": "StyleView",
            "bar_color": null,
            "description_width": ""
          }
        },
        "d5cf2f3bf54b413b855be30c796cf611": {
          "model_module": "@jupyter-widgets/controls",
          "model_module_version": "1.5.0",
          "model_name": "LabelModel",
          "state": {
            "_dom_classes": [],
            "_model_module": "@jupyter-widgets/controls",
            "_model_module_version": "1.5.0",
            "_model_name": "LabelModel",
            "_view_count": null,
            "_view_module": "@jupyter-widgets/controls",
            "_view_module_version": "1.5.0",
            "_view_name": "LabelView",
            "description": "",
            "description_tooltip": null,
            "layout": "IPY_MODEL_c9c0cae30a0d47d8b44ab8addbb007f7",
            "placeholder": "​",
            "style": "IPY_MODEL_f4e782eee4b14fe7bfec5fa284ed5b0b",
            "value": " 0.01MB of 0.01MB uploaded (0.00MB deduped)\r"
          }
        },
        "d61a4d8715784cf3bdca2de891234fb6": {
          "model_module": "@jupyter-widgets/controls",
          "model_module_version": "1.5.0",
          "model_name": "ProgressStyleModel",
          "state": {
            "_model_module": "@jupyter-widgets/controls",
            "_model_module_version": "1.5.0",
            "_model_name": "ProgressStyleModel",
            "_view_count": null,
            "_view_module": "@jupyter-widgets/base",
            "_view_module_version": "1.2.0",
            "_view_name": "StyleView",
            "bar_color": null,
            "description_width": ""
          }
        },
        "d6759736884a44de86c94570c9491ba9": {
          "model_module": "@jupyter-widgets/base",
          "model_module_version": "1.2.0",
          "model_name": "LayoutModel",
          "state": {
            "_model_module": "@jupyter-widgets/base",
            "_model_module_version": "1.2.0",
            "_model_name": "LayoutModel",
            "_view_count": null,
            "_view_module": "@jupyter-widgets/base",
            "_view_module_version": "1.2.0",
            "_view_name": "LayoutView",
            "align_content": null,
            "align_items": null,
            "align_self": null,
            "border": null,
            "bottom": null,
            "display": null,
            "flex": null,
            "flex_flow": null,
            "grid_area": null,
            "grid_auto_columns": null,
            "grid_auto_flow": null,
            "grid_auto_rows": null,
            "grid_column": null,
            "grid_gap": null,
            "grid_row": null,
            "grid_template_areas": null,
            "grid_template_columns": null,
            "grid_template_rows": null,
            "height": null,
            "justify_content": null,
            "justify_items": null,
            "left": null,
            "margin": null,
            "max_height": null,
            "max_width": null,
            "min_height": null,
            "min_width": null,
            "object_fit": null,
            "object_position": null,
            "order": null,
            "overflow": null,
            "overflow_x": null,
            "overflow_y": null,
            "padding": null,
            "right": null,
            "top": null,
            "visibility": null,
            "width": null
          }
        },
        "d7027aaa7aaf4f29a296c14f3bc2ce10": {
          "model_module": "@jupyter-widgets/base",
          "model_module_version": "1.2.0",
          "model_name": "LayoutModel",
          "state": {
            "_model_module": "@jupyter-widgets/base",
            "_model_module_version": "1.2.0",
            "_model_name": "LayoutModel",
            "_view_count": null,
            "_view_module": "@jupyter-widgets/base",
            "_view_module_version": "1.2.0",
            "_view_name": "LayoutView",
            "align_content": null,
            "align_items": null,
            "align_self": null,
            "border": null,
            "bottom": null,
            "display": null,
            "flex": null,
            "flex_flow": null,
            "grid_area": null,
            "grid_auto_columns": null,
            "grid_auto_flow": null,
            "grid_auto_rows": null,
            "grid_column": null,
            "grid_gap": null,
            "grid_row": null,
            "grid_template_areas": null,
            "grid_template_columns": null,
            "grid_template_rows": null,
            "height": null,
            "justify_content": null,
            "justify_items": null,
            "left": null,
            "margin": null,
            "max_height": null,
            "max_width": null,
            "min_height": null,
            "min_width": null,
            "object_fit": null,
            "object_position": null,
            "order": null,
            "overflow": null,
            "overflow_x": null,
            "overflow_y": null,
            "padding": null,
            "right": null,
            "top": null,
            "visibility": null,
            "width": null
          }
        },
        "d7dd39625173480ba917075f8ab41776": {
          "model_module": "@jupyter-widgets/base",
          "model_module_version": "1.2.0",
          "model_name": "LayoutModel",
          "state": {
            "_model_module": "@jupyter-widgets/base",
            "_model_module_version": "1.2.0",
            "_model_name": "LayoutModel",
            "_view_count": null,
            "_view_module": "@jupyter-widgets/base",
            "_view_module_version": "1.2.0",
            "_view_name": "LayoutView",
            "align_content": null,
            "align_items": null,
            "align_self": null,
            "border": null,
            "bottom": null,
            "display": null,
            "flex": null,
            "flex_flow": null,
            "grid_area": null,
            "grid_auto_columns": null,
            "grid_auto_flow": null,
            "grid_auto_rows": null,
            "grid_column": null,
            "grid_gap": null,
            "grid_row": null,
            "grid_template_areas": null,
            "grid_template_columns": null,
            "grid_template_rows": null,
            "height": null,
            "justify_content": null,
            "justify_items": null,
            "left": null,
            "margin": null,
            "max_height": null,
            "max_width": null,
            "min_height": null,
            "min_width": null,
            "object_fit": null,
            "object_position": null,
            "order": null,
            "overflow": null,
            "overflow_x": null,
            "overflow_y": null,
            "padding": null,
            "right": null,
            "top": null,
            "visibility": null,
            "width": null
          }
        },
        "da8ad3e8007f49f2bb9c99f51e2cc117": {
          "model_module": "@jupyter-widgets/controls",
          "model_module_version": "1.5.0",
          "model_name": "DescriptionStyleModel",
          "state": {
            "_model_module": "@jupyter-widgets/controls",
            "_model_module_version": "1.5.0",
            "_model_name": "DescriptionStyleModel",
            "_view_count": null,
            "_view_module": "@jupyter-widgets/base",
            "_view_module_version": "1.2.0",
            "_view_name": "StyleView",
            "description_width": ""
          }
        },
        "dd44cfceaf864c36986bfa9556a482f6": {
          "model_module": "@jupyter-widgets/controls",
          "model_module_version": "1.5.0",
          "model_name": "LabelModel",
          "state": {
            "_dom_classes": [],
            "_model_module": "@jupyter-widgets/controls",
            "_model_module_version": "1.5.0",
            "_model_name": "LabelModel",
            "_view_count": null,
            "_view_module": "@jupyter-widgets/controls",
            "_view_module_version": "1.5.0",
            "_view_name": "LabelView",
            "description": "",
            "description_tooltip": null,
            "layout": "IPY_MODEL_bc5e8b3dee0b451cbb82981c72121ca5",
            "placeholder": "​",
            "style": "IPY_MODEL_5eb52d7232534f6e84445f59ffd95c4b",
            "value": " 0.01MB of 0.01MB uploaded (0.00MB deduped)\r"
          }
        },
        "e6d6804081284674ba198e18b8720739": {
          "model_module": "@jupyter-widgets/controls",
          "model_module_version": "1.5.0",
          "model_name": "VBoxModel",
          "state": {
            "_dom_classes": [],
            "_model_module": "@jupyter-widgets/controls",
            "_model_module_version": "1.5.0",
            "_model_name": "VBoxModel",
            "_view_count": null,
            "_view_module": "@jupyter-widgets/controls",
            "_view_module_version": "1.5.0",
            "_view_name": "VBoxView",
            "box_style": "",
            "children": [
              "IPY_MODEL_a18e4a894e03441799c71a32d8dacb8e",
              "IPY_MODEL_6485db1e99874cf29ed295ef67ec7cb8"
            ],
            "layout": "IPY_MODEL_5e08f9a21c744982be3bd122fab2599f"
          }
        },
        "e6efed8e7e704d9bb6814bb1b505d201": {
          "model_module": "@jupyter-widgets/controls",
          "model_module_version": "1.5.0",
          "model_name": "DescriptionStyleModel",
          "state": {
            "_model_module": "@jupyter-widgets/controls",
            "_model_module_version": "1.5.0",
            "_model_name": "DescriptionStyleModel",
            "_view_count": null,
            "_view_module": "@jupyter-widgets/base",
            "_view_module_version": "1.2.0",
            "_view_name": "StyleView",
            "description_width": ""
          }
        },
        "e8503310e7034c79808b9a4cb6a4c9b8": {
          "model_module": "@jupyter-widgets/controls",
          "model_module_version": "1.5.0",
          "model_name": "LabelModel",
          "state": {
            "_dom_classes": [],
            "_model_module": "@jupyter-widgets/controls",
            "_model_module_version": "1.5.0",
            "_model_name": "LabelModel",
            "_view_count": null,
            "_view_module": "@jupyter-widgets/controls",
            "_view_module_version": "1.5.0",
            "_view_name": "LabelView",
            "description": "",
            "description_tooltip": null,
            "layout": "IPY_MODEL_2670df3d536542dda6f48cf323421a38",
            "placeholder": "​",
            "style": "IPY_MODEL_fdedeb6021a145e2a958138adf6cd9b1",
            "value": " 0.01MB of 0.01MB uploaded (0.00MB deduped)\r"
          }
        },
        "ea885453a8f74b4b89167a2562dda959": {
          "model_module": "@jupyter-widgets/base",
          "model_module_version": "1.2.0",
          "model_name": "LayoutModel",
          "state": {
            "_model_module": "@jupyter-widgets/base",
            "_model_module_version": "1.2.0",
            "_model_name": "LayoutModel",
            "_view_count": null,
            "_view_module": "@jupyter-widgets/base",
            "_view_module_version": "1.2.0",
            "_view_name": "LayoutView",
            "align_content": null,
            "align_items": null,
            "align_self": null,
            "border": null,
            "bottom": null,
            "display": null,
            "flex": null,
            "flex_flow": null,
            "grid_area": null,
            "grid_auto_columns": null,
            "grid_auto_flow": null,
            "grid_auto_rows": null,
            "grid_column": null,
            "grid_gap": null,
            "grid_row": null,
            "grid_template_areas": null,
            "grid_template_columns": null,
            "grid_template_rows": null,
            "height": null,
            "justify_content": null,
            "justify_items": null,
            "left": null,
            "margin": null,
            "max_height": null,
            "max_width": null,
            "min_height": null,
            "min_width": null,
            "object_fit": null,
            "object_position": null,
            "order": null,
            "overflow": null,
            "overflow_x": null,
            "overflow_y": null,
            "padding": null,
            "right": null,
            "top": null,
            "visibility": null,
            "width": null
          }
        },
        "ed46fa7443b84cc4bf5d027d642a9541": {
          "model_module": "@jupyter-widgets/controls",
          "model_module_version": "1.5.0",
          "model_name": "DescriptionStyleModel",
          "state": {
            "_model_module": "@jupyter-widgets/controls",
            "_model_module_version": "1.5.0",
            "_model_name": "DescriptionStyleModel",
            "_view_count": null,
            "_view_module": "@jupyter-widgets/base",
            "_view_module_version": "1.2.0",
            "_view_name": "StyleView",
            "description_width": ""
          }
        },
        "ee81bdbc7c834d4ca2e1c864b8a300ef": {
          "model_module": "@jupyter-widgets/controls",
          "model_module_version": "1.5.0",
          "model_name": "FloatProgressModel",
          "state": {
            "_dom_classes": [],
            "_model_module": "@jupyter-widgets/controls",
            "_model_module_version": "1.5.0",
            "_model_name": "FloatProgressModel",
            "_view_count": null,
            "_view_module": "@jupyter-widgets/controls",
            "_view_module_version": "1.5.0",
            "_view_name": "ProgressView",
            "bar_style": "",
            "description": "",
            "description_tooltip": null,
            "layout": "IPY_MODEL_7b34d35a0e424ea4a9b14fa9fc814ce3",
            "max": 1,
            "min": 0,
            "orientation": "horizontal",
            "style": "IPY_MODEL_6a3ec4d103614b02978a54547a0242fd",
            "value": 1
          }
        },
        "eed59190e5854a92b9ecf376e1c6613f": {
          "model_module": "@jupyter-widgets/controls",
          "model_module_version": "1.5.0",
          "model_name": "LabelModel",
          "state": {
            "_dom_classes": [],
            "_model_module": "@jupyter-widgets/controls",
            "_model_module_version": "1.5.0",
            "_model_name": "LabelModel",
            "_view_count": null,
            "_view_module": "@jupyter-widgets/controls",
            "_view_module_version": "1.5.0",
            "_view_name": "LabelView",
            "description": "",
            "description_tooltip": null,
            "layout": "IPY_MODEL_5f8a47d0cecb4bb0aefc5b4b782a5736",
            "placeholder": "​",
            "style": "IPY_MODEL_74dc63d3dacd4897a7f461d8a47ea15a",
            "value": " 0.01MB of 0.01MB uploaded (0.00MB deduped)\r"
          }
        },
        "f0eb473347724bdda18462a5023f387a": {
          "model_module": "@jupyter-widgets/base",
          "model_module_version": "1.2.0",
          "model_name": "LayoutModel",
          "state": {
            "_model_module": "@jupyter-widgets/base",
            "_model_module_version": "1.2.0",
            "_model_name": "LayoutModel",
            "_view_count": null,
            "_view_module": "@jupyter-widgets/base",
            "_view_module_version": "1.2.0",
            "_view_name": "LayoutView",
            "align_content": null,
            "align_items": null,
            "align_self": null,
            "border": null,
            "bottom": null,
            "display": null,
            "flex": null,
            "flex_flow": null,
            "grid_area": null,
            "grid_auto_columns": null,
            "grid_auto_flow": null,
            "grid_auto_rows": null,
            "grid_column": null,
            "grid_gap": null,
            "grid_row": null,
            "grid_template_areas": null,
            "grid_template_columns": null,
            "grid_template_rows": null,
            "height": null,
            "justify_content": null,
            "justify_items": null,
            "left": null,
            "margin": null,
            "max_height": null,
            "max_width": null,
            "min_height": null,
            "min_width": null,
            "object_fit": null,
            "object_position": null,
            "order": null,
            "overflow": null,
            "overflow_x": null,
            "overflow_y": null,
            "padding": null,
            "right": null,
            "top": null,
            "visibility": null,
            "width": null
          }
        },
        "f127abedf57c4526ad81ddca00b1a407": {
          "model_module": "@jupyter-widgets/controls",
          "model_module_version": "1.5.0",
          "model_name": "ProgressStyleModel",
          "state": {
            "_model_module": "@jupyter-widgets/controls",
            "_model_module_version": "1.5.0",
            "_model_name": "ProgressStyleModel",
            "_view_count": null,
            "_view_module": "@jupyter-widgets/base",
            "_view_module_version": "1.2.0",
            "_view_name": "StyleView",
            "bar_color": null,
            "description_width": ""
          }
        },
        "f1302451ebf94daa9d0d9eb8a068ea38": {
          "model_module": "@jupyter-widgets/controls",
          "model_module_version": "1.5.0",
          "model_name": "DescriptionStyleModel",
          "state": {
            "_model_module": "@jupyter-widgets/controls",
            "_model_module_version": "1.5.0",
            "_model_name": "DescriptionStyleModel",
            "_view_count": null,
            "_view_module": "@jupyter-widgets/base",
            "_view_module_version": "1.2.0",
            "_view_name": "StyleView",
            "description_width": ""
          }
        },
        "f1cf0295122c48a381353d81004611cb": {
          "model_module": "@jupyter-widgets/controls",
          "model_module_version": "1.5.0",
          "model_name": "DescriptionStyleModel",
          "state": {
            "_model_module": "@jupyter-widgets/controls",
            "_model_module_version": "1.5.0",
            "_model_name": "DescriptionStyleModel",
            "_view_count": null,
            "_view_module": "@jupyter-widgets/base",
            "_view_module_version": "1.2.0",
            "_view_name": "StyleView",
            "description_width": ""
          }
        },
        "f4d74922d39048739a30c8c9dd2a84fb": {
          "model_module": "@jupyter-widgets/base",
          "model_module_version": "1.2.0",
          "model_name": "LayoutModel",
          "state": {
            "_model_module": "@jupyter-widgets/base",
            "_model_module_version": "1.2.0",
            "_model_name": "LayoutModel",
            "_view_count": null,
            "_view_module": "@jupyter-widgets/base",
            "_view_module_version": "1.2.0",
            "_view_name": "LayoutView",
            "align_content": null,
            "align_items": null,
            "align_self": null,
            "border": null,
            "bottom": null,
            "display": null,
            "flex": null,
            "flex_flow": null,
            "grid_area": null,
            "grid_auto_columns": null,
            "grid_auto_flow": null,
            "grid_auto_rows": null,
            "grid_column": null,
            "grid_gap": null,
            "grid_row": null,
            "grid_template_areas": null,
            "grid_template_columns": null,
            "grid_template_rows": null,
            "height": null,
            "justify_content": null,
            "justify_items": null,
            "left": null,
            "margin": null,
            "max_height": null,
            "max_width": null,
            "min_height": null,
            "min_width": null,
            "object_fit": null,
            "object_position": null,
            "order": null,
            "overflow": null,
            "overflow_x": null,
            "overflow_y": null,
            "padding": null,
            "right": null,
            "top": null,
            "visibility": null,
            "width": null
          }
        },
        "f4e782eee4b14fe7bfec5fa284ed5b0b": {
          "model_module": "@jupyter-widgets/controls",
          "model_module_version": "1.5.0",
          "model_name": "DescriptionStyleModel",
          "state": {
            "_model_module": "@jupyter-widgets/controls",
            "_model_module_version": "1.5.0",
            "_model_name": "DescriptionStyleModel",
            "_view_count": null,
            "_view_module": "@jupyter-widgets/base",
            "_view_module_version": "1.2.0",
            "_view_name": "StyleView",
            "description_width": ""
          }
        },
        "fc7bcbd4f812490994713e0a186f6953": {
          "model_module": "@jupyter-widgets/controls",
          "model_module_version": "1.5.0",
          "model_name": "FloatProgressModel",
          "state": {
            "_dom_classes": [],
            "_model_module": "@jupyter-widgets/controls",
            "_model_module_version": "1.5.0",
            "_model_name": "FloatProgressModel",
            "_view_count": null,
            "_view_module": "@jupyter-widgets/controls",
            "_view_module_version": "1.5.0",
            "_view_name": "ProgressView",
            "bar_style": "",
            "description": "",
            "description_tooltip": null,
            "layout": "IPY_MODEL_8e0b16be41ea4d7f84470d752fc0323d",
            "max": 1,
            "min": 0,
            "orientation": "horizontal",
            "style": "IPY_MODEL_d1d8c1a72ccf41d395b1fb6652c226ed",
            "value": 1
          }
        },
        "fd8cdedfc1ff45438cd93657800bbfcb": {
          "model_module": "@jupyter-widgets/controls",
          "model_module_version": "1.5.0",
          "model_name": "ProgressStyleModel",
          "state": {
            "_model_module": "@jupyter-widgets/controls",
            "_model_module_version": "1.5.0",
            "_model_name": "ProgressStyleModel",
            "_view_count": null,
            "_view_module": "@jupyter-widgets/base",
            "_view_module_version": "1.2.0",
            "_view_name": "StyleView",
            "bar_color": null,
            "description_width": ""
          }
        },
        "fdedeb6021a145e2a958138adf6cd9b1": {
          "model_module": "@jupyter-widgets/controls",
          "model_module_version": "1.5.0",
          "model_name": "DescriptionStyleModel",
          "state": {
            "_model_module": "@jupyter-widgets/controls",
            "_model_module_version": "1.5.0",
            "_model_name": "DescriptionStyleModel",
            "_view_count": null,
            "_view_module": "@jupyter-widgets/base",
            "_view_module_version": "1.2.0",
            "_view_name": "StyleView",
            "description_width": ""
          }
        },
        "ffc2c088d7014421933970b384d0daaf": {
          "model_module": "@jupyter-widgets/controls",
          "model_module_version": "1.5.0",
          "model_name": "FloatProgressModel",
          "state": {
            "_dom_classes": [],
            "_model_module": "@jupyter-widgets/controls",
            "_model_module_version": "1.5.0",
            "_model_name": "FloatProgressModel",
            "_view_count": null,
            "_view_module": "@jupyter-widgets/controls",
            "_view_module_version": "1.5.0",
            "_view_name": "ProgressView",
            "bar_style": "",
            "description": "",
            "description_tooltip": null,
            "layout": "IPY_MODEL_d186ea5cd13344f9b1db9b290bdc458c",
            "max": 1,
            "min": 0,
            "orientation": "horizontal",
            "style": "IPY_MODEL_fd8cdedfc1ff45438cd93657800bbfcb",
            "value": 1
          }
        }
      }
    }
  },
  "nbformat": 4,
  "nbformat_minor": 0
}